{
 "cells": [
  {
   "cell_type": "code",
   "execution_count": 1,
   "metadata": {
    "scrolled": false
   },
   "outputs": [
    {
     "data": {
      "application/vnd.jupyter.widget-view+json": {
       "model_id": "9e33d694841242f399099fd87459c8db",
       "version_major": 2,
       "version_minor": 0
      },
      "text/plain": [
       "VBox()"
      ]
     },
     "metadata": {},
     "output_type": "display_data"
    },
    {
     "name": "stdout",
     "output_type": "stream",
     "text": [
      "Starting Spark application\n"
     ]
    },
    {
     "data": {
      "text/html": [
       "<table>\n",
       "<tr><th>ID</th><th>YARN Application ID</th><th>Kind</th><th>State</th><th>Spark UI</th><th>Driver log</th><th>Current session?</th></tr><tr><td>4</td><td>application_1579219203575_0005</td><td>pyspark</td><td>idle</td><td><a target=\"_blank\" href=\"http://ip-172-31-6-77.us-west-1.compute.internal:20888/proxy/application_1579219203575_0005/\">Link</a></td><td><a target=\"_blank\" href=\"http://ip-172-31-15-97.us-west-1.compute.internal:8042/node/containerlogs/container_1579219203575_0005_01_000001/livy\">Link</a></td><td>✔</td></tr></table>"
      ],
      "text/plain": [
       "<IPython.core.display.HTML object>"
      ]
     },
     "metadata": {},
     "output_type": "display_data"
    },
    {
     "data": {
      "application/vnd.jupyter.widget-view+json": {
       "model_id": "",
       "version_major": 2,
       "version_minor": 0
      },
      "text/plain": [
       "FloatProgress(value=0.0, bar_style='info', description='Progress:', layout=Layout(height='25px', width='50%'),…"
      ]
     },
     "metadata": {},
     "output_type": "display_data"
    },
    {
     "name": "stdout",
     "output_type": "stream",
     "text": [
      "SparkSession available as 'spark'.\n"
     ]
    },
    {
     "data": {
      "application/vnd.jupyter.widget-view+json": {
       "model_id": "",
       "version_major": 2,
       "version_minor": 0
      },
      "text/plain": [
       "FloatProgress(value=0.0, bar_style='info', description='Progress:', layout=Layout(height='25px', width='50%'),…"
      ]
     },
     "metadata": {},
     "output_type": "display_data"
    },
    {
     "name": "stdout",
     "output_type": "stream",
     "text": [
      "<SparkContext master=yarn appName=livy-session-4>"
     ]
    }
   ],
   "source": [
    "sc"
   ]
  },
  {
   "cell_type": "code",
   "execution_count": 51,
   "metadata": {},
   "outputs": [
    {
     "data": {
      "application/vnd.jupyter.widget-view+json": {
       "model_id": "71433acc17b649d5a791db0b41993da2",
       "version_major": 2,
       "version_minor": 0
      },
      "text/plain": [
       "VBox()"
      ]
     },
     "metadata": {},
     "output_type": "display_data"
    },
    {
     "data": {
      "application/vnd.jupyter.widget-view+json": {
       "model_id": "",
       "version_major": 2,
       "version_minor": 0
      },
      "text/plain": [
       "FloatProgress(value=0.0, bar_style='info', description='Progress:', layout=Layout(height='25px', width='50%'),…"
      ]
     },
     "metadata": {},
     "output_type": "display_data"
    }
   ],
   "source": [
    "#from pyspark import SparkContext\n",
    "from pyspark.sql import SparkSession\n",
    "ss = SparkSession.builder.getOrCreate()\n",
    "\n",
    "\n",
    "#sc = SparkContext.getOrCreate()\n",
    "\n"
   ]
  },
  {
   "cell_type": "code",
   "execution_count": null,
   "metadata": {},
   "outputs": [],
   "source": [
    "\"\"\"sc.install_pypi_package('h2o-pysparkling-2.4')\n",
    "sc.install_pypi_package('h2o')\n",
    "from pysparkling import *\n",
    "import h2o\n",
    "ss = SparkSession.builder.getOrCreate()\n",
    "hc = H2OContext.getOrCreate(ss)\"\"\""
   ]
  },
  {
   "cell_type": "code",
   "execution_count": null,
   "metadata": {},
   "outputs": [],
   "source": [
    "## read from S3"
   ]
  },
  {
   "cell_type": "code",
   "execution_count": 52,
   "metadata": {},
   "outputs": [
    {
     "data": {
      "application/vnd.jupyter.widget-view+json": {
       "model_id": "7f4a2ebd99ab4243bb97d944b2e05824",
       "version_major": 2,
       "version_minor": 0
      },
      "text/plain": [
       "VBox()"
      ]
     },
     "metadata": {},
     "output_type": "display_data"
    },
    {
     "data": {
      "application/vnd.jupyter.widget-view+json": {
       "model_id": "",
       "version_major": 2,
       "version_minor": 0
      },
      "text/plain": [
       "FloatProgress(value=0.0, bar_style='info', description='Progress:', layout=Layout(height='25px', width='50%'),…"
      ]
     },
     "metadata": {},
     "output_type": "display_data"
    }
   ],
   "source": [
    "# inner joined data\n",
    "data1 = ss.read.parquet(\"s3a://dc-group2/join_final\")"
   ]
  },
  {
   "cell_type": "code",
   "execution_count": 55,
   "metadata": {},
   "outputs": [
    {
     "data": {
      "application/vnd.jupyter.widget-view+json": {
       "model_id": "c3fd5a36a51c4d53aed4866b4ea6eea2",
       "version_major": 2,
       "version_minor": 0
      },
      "text/plain": [
       "VBox()"
      ]
     },
     "metadata": {},
     "output_type": "display_data"
    },
    {
     "data": {
      "application/vnd.jupyter.widget-view+json": {
       "model_id": "",
       "version_major": 2,
       "version_minor": 0
      },
      "text/plain": [
       "FloatProgress(value=0.0, bar_style='info', description='Progress:', layout=Layout(height='25px', width='50%'),…"
      ]
     },
     "metadata": {},
     "output_type": "display_data"
    },
    {
     "name": "stdout",
     "output_type": "stream",
     "text": [
      "+----------+-----------+----------+-----------+----------+----+--------------------+-----------------+------------------+------------------+-----------------+\n",
      "|State_Name|County_Name|State_Code|County_Code|Date_Local| AQI|                temp|         humidity|          pressure|        wind_speed|   wind_direction|\n",
      "+----------+-----------+----------+-----------+----------+----+--------------------+-----------------+------------------+------------------+-----------------+\n",
      "|   Alabama|  Jefferson|         1|         73|2011-01-01|26.0|  13.100000381469727|78.83333587646484| 991.8375244140625|              3.25|213.0833282470703|\n",
      "|   Alabama|  Jefferson|         1|         73|2011-01-02|30.0|   2.987499952316284|53.66666793823242| 998.9625244140625|2.0333330631256104|238.3333282470703|\n",
      "|   Alabama|  Jefferson|         1|         73|2011-01-03|68.0|  2.4916670322418213|50.20833206176758|  999.120849609375|0.9916669726371765|136.2916717529297|\n",
      "|   Alabama|  Jefferson|         1|         73|2011-01-04|87.0|  5.7708330154418945|53.33333206176758| 995.4000244140625|1.0916670560836792|           166.75|\n",
      "|   Alabama|  Jefferson|         1|         73|2011-01-05|71.0|   7.862500190734863|76.29166412353516|          988.3125| 1.587499976158142|186.5833282470703|\n",
      "|   Alabama|  Jefferson|         1|         73|2011-01-06|38.0|   5.995832920074463|62.54166793823242| 985.5333251953125|2.5083329677581787|           282.75|\n",
      "|   Alabama|  Jefferson|         1|         73|2011-01-07|56.0|   8.583333015441895|49.08333206176758| 978.5999755859375|3.9916670322418213|249.2916717529297|\n",
      "|   Alabama|  Jefferson|         1|         73|2011-01-08|32.0|  3.3458330631256104|43.16666793823242|  985.504150390625| 5.300000190734863|            265.0|\n",
      "|   Alabama|  Jefferson|         1|         73|2011-01-09|37.0|  -2.795833110809326|           54.125| 994.8541870117188| 5.300000190734863|            265.0|\n",
      "|   Alabama|  Jefferson|         1|         73|2011-01-10|34.0|-0.03333299979567528|82.58333587646484| 993.3833618164062| 5.300000190734863|            265.0|\n",
      "|   Alabama|  Jefferson|         1|         73|2011-01-11|37.0| 0.07500000298023224|75.91666412353516| 999.3250122070312| 5.300000190734863|            265.0|\n",
      "|   Alabama|  Jefferson|         1|         73|2011-01-12|40.0|  -4.662499904632568|59.91666793823242|1005.6749877929688| 5.300000190734863|            265.0|\n",
      "|   Alabama|  Jefferson|         1|         73|2011-01-13|61.0| -3.2791669368743896|58.16666793823242|1006.8583374023438| 5.300000190734863|            265.0|\n",
      "|   Alabama|  Jefferson|         1|         73|2011-01-14|63.0|-0.14166699349880219|52.41666793823242|1003.5374755859375| 5.300000190734863|            265.0|\n",
      "|   Alabama|  Jefferson|         1|         73|2011-01-15|78.0|  2.6041669845581055|53.83333206176758| 999.3499755859375| 5.300000190734863|            265.0|\n",
      "|   Alabama|  Jefferson|         1|         73|2011-01-16|73.0|   4.695833206176758|65.41666412353516| 994.8333129882812| 5.300000190734863|            265.0|\n",
      "|   Alabama|  Jefferson|         1|         73|2011-01-17|72.0|   7.599999904632568|62.20833206176758| 988.7333374023438| 5.300000190734863|            265.0|\n",
      "|   Alabama|  Jefferson|         1|         73|2011-01-18|76.0|   8.245833396911621|83.91666412353516| 986.0541381835938| 5.300000190734863|            265.0|\n",
      "|   Alabama|  Jefferson|         1|         73|2011-01-19|54.0|   5.108333110809326|            80.75| 992.2916870117188| 5.300000190734863|            265.0|\n",
      "|   Alabama|  Jefferson|         1|         73|2011-01-20|67.0|   4.404167175292969|78.95833587646484|  991.433349609375| 5.300000190734863|            265.0|\n",
      "+----------+-----------+----------+-----------+----------+----+--------------------+-----------------+------------------+------------------+-----------------+\n",
      "only showing top 20 rows"
     ]
    }
   ],
   "source": [
    "data1 = data1.orderBy(['State_Name', 'County_Name',\n",
    "                       'State_Code', 'County_Code', 'Date_Local'])\n",
    "#data1.show()"
   ]
  },
  {
   "cell_type": "code",
   "execution_count": 56,
   "metadata": {},
   "outputs": [
    {
     "data": {
      "application/vnd.jupyter.widget-view+json": {
       "model_id": "c71a5263f7e84099933479f91aa3434e",
       "version_major": 2,
       "version_minor": 0
      },
      "text/plain": [
       "VBox()"
      ]
     },
     "metadata": {},
     "output_type": "display_data"
    },
    {
     "data": {
      "application/vnd.jupyter.widget-view+json": {
       "model_id": "",
       "version_major": 2,
       "version_minor": 0
      },
      "text/plain": [
       "FloatProgress(value=0.0, bar_style='info', description='Progress:', layout=Layout(height='25px', width='50%'),…"
      ]
     },
     "metadata": {},
     "output_type": "display_data"
    },
    {
     "name": "stdout",
     "output_type": "stream",
     "text": [
      "[('State_Name', 'string'), ('County_Name', 'string'), ('State_Code', 'string'), ('County_Code', 'string'), ('Date_Local', 'string'), ('AQI', 'double'), ('temp', 'double'), ('humidity', 'double'), ('pressure', 'double'), ('wind_speed', 'double'), ('wind_direction', 'double'), ('State_Code_num', 'int'), ('County_Code_num', 'int')]"
     ]
    }
   ],
   "source": [
    "data1 = data1.withColumn(\"State_Code_num\", data1['State_Code'].astype('integer'))\n",
    "data1 = data1.withColumn(\"County_Code_num\", data1['County_Code'].astype('integer'))\n",
    "data1.dtypes"
   ]
  },
  {
   "cell_type": "code",
   "execution_count": 57,
   "metadata": {},
   "outputs": [
    {
     "data": {
      "application/vnd.jupyter.widget-view+json": {
       "model_id": "369210f607f74df38d90b1eb876ea1ff",
       "version_major": 2,
       "version_minor": 0
      },
      "text/plain": [
       "VBox()"
      ]
     },
     "metadata": {},
     "output_type": "display_data"
    },
    {
     "data": {
      "application/vnd.jupyter.widget-view+json": {
       "model_id": "",
       "version_major": 2,
       "version_minor": 0
      },
      "text/plain": [
       "FloatProgress(value=0.0, bar_style='info', description='Progress:', layout=Layout(height='25px', width='50%'),…"
      ]
     },
     "metadata": {},
     "output_type": "display_data"
    },
    {
     "name": "stdout",
     "output_type": "stream",
     "text": [
      "599673"
     ]
    }
   ],
   "source": [
    "data1.count()"
   ]
  },
  {
   "cell_type": "markdown",
   "metadata": {},
   "source": [
    "## Feature Engineering"
   ]
  },
  {
   "cell_type": "code",
   "execution_count": 58,
   "metadata": {},
   "outputs": [
    {
     "data": {
      "application/vnd.jupyter.widget-view+json": {
       "model_id": "f00516473cc942e6b170e8502a8b33b5",
       "version_major": 2,
       "version_minor": 0
      },
      "text/plain": [
       "VBox()"
      ]
     },
     "metadata": {},
     "output_type": "display_data"
    },
    {
     "data": {
      "application/vnd.jupyter.widget-view+json": {
       "model_id": "",
       "version_major": 2,
       "version_minor": 0
      },
      "text/plain": [
       "FloatProgress(value=0.0, bar_style='info', description='Progress:', layout=Layout(height='25px', width='50%'),…"
      ]
     },
     "metadata": {},
     "output_type": "display_data"
    }
   ],
   "source": [
    "import datetime\n",
    "from pyspark.sql.functions import year, month, dayofmonth,dayofweek"
   ]
  },
  {
   "cell_type": "code",
   "execution_count": 59,
   "metadata": {},
   "outputs": [
    {
     "data": {
      "application/vnd.jupyter.widget-view+json": {
       "model_id": "cc4c8783d0144e239d3bfa8c3a0772c2",
       "version_major": 2,
       "version_minor": 0
      },
      "text/plain": [
       "VBox()"
      ]
     },
     "metadata": {},
     "output_type": "display_data"
    },
    {
     "data": {
      "application/vnd.jupyter.widget-view+json": {
       "model_id": "",
       "version_major": 2,
       "version_minor": 0
      },
      "text/plain": [
       "FloatProgress(value=0.0, bar_style='info', description='Progress:', layout=Layout(height='25px', width='50%'),…"
      ]
     },
     "metadata": {},
     "output_type": "display_data"
    }
   ],
   "source": [
    "data1_date = data1.withColumn(\"Date\", data1['Date_Local'].astype('Date'))\n"
   ]
  },
  {
   "cell_type": "code",
   "execution_count": 60,
   "metadata": {},
   "outputs": [
    {
     "data": {
      "application/vnd.jupyter.widget-view+json": {
       "model_id": "219e9871c041451d95c5c22989a982e5",
       "version_major": 2,
       "version_minor": 0
      },
      "text/plain": [
       "VBox()"
      ]
     },
     "metadata": {},
     "output_type": "display_data"
    },
    {
     "data": {
      "application/vnd.jupyter.widget-view+json": {
       "model_id": "",
       "version_major": 2,
       "version_minor": 0
      },
      "text/plain": [
       "FloatProgress(value=0.0, bar_style='info', description='Progress:', layout=Layout(height='25px', width='50%'),…"
      ]
     },
     "metadata": {},
     "output_type": "display_data"
    },
    {
     "name": "stdout",
     "output_type": "stream",
     "text": [
      "+----------+-----------+----------+-----------+----------+----+--------------------+-----------------+------------------+------------------+-----------------+--------------+---------------+----------+\n",
      "|State_Name|County_Name|State_Code|County_Code|Date_Local| AQI|                temp|         humidity|          pressure|        wind_speed|   wind_direction|State_Code_num|County_Code_num|      Date|\n",
      "+----------+-----------+----------+-----------+----------+----+--------------------+-----------------+------------------+------------------+-----------------+--------------+---------------+----------+\n",
      "|   Alabama|  Jefferson|         1|         73|2011-01-01|26.0|  13.100000381469727|78.83333587646484| 991.8375244140625|              3.25|213.0833282470703|             1|             73|2011-01-01|\n",
      "|   Alabama|  Jefferson|         1|         73|2011-01-02|30.0|   2.987499952316284|53.66666793823242| 998.9625244140625|2.0333330631256104|238.3333282470703|             1|             73|2011-01-02|\n",
      "|   Alabama|  Jefferson|         1|         73|2011-01-03|68.0|  2.4916670322418213|50.20833206176758|  999.120849609375|0.9916669726371765|136.2916717529297|             1|             73|2011-01-03|\n",
      "|   Alabama|  Jefferson|         1|         73|2011-01-04|87.0|  5.7708330154418945|53.33333206176758| 995.4000244140625|1.0916670560836792|           166.75|             1|             73|2011-01-04|\n",
      "|   Alabama|  Jefferson|         1|         73|2011-01-05|71.0|   7.862500190734863|76.29166412353516|          988.3125| 1.587499976158142|186.5833282470703|             1|             73|2011-01-05|\n",
      "|   Alabama|  Jefferson|         1|         73|2011-01-06|38.0|   5.995832920074463|62.54166793823242| 985.5333251953125|2.5083329677581787|           282.75|             1|             73|2011-01-06|\n",
      "|   Alabama|  Jefferson|         1|         73|2011-01-07|56.0|   8.583333015441895|49.08333206176758| 978.5999755859375|3.9916670322418213|249.2916717529297|             1|             73|2011-01-07|\n",
      "|   Alabama|  Jefferson|         1|         73|2011-01-08|32.0|  3.3458330631256104|43.16666793823242|  985.504150390625| 5.300000190734863|            265.0|             1|             73|2011-01-08|\n",
      "|   Alabama|  Jefferson|         1|         73|2011-01-09|37.0|  -2.795833110809326|           54.125| 994.8541870117188| 5.300000190734863|            265.0|             1|             73|2011-01-09|\n",
      "|   Alabama|  Jefferson|         1|         73|2011-01-10|34.0|-0.03333299979567528|82.58333587646484| 993.3833618164062| 5.300000190734863|            265.0|             1|             73|2011-01-10|\n",
      "|   Alabama|  Jefferson|         1|         73|2011-01-11|37.0| 0.07500000298023224|75.91666412353516| 999.3250122070312| 5.300000190734863|            265.0|             1|             73|2011-01-11|\n",
      "|   Alabama|  Jefferson|         1|         73|2011-01-12|40.0|  -4.662499904632568|59.91666793823242|1005.6749877929688| 5.300000190734863|            265.0|             1|             73|2011-01-12|\n",
      "|   Alabama|  Jefferson|         1|         73|2011-01-13|61.0| -3.2791669368743896|58.16666793823242|1006.8583374023438| 5.300000190734863|            265.0|             1|             73|2011-01-13|\n",
      "|   Alabama|  Jefferson|         1|         73|2011-01-14|63.0|-0.14166699349880219|52.41666793823242|1003.5374755859375| 5.300000190734863|            265.0|             1|             73|2011-01-14|\n",
      "|   Alabama|  Jefferson|         1|         73|2011-01-15|78.0|  2.6041669845581055|53.83333206176758| 999.3499755859375| 5.300000190734863|            265.0|             1|             73|2011-01-15|\n",
      "|   Alabama|  Jefferson|         1|         73|2011-01-16|73.0|   4.695833206176758|65.41666412353516| 994.8333129882812| 5.300000190734863|            265.0|             1|             73|2011-01-16|\n",
      "|   Alabama|  Jefferson|         1|         73|2011-01-17|72.0|   7.599999904632568|62.20833206176758| 988.7333374023438| 5.300000190734863|            265.0|             1|             73|2011-01-17|\n",
      "|   Alabama|  Jefferson|         1|         73|2011-01-18|76.0|   8.245833396911621|83.91666412353516| 986.0541381835938| 5.300000190734863|            265.0|             1|             73|2011-01-18|\n",
      "|   Alabama|  Jefferson|         1|         73|2011-01-19|54.0|   5.108333110809326|            80.75| 992.2916870117188| 5.300000190734863|            265.0|             1|             73|2011-01-19|\n",
      "|   Alabama|  Jefferson|         1|         73|2011-01-20|67.0|   4.404167175292969|78.95833587646484|  991.433349609375| 5.300000190734863|            265.0|             1|             73|2011-01-20|\n",
      "+----------+-----------+----------+-----------+----------+----+--------------------+-----------------+------------------+------------------+-----------------+--------------+---------------+----------+\n",
      "only showing top 20 rows"
     ]
    }
   ],
   "source": [
    "data1_date.show()"
   ]
  },
  {
   "cell_type": "code",
   "execution_count": 61,
   "metadata": {},
   "outputs": [
    {
     "data": {
      "application/vnd.jupyter.widget-view+json": {
       "model_id": "2ff6b300924e4ab48a9b6d91075189e4",
       "version_major": 2,
       "version_minor": 0
      },
      "text/plain": [
       "VBox()"
      ]
     },
     "metadata": {},
     "output_type": "display_data"
    },
    {
     "data": {
      "application/vnd.jupyter.widget-view+json": {
       "model_id": "",
       "version_major": 2,
       "version_minor": 0
      },
      "text/plain": [
       "FloatProgress(value=0.0, bar_style='info', description='Progress:', layout=Layout(height='25px', width='50%'),…"
      ]
     },
     "metadata": {},
     "output_type": "display_data"
    },
    {
     "name": "stdout",
     "output_type": "stream",
     "text": [
      "['State_Name', 'County_Name', 'State_Code', 'County_Code', 'Date_Local', 'AQI', 'temp', 'humidity', 'pressure', 'wind_speed', 'wind_direction', 'State_Code_num', 'County_Code_num', 'Date']"
     ]
    }
   ],
   "source": [
    "data1_date.columns"
   ]
  },
  {
   "cell_type": "code",
   "execution_count": 62,
   "metadata": {},
   "outputs": [
    {
     "data": {
      "application/vnd.jupyter.widget-view+json": {
       "model_id": "14a1bcce06ff432ea55a0c5c4df9bec9",
       "version_major": 2,
       "version_minor": 0
      },
      "text/plain": [
       "VBox()"
      ]
     },
     "metadata": {},
     "output_type": "display_data"
    },
    {
     "data": {
      "application/vnd.jupyter.widget-view+json": {
       "model_id": "",
       "version_major": 2,
       "version_minor": 0
      },
      "text/plain": [
       "FloatProgress(value=0.0, bar_style='info', description='Progress:', layout=Layout(height='25px', width='50%'),…"
      ]
     },
     "metadata": {},
     "output_type": "display_data"
    }
   ],
   "source": [
    "data1_date = data1_date.select('State_Name',\n",
    "                               'County_Name',\n",
    "                               'State_Code_num',\n",
    "                               'County_Code_num',\n",
    "                               'Date',\n",
    "                                year(\"Date\").alias('year'),\n",
    "                               month(\"Date\").alias('month'),\n",
    "                               dayofmonth(\"Date\").alias('day'),\n",
    "                               dayofweek('Date').alias('dow'),\n",
    "                               'temp',\n",
    "                               'humidity',\n",
    "                               'pressure',\n",
    "                               'wind_speed',\n",
    "                               'wind_direction',\n",
    "                               'AQI'\n",
    "                               \n",
    "                              )"
   ]
  },
  {
   "cell_type": "code",
   "execution_count": 63,
   "metadata": {},
   "outputs": [
    {
     "data": {
      "application/vnd.jupyter.widget-view+json": {
       "model_id": "666dc93ced294211a08e651d6ece8d00",
       "version_major": 2,
       "version_minor": 0
      },
      "text/plain": [
       "VBox()"
      ]
     },
     "metadata": {},
     "output_type": "display_data"
    },
    {
     "data": {
      "application/vnd.jupyter.widget-view+json": {
       "model_id": "",
       "version_major": 2,
       "version_minor": 0
      },
      "text/plain": [
       "FloatProgress(value=0.0, bar_style='info', description='Progress:', layout=Layout(height='25px', width='50%'),…"
      ]
     },
     "metadata": {},
     "output_type": "display_data"
    }
   ],
   "source": [
    "data1_date = data1_date.withColumnRenamed('AQI','label')"
   ]
  },
  {
   "cell_type": "code",
   "execution_count": 64,
   "metadata": {},
   "outputs": [
    {
     "data": {
      "application/vnd.jupyter.widget-view+json": {
       "model_id": "42080d30f0db48b895ddf3858f582bac",
       "version_major": 2,
       "version_minor": 0
      },
      "text/plain": [
       "VBox()"
      ]
     },
     "metadata": {},
     "output_type": "display_data"
    },
    {
     "data": {
      "application/vnd.jupyter.widget-view+json": {
       "model_id": "",
       "version_major": 2,
       "version_minor": 0
      },
      "text/plain": [
       "FloatProgress(value=0.0, bar_style='info', description='Progress:', layout=Layout(height='25px', width='50%'),…"
      ]
     },
     "metadata": {},
     "output_type": "display_data"
    },
    {
     "name": "stdout",
     "output_type": "stream",
     "text": [
      "['State_Name', 'County_Name', 'State_Code_num', 'County_Code_num', 'Date', 'year', 'month', 'day', 'dow', 'temp', 'humidity', 'pressure', 'wind_speed', 'wind_direction', 'label']"
     ]
    }
   ],
   "source": [
    "data1_date.columns"
   ]
  },
  {
   "cell_type": "code",
   "execution_count": 65,
   "metadata": {},
   "outputs": [
    {
     "data": {
      "application/vnd.jupyter.widget-view+json": {
       "model_id": "b90fc05603e34dc2a987c69671ebde05",
       "version_major": 2,
       "version_minor": 0
      },
      "text/plain": [
       "VBox()"
      ]
     },
     "metadata": {},
     "output_type": "display_data"
    },
    {
     "data": {
      "application/vnd.jupyter.widget-view+json": {
       "model_id": "",
       "version_major": 2,
       "version_minor": 0
      },
      "text/plain": [
       "FloatProgress(value=0.0, bar_style='info', description='Progress:', layout=Layout(height='25px', width='50%'),…"
      ]
     },
     "metadata": {},
     "output_type": "display_data"
    }
   ],
   "source": [
    "data1_select = data1_date.select(\n",
    "                               'State_Code_num',\n",
    "                               'County_Code_num',\n",
    "                                year(\"Date\").alias('year'),\n",
    "                                month(\"Date\").alias('month'),\n",
    "                                dayofmonth(\"Date\").alias('day'),\n",
    "                                dayofweek('Date').alias('dow'),\n",
    "                               'temp',\n",
    "                               'humidity',\n",
    "                               'pressure',\n",
    "                               'wind_speed',\n",
    "                               'wind_direction',\n",
    "                               'label'\n",
    "                              )"
   ]
  },
  {
   "cell_type": "code",
   "execution_count": 66,
   "metadata": {},
   "outputs": [
    {
     "data": {
      "application/vnd.jupyter.widget-view+json": {
       "model_id": "ce9e27e534f64dee891d24ed5a887696",
       "version_major": 2,
       "version_minor": 0
      },
      "text/plain": [
       "VBox()"
      ]
     },
     "metadata": {},
     "output_type": "display_data"
    },
    {
     "data": {
      "application/vnd.jupyter.widget-view+json": {
       "model_id": "",
       "version_major": 2,
       "version_minor": 0
      },
      "text/plain": [
       "FloatProgress(value=0.0, bar_style='info', description='Progress:', layout=Layout(height='25px', width='50%'),…"
      ]
     },
     "metadata": {},
     "output_type": "display_data"
    }
   ],
   "source": [
    "# Merging the data with Vector Assembler.\n",
    "from pyspark.ml.feature import VectorAssembler\n",
    "va = VectorAssembler(outputCol=\"features\", inputCols=data1_select.columns[0:-1]) #except the last col.\n",
    "data1_va = va.transform(data1_select).select(\"features\", \"label\")"
   ]
  },
  {
   "cell_type": "markdown",
   "metadata": {},
   "source": [
    "## Train RF model"
   ]
  },
  {
   "cell_type": "code",
   "execution_count": 67,
   "metadata": {},
   "outputs": [
    {
     "data": {
      "application/vnd.jupyter.widget-view+json": {
       "model_id": "b8806ca276184c39811939c04ed07907",
       "version_major": 2,
       "version_minor": 0
      },
      "text/plain": [
       "VBox()"
      ]
     },
     "metadata": {},
     "output_type": "display_data"
    },
    {
     "data": {
      "application/vnd.jupyter.widget-view+json": {
       "model_id": "",
       "version_major": 2,
       "version_minor": 0
      },
      "text/plain": [
       "FloatProgress(value=0.0, bar_style='info', description='Progress:', layout=Layout(height='25px', width='50%'),…"
      ]
     },
     "metadata": {},
     "output_type": "display_data"
    }
   ],
   "source": [
    "# train-test split\n",
    "data1sets = data1_va.randomSplit([0.8, 0.2])\n",
    "data1_train = data1sets[0].cache()\n",
    "data1_test = data1sets[1].cache()"
   ]
  },
  {
   "cell_type": "code",
   "execution_count": 68,
   "metadata": {
    "scrolled": true
   },
   "outputs": [
    {
     "data": {
      "application/vnd.jupyter.widget-view+json": {
       "model_id": "c5d9c4223de54c3aa76506199b3adabf",
       "version_major": 2,
       "version_minor": 0
      },
      "text/plain": [
       "VBox()"
      ]
     },
     "metadata": {},
     "output_type": "display_data"
    },
    {
     "data": {
      "application/vnd.jupyter.widget-view+json": {
       "model_id": "",
       "version_major": 2,
       "version_minor": 0
      },
      "text/plain": [
       "FloatProgress(value=0.0, bar_style='info', description='Progress:', layout=Layout(height='25px', width='50%'),…"
      ]
     },
     "metadata": {},
     "output_type": "display_data"
    },
    {
     "name": "stdout",
     "output_type": "stream",
     "text": [
      "RandomForestRegressionModel (uid=RandomForestRegressor_34d2293154ce) with 20 trees\n",
      "  Tree 0 (weight 1.0):\n",
      "    If (feature 1 <= 2.0)\n",
      "     If (feature 8 <= 885.1333312988281)\n",
      "      If (feature 8 <= 877.1458435058594)\n",
      "       If (feature 6 <= 52.37202344621931)\n",
      "        If (feature 4 <= 1.5)\n",
      "         Predict: 67.48387096774194\n",
      "        Else (feature 4 > 1.5)\n",
      "         Predict: 49.39601769911504\n",
      "       Else (feature 6 > 52.37202344621931)\n",
      "        If (feature 7 <= 74.29374694824219)\n",
      "         Predict: 61.515337423312886\n",
      "        Else (feature 7 > 74.29374694824219)\n",
      "         Predict: 147.41256830601094\n",
      "      Else (feature 8 > 877.1458435058594)\n",
      "       If (feature 2 <= 2007.5)\n",
      "        If (feature 10 <= 64.10416507720947)\n",
      "         Predict: 33.861702127659576\n",
      "        Else (feature 10 > 64.10416507720947)\n",
      "         Predict: 155.0066225165563\n",
      "       Else (feature 2 > 2007.5)\n",
      "        If (feature 2 <= 2010.5)\n",
      "         Predict: 171.7578027465668\n",
      "        Else (feature 2 > 2010.5)\n",
      "         Predict: 140.92594537815125\n",
      "     Else (feature 8 > 885.1333312988281)\n",
      "      If (feature 7 <= 66.39583206176758)\n",
      "       If (feature 2 <= 1998.5)\n",
      "        If (feature 10 <= 128.91551187303332)\n",
      "         Predict: 55.97093023255814\n",
      "        Else (feature 10 > 128.91551187303332)\n",
      "         Predict: 39.20597014925373\n",
      "       Else (feature 2 > 1998.5)\n",
      "        If (feature 6 <= 73.328125)\n",
      "         Predict: 44.62213022205495\n",
      "        Else (feature 6 > 73.328125)\n",
      "         Predict: 67.86512261580381\n",
      "      Else (feature 7 > 66.39583206176758)\n",
      "       If (feature 9 <= 7.9864583015441895)\n",
      "        If (feature 2 <= 2000.5)\n",
      "         Predict: 38.0822550831793\n",
      "        Else (feature 2 > 2000.5)\n",
      "         Predict: 48.48925619834711\n",
      "       Else (feature 9 > 7.9864583015441895)\n",
      "        If (feature 2 <= 2006.5)\n",
      "         Predict: 15.987341772151899\n",
      "        Else (feature 2 > 2006.5)\n",
      "         Predict: 37.611111111111114\n",
      "    Else (feature 1 > 2.0)\n",
      "     If (feature 0 <= 7.0)\n",
      "      If (feature 3 <= 4.5)\n",
      "       If (feature 8 <= 983.4624938964844)\n",
      "        If (feature 4 <= 30.5)\n",
      "         Predict: 71.81796206768315\n",
      "        Else (feature 4 > 30.5)\n",
      "         Predict: 133.09708737864077\n",
      "       Else (feature 8 > 983.4624938964844)\n",
      "        If (feature 9 <= 3.6130951813289096)\n",
      "         Predict: 63.76220145379024\n",
      "        Else (feature 9 > 3.6130951813289096)\n",
      "         Predict: 49.051940415523326\n",
      "      Else (feature 3 > 4.5)\n",
      "       If (feature 6 <= 73.328125)\n",
      "        If (feature 9 <= 13.75)\n",
      "         Predict: 65.61447135517852\n",
      "        Else (feature 9 > 13.75)\n",
      "         Predict: 789.5641025641025\n",
      "       Else (feature 6 > 73.328125)\n",
      "        If (feature 0 <= 4.0)\n",
      "         Predict: 58.45876288659794\n",
      "        Else (feature 0 > 4.0)\n",
      "         Predict: 104.20697129974855\n",
      "     Else (feature 0 > 7.0)\n",
      "      If (feature 6 <= 68.63154711042131)\n",
      "       If (feature 6 <= 59.29166730244954)\n",
      "        If (feature 3 <= 5.5)\n",
      "         Predict: 41.98614116740284\n",
      "        Else (feature 3 > 5.5)\n",
      "         Predict: 38.11885917164406\n",
      "       Else (feature 6 > 59.29166730244954)\n",
      "        If (feature 2 <= 2003.5)\n",
      "         Predict: 54.812886785584276\n",
      "        Else (feature 2 > 2003.5)\n",
      "         Predict: 44.2168873319252\n",
      "      Else (feature 6 > 68.63154711042131)\n",
      "       If (feature 2 <= 2012.5)\n",
      "        If (feature 6 <= 76.64583206176758)\n",
      "         Predict: 59.1844793223717\n",
      "        Else (feature 6 > 76.64583206176758)\n",
      "         Predict: 75.73110762353166\n",
      "       Else (feature 2 > 2012.5)\n",
      "        If (feature 0 <= 64.0)\n",
      "         Predict: 51.11811103657173\n",
      "        Else (feature 0 > 64.0)\n",
      "         Predict: 24.089887640449437\n",
      "  Tree 1 (weight 1.0):\n",
      "    If (feature 0 <= 7.0)\n",
      "     If (feature 9 <= 13.75)\n",
      "      If (feature 6 <= 71.74479103088379)\n",
      "       If (feature 6 <= 65.4602286598899)\n",
      "        If (feature 1 <= 38.0)\n",
      "         Predict: 66.96192921737189\n",
      "        Else (feature 1 > 38.0)\n",
      "         Predict: 58.18186186710935\n",
      "       Else (feature 6 > 65.4602286598899)\n",
      "        If (feature 10 <= 246.05208587646484)\n",
      "         Predict: 76.01188589540412\n",
      "        Else (feature 10 > 246.05208587646484)\n",
      "         Predict: 59.233047544816834\n",
      "      Else (feature 6 > 71.74479103088379)\n",
      "       If (feature 1 <= 28.0)\n",
      "        If (feature 1 <= 22.0)\n",
      "         Predict: 102.23444108761329\n",
      "        Else (feature 1 > 22.0)\n",
      "         Predict: 69.50022232103157\n",
      "       Else (feature 1 > 28.0)\n",
      "        If (feature 9 <= 2.0572914630174637)\n",
      "         Predict: 64.03565640194489\n",
      "        Else (feature 9 > 2.0572914630174637)\n",
      "         Predict: 108.5546875\n",
      "     Else (feature 9 > 13.75)\n",
      "      If (feature 8 <= 885.1333312988281)\n",
      "       If (feature 2 <= 2011.5)\n",
      "        If (feature 4 <= 1.5)\n",
      "         Predict: 13276.0\n",
      "        Else (feature 4 > 1.5)\n",
      "         Predict: 1365.4285714285713\n",
      "       Else (feature 2 > 2011.5)\n",
      "        If (feature 3 <= 4.5)\n",
      "         Predict: 112.4074074074074\n",
      "        Else (feature 3 > 4.5)\n",
      "         Predict: 473.0833333333333\n",
      "      Else (feature 8 > 885.1333312988281)\n",
      "       If (feature 7 <= 58.41621494293213)\n",
      "        If (feature 0 <= 4.0)\n",
      "         Predict: 56.2\n",
      "        Else (feature 0 > 4.0)\n",
      "         Predict: 72.83673469387755\n",
      "       Else (feature 7 > 58.41621494293213)\n",
      "        If (feature 10 <= 146.08333206176758)\n",
      "         Predict: 49.3\n",
      "        Else (feature 10 > 146.08333206176758)\n",
      "         Predict: 36.44444444444444\n",
      "    Else (feature 0 > 7.0)\n",
      "     If (feature 10 <= 254.16666412353516)\n",
      "      If (feature 6 <= 57.68310239579942)\n",
      "       If (feature 7 <= 51.70625019073486)\n",
      "        If (feature 1 <= 140.0)\n",
      "         Predict: 44.225062531265635\n",
      "        Else (feature 1 > 140.0)\n",
      "         Predict: 52.836780463493646\n",
      "       Else (feature 7 > 51.70625019073486)\n",
      "        If (feature 8 <= 885.1333312988281)\n",
      "         Predict: 46.25588195600342\n",
      "        Else (feature 8 > 885.1333312988281)\n",
      "         Predict: 39.91815130389879\n",
      "      Else (feature 6 > 57.68310239579942)\n",
      "       If (feature 8 <= 885.1333312988281)\n",
      "        If (feature 3 <= 3.5)\n",
      "         Predict: 142.10227272727272\n",
      "        Else (feature 3 > 3.5)\n",
      "         Predict: 67.14576330126347\n",
      "       Else (feature 8 > 885.1333312988281)\n",
      "        If (feature 7 <= 75.54097112019858)\n",
      "         Predict: 58.00393468216629\n",
      "        Else (feature 7 > 75.54097112019858)\n",
      "         Predict: 46.03691174510065\n",
      "     Else (feature 10 > 254.16666412353516)\n",
      "      If (feature 6 <= 70.20753156221829)\n",
      "       If (feature 3 <= 8.5)\n",
      "        If (feature 0 <= 41.5)\n",
      "         Predict: 38.64973535939901\n",
      "        Else (feature 0 > 41.5)\n",
      "         Predict: 46.571056987467486\n",
      "       Else (feature 3 > 8.5)\n",
      "        If (feature 8 <= 899.2708435058594)\n",
      "         Predict: 41.18622628250176\n",
      "        Else (feature 8 > 899.2708435058594)\n",
      "         Predict: 33.90780849244799\n",
      "      Else (feature 6 > 70.20753156221829)\n",
      "       If (feature 0 <= 20.5)\n",
      "        If (feature 9 <= 1.0941664665937423)\n",
      "         Predict: 55.61135371179039\n",
      "        Else (feature 9 > 1.0941664665937423)\n",
      "         Predict: 47.26496739774748\n",
      "       Else (feature 0 > 20.5)\n",
      "        If (feature 8 <= 805.375)\n",
      "         Predict: 83.63265306122449\n",
      "        Else (feature 8 > 805.375)\n",
      "         Predict: 55.05446194225722\n",
      "  Tree 2 (weight 1.0):\n",
      "    If (feature 7 <= 45.55000114440918)\n",
      "     If (feature 6 <= 74.87532102144681)\n",
      "      If (feature 10 <= 254.16666412353516)\n",
      "       If (feature 1 <= 26.0)\n",
      "        If (feature 2 <= 2008.5)\n",
      "         Predict: 55.998971193415635\n",
      "        Else (feature 2 > 2008.5)\n",
      "         Predict: 49.87976866883117\n",
      "       Else (feature 1 > 26.0)\n",
      "        If (feature 1 <= 30.0)\n",
      "         Predict: 67.69110493398193\n",
      "        Else (feature 1 > 30.0)\n",
      "         Predict: 57.06531458861489\n",
      "      Else (feature 10 > 254.16666412353516)\n",
      "       If (feature 10 <= 283.0065449305943)\n",
      "        If (feature 8 <= 899.2708435058594)\n",
      "         Predict: 55.13229974160207\n",
      "        Else (feature 8 > 899.2708435058594)\n",
      "         Predict: 44.06813020439061\n",
      "       Else (feature 10 > 283.0065449305943)\n",
      "        If (feature 8 <= 968.5833435058594)\n",
      "         Predict: 49.89080459770115\n",
      "        Else (feature 8 > 968.5833435058594)\n",
      "         Predict: 40.34626865671642\n",
      "     Else (feature 6 > 74.87532102144681)\n",
      "      If (feature 9 <= 5.0299278290375415)\n",
      "       If (feature 0 <= 7.0)\n",
      "        If (feature 8 <= 1001.5687561035156)\n",
      "         Predict: 121.65154749199573\n",
      "        Else (feature 8 > 1001.5687561035156)\n",
      "         Predict: 95.97844583096993\n",
      "       Else (feature 0 > 7.0)\n",
      "        If (feature 6 <= 81.28240585327148)\n",
      "         Predict: 61.326060107039936\n",
      "        Else (feature 6 > 81.28240585327148)\n",
      "         Predict: 82.46412803532009\n",
      "      Else (feature 9 > 5.0299278290375415)\n",
      "       If (feature 0 <= 7.0)\n",
      "        If (feature 2 <= 2016.5)\n",
      "         Predict: 92.77710843373494\n",
      "        Else (feature 2 > 2016.5)\n",
      "         Predict: 76.86186186186187\n",
      "       Else (feature 0 > 7.0)\n",
      "        If (feature 0 <= 16.5)\n",
      "         Predict: 48.07177033492823\n",
      "        Else (feature 0 > 16.5)\n",
      "         Predict: 67.88349514563107\n",
      "    Else (feature 7 > 45.55000114440918)\n",
      "     If (feature 1 <= 2.0)\n",
      "      If (feature 8 <= 885.1333312988281)\n",
      "       If (feature 7 <= 71.71666793823242)\n",
      "        If (feature 8 <= 877.1458435058594)\n",
      "         Predict: 50.87244897959184\n",
      "        Else (feature 8 > 877.1458435058594)\n",
      "         Predict: 115.80851063829788\n",
      "       Else (feature 7 > 71.71666793823242)\n",
      "        If (feature 3 <= 3.5)\n",
      "         Predict: 144.77220756376428\n",
      "        Else (feature 3 > 3.5)\n",
      "         Predict: 118.49703264094956\n",
      "      Else (feature 8 > 885.1333312988281)\n",
      "       If (feature 9 <= 7.2756523821089)\n",
      "        If (feature 8 <= 899.2708435058594)\n",
      "         Predict: 106.04945054945055\n",
      "        Else (feature 8 > 899.2708435058594)\n",
      "         Predict: 44.30065597667638\n",
      "       Else (feature 9 > 7.2756523821089)\n",
      "        If (feature 8 <= 899.2708435058594)\n",
      "         Predict: 8.200729927007298\n",
      "        Else (feature 8 > 899.2708435058594)\n",
      "         Predict: 37.489736070381234\n",
      "     Else (feature 1 > 2.0)\n",
      "      If (feature 0 <= 7.0)\n",
      "       If (feature 1 <= 72.0)\n",
      "        If (feature 6 <= 71.74479103088379)\n",
      "         Predict: 65.81057457212714\n",
      "        Else (feature 6 > 71.74479103088379)\n",
      "         Predict: 99.58338108882522\n",
      "       Else (feature 1 > 72.0)\n",
      "        If (feature 6 <= 67.05190126519454)\n",
      "         Predict: 56.86003217651115\n",
      "        Else (feature 6 > 67.05190126519454)\n",
      "         Predict: 73.3900269541779\n",
      "      Else (feature 0 > 7.0)\n",
      "       If (feature 3 <= 9.5)\n",
      "        If (feature 6 <= 70.20753156221829)\n",
      "         Predict: 42.45926068237125\n",
      "        Else (feature 6 > 70.20753156221829)\n",
      "         Predict: 59.668037849914576\n",
      "       Else (feature 3 > 9.5)\n",
      "        If (feature 6 <= 59.29166730244954)\n",
      "         Predict: 38.011729951547515\n",
      "        Else (feature 6 > 59.29166730244954)\n",
      "         Predict: 46.21698329137102\n",
      "  Tree 3 (weight 1.0):\n",
      "    If (feature 6 <= 71.74479103088379)\n",
      "     If (feature 1 <= 2.0)\n",
      "      If (feature 7 <= 78.11458396911621)\n",
      "       If (feature 8 <= 885.1333312988281)\n",
      "        If (feature 7 <= 71.71666793823242)\n",
      "         Predict: 54.72609500308452\n",
      "        Else (feature 7 > 71.71666793823242)\n",
      "         Predict: 127.18226600985221\n",
      "       Else (feature 8 > 885.1333312988281)\n",
      "        If (feature 6 <= 65.4602286598899)\n",
      "         Predict: 39.8859649122807\n",
      "        Else (feature 6 > 65.4602286598899)\n",
      "         Predict: 51.36501377410468\n",
      "      Else (feature 7 > 78.11458396911621)\n",
      "       If (feature 2 <= 2007.5)\n",
      "        If (feature 8 <= 885.1333312988281)\n",
      "         Predict: 74.94527363184079\n",
      "        Else (feature 8 > 885.1333312988281)\n",
      "         Predict: 34.63277249451353\n",
      "       Else (feature 2 > 2007.5)\n",
      "        If (feature 10 <= 146.08333206176758)\n",
      "         Predict: 140.12694958287994\n",
      "        Else (feature 10 > 146.08333206176758)\n",
      "         Predict: 109.86629526462396\n",
      "     Else (feature 1 > 2.0)\n",
      "      If (feature 6 <= 59.29166730244954)\n",
      "       If (feature 9 <= 3.138350710272789)\n",
      "        If (feature 0 <= 7.0)\n",
      "         Predict: 69.22248148523892\n",
      "        Else (feature 0 > 7.0)\n",
      "         Predict: 42.325625488922185\n",
      "       Else (feature 9 > 3.138350710272789)\n",
      "        If (feature 6 <= 52.37202344621931)\n",
      "         Predict: 39.31924841278579\n",
      "        Else (feature 6 > 52.37202344621931)\n",
      "         Predict: 43.98801615920614\n",
      "      Else (feature 6 > 59.29166730244954)\n",
      "       If (feature 7 <= 74.29374694824219)\n",
      "        If (feature 1 <= 26.0)\n",
      "         Predict: 47.77847735977753\n",
      "        Else (feature 1 > 26.0)\n",
      "         Predict: 55.32122546984167\n",
      "       Else (feature 7 > 74.29374694824219)\n",
      "        If (feature 8 <= 885.1333312988281)\n",
      "         Predict: 68.5129909365559\n",
      "        Else (feature 8 > 885.1333312988281)\n",
      "         Predict: 43.47711952789154\n",
      "    Else (feature 6 > 71.74479103088379)\n",
      "     If (feature 0 <= 7.0)\n",
      "      If (feature 10 <= 254.16666412353516)\n",
      "       If (feature 7 <= 58.41621494293213)\n",
      "        If (feature 1 <= 28.0)\n",
      "         Predict: 81.43482587064676\n",
      "        Else (feature 1 > 28.0)\n",
      "         Predict: 117.42729028697572\n",
      "       Else (feature 7 > 58.41621494293213)\n",
      "        If (feature 8 <= 989.9208374023438)\n",
      "         Predict: 102.04770642201835\n",
      "        Else (feature 8 > 989.9208374023438)\n",
      "         Predict: 64.44298605414274\n",
      "      Else (feature 10 > 254.16666412353516)\n",
      "       If (feature 6 <= 78.63749885559082)\n",
      "        If (feature 9 <= 5.624020020167032)\n",
      "         Predict: 75.25316455696202\n",
      "        Else (feature 9 > 5.624020020167032)\n",
      "         Predict: 59.38827838827839\n",
      "       Else (feature 6 > 78.63749885559082)\n",
      "        If (feature 1 <= 22.0)\n",
      "         Predict: 107.70744680851064\n",
      "        Else (feature 1 > 22.0)\n",
      "         Predict: 88.2962382445141\n",
      "     Else (feature 0 > 7.0)\n",
      "      If (feature 2 <= 2012.5)\n",
      "       If (feature 6 <= 76.64583206176758)\n",
      "        If (feature 2 <= 2003.5)\n",
      "         Predict: 68.66188426590148\n",
      "        Else (feature 2 > 2003.5)\n",
      "         Predict: 58.383934974898395\n",
      "       Else (feature 6 > 76.64583206176758)\n",
      "        If (feature 0 <= 23.5)\n",
      "         Predict: 67.51033707865169\n",
      "        Else (feature 0 > 23.5)\n",
      "         Predict: 82.36543307086615\n",
      "      Else (feature 2 > 2012.5)\n",
      "       If (feature 7 <= 71.71666793823242)\n",
      "        If (feature 0 <= 64.0)\n",
      "         Predict: 58.80627297687189\n",
      "        Else (feature 0 > 64.0)\n",
      "         Predict: 23.004484304932735\n",
      "       Else (feature 7 > 71.71666793823242)\n",
      "        If (feature 0 <= 17.5)\n",
      "         Predict: 40.07810894141829\n",
      "        Else (feature 0 > 17.5)\n",
      "         Predict: 45.71660850842676\n",
      "  Tree 4 (weight 1.0):\n",
      "    If (feature 6 <= 71.74479103088379)\n",
      "     If (feature 10 <= 246.05208587646484)\n",
      "      If (feature 1 <= 2.0)\n",
      "       If (feature 6 <= 52.37202344621931)\n",
      "        If (feature 2 <= 2006.5)\n",
      "         Predict: 34.7294201861131\n",
      "        Else (feature 2 > 2006.5)\n",
      "         Predict: 47.86554238833181\n",
      "       Else (feature 6 > 52.37202344621931)\n",
      "        If (feature 2 <= 2007.5)\n",
      "         Predict: 58.44863242161441\n",
      "        Else (feature 2 > 2007.5)\n",
      "         Predict: 115.73022659256092\n",
      "      Else (feature 1 > 2.0)\n",
      "       If (feature 1 <= 18.0)\n",
      "        If (feature 6 <= 63.95123052597046)\n",
      "         Predict: 39.9337545471951\n",
      "        Else (feature 6 > 63.95123052597046)\n",
      "         Predict: 48.02745581586519\n",
      "       Else (feature 1 > 18.0)\n",
      "        If (feature 0 <= 7.0)\n",
      "         Predict: 64.31068913256664\n",
      "        Else (feature 0 > 7.0)\n",
      "         Predict: 44.06760235818637\n",
      "     Else (feature 10 > 246.05208587646484)\n",
      "      If (feature 7 <= 28.63124942779541)\n",
      "       If (feature 9 <= 13.75)\n",
      "        If (feature 1 <= 26.0)\n",
      "         Predict: 50.82315112540193\n",
      "        Else (feature 1 > 26.0)\n",
      "         Predict: 65.8083109919571\n",
      "       Else (feature 9 > 13.75)\n",
      "        If (feature 3 <= 11.5)\n",
      "         Predict: 110.35\n",
      "        Else (feature 3 > 11.5)\n",
      "         Predict: 3818.4285714285716\n",
      "      Else (feature 7 > 28.63124942779541)\n",
      "       If (feature 8 <= 899.2708435058594)\n",
      "        If (feature 1 <= 124.0)\n",
      "         Predict: 44.00553005008347\n",
      "        Else (feature 1 > 124.0)\n",
      "         Predict: 61.581911262798634\n",
      "       Else (feature 8 > 899.2708435058594)\n",
      "        If (feature 3 <= 6.5)\n",
      "         Predict: 40.57698868414098\n",
      "        Else (feature 3 > 6.5)\n",
      "         Predict: 35.598635606274954\n",
      "    Else (feature 6 > 71.74479103088379)\n",
      "     If (feature 0 <= 7.0)\n",
      "      If (feature 6 <= 78.63749885559082)\n",
      "       If (feature 0 <= 4.0)\n",
      "        If (feature 4 <= 12.5)\n",
      "         Predict: 58.61417322834646\n",
      "        Else (feature 4 > 12.5)\n",
      "         Predict: 52.175879396984925\n",
      "       Else (feature 0 > 4.0)\n",
      "        If (feature 10 <= 238.81144332885742)\n",
      "         Predict: 97.84683206889481\n",
      "        Else (feature 10 > 238.81144332885742)\n",
      "         Predict: 75.4563605248146\n",
      "      Else (feature 6 > 78.63749885559082)\n",
      "       If (feature 1 <= 28.0)\n",
      "        If (feature 10 <= 215.8390173261816)\n",
      "         Predict: 76.92338441039307\n",
      "        Else (feature 10 > 215.8390173261816)\n",
      "         Predict: 101.06844919786096\n",
      "       Else (feature 1 > 28.0)\n",
      "        If (feature 0 <= 4.0)\n",
      "         Predict: 60.70639534883721\n",
      "        Else (feature 0 > 4.0)\n",
      "         Predict: 125.01473684210526\n",
      "     Else (feature 0 > 7.0)\n",
      "      If (feature 2 <= 2012.5)\n",
      "       If (feature 7 <= 75.54097112019858)\n",
      "        If (feature 9 <= 3.7870593229929606)\n",
      "         Predict: 79.90246524844483\n",
      "        Else (feature 9 > 3.7870593229929606)\n",
      "         Predict: 70.26851159311892\n",
      "       Else (feature 7 > 75.54097112019858)\n",
      "        If (feature 1 <= 32.0)\n",
      "         Predict: 66.56617381896862\n",
      "        Else (feature 1 > 32.0)\n",
      "         Predict: 55.957683741648104\n",
      "      Else (feature 2 > 2012.5)\n",
      "       If (feature 6 <= 81.28240585327148)\n",
      "        If (feature 1 <= 12.0)\n",
      "         Predict: 56.81680468592204\n",
      "        Else (feature 1 > 12.0)\n",
      "         Predict: 49.49827847913813\n",
      "       Else (feature 6 > 81.28240585327148)\n",
      "        If (feature 8 <= 955.8541564941406)\n",
      "         Predict: 73.22568093385215\n",
      "        Else (feature 8 > 955.8541564941406)\n",
      "         Predict: 56.650045829514205\n",
      "  Tree 5 (weight 1.0):\n",
      "    If (feature 8 <= 885.1333312988281)\n",
      "     If (feature 1 <= 2.0)\n",
      "      If (feature 10 <= 146.08333206176758)\n",
      "       If (feature 7 <= 67.74999904632568)\n",
      "        If (feature 8 <= 877.1458435058594)\n",
      "         Predict: 54.20812182741117\n",
      "        Else (feature 8 > 877.1458435058594)\n",
      "         Predict: 128.96153846153845\n",
      "       Else (feature 7 > 67.74999904632568)\n",
      "        If (feature 2 <= 2007.5)\n",
      "         Predict: 60.20422004521477\n",
      "        Else (feature 2 > 2007.5)\n",
      "         Predict: 146.35194902548724\n",
      "      Else (feature 10 > 146.08333206176758)\n",
      "       If (feature 8 <= 877.1458435058594)\n",
      "        If (feature 6 <= 52.37202344621931)\n",
      "         Predict: 50.49593495934959\n",
      "        Else (feature 6 > 52.37202344621931)\n",
      "         Predict: 73.88097043214556\n",
      "       Else (feature 8 > 877.1458435058594)\n",
      "        If (feature 9 <= 6.325694541136423)\n",
      "         Predict: 181.97935779816513\n",
      "        Else (feature 9 > 6.325694541136423)\n",
      "         Predict: 88.07692307692308\n",
      "     Else (feature 1 > 2.0)\n",
      "      If (feature 7 <= 28.63124942779541)\n",
      "       If (feature 10 <= 283.0065449305943)\n",
      "        If (feature 0 <= 7.0)\n",
      "         Predict: 74.6792071197411\n",
      "        Else (feature 0 > 7.0)\n",
      "         Predict: 59.17677224736048\n",
      "       Else (feature 10 > 283.0065449305943)\n",
      "        If (feature 4 <= 1.5)\n",
      "         Predict: 13276.0\n",
      "        Else (feature 4 > 1.5)\n",
      "         Predict: 70.71794871794872\n",
      "      Else (feature 7 > 28.63124942779541)\n",
      "       If (feature 0 <= 7.0)\n",
      "        If (feature 2 <= 2013.5)\n",
      "         Predict: 82.9916461916462\n",
      "        Else (feature 2 > 2013.5)\n",
      "         Predict: 57.34670781893004\n",
      "       Else (feature 0 > 7.0)\n",
      "        If (feature 2 <= 2002.5)\n",
      "         Predict: 65.71646923958731\n",
      "        Else (feature 2 > 2002.5)\n",
      "         Predict: 45.12939759036144\n",
      "    Else (feature 8 > 885.1333312988281)\n",
      "     If (feature 10 <= 246.05208587646484)\n",
      "      If (feature 6 <= 70.20753156221829)\n",
      "       If (feature 0 <= 7.0)\n",
      "        If (feature 8 <= 983.4624938964844)\n",
      "         Predict: 68.95978276823719\n",
      "        Else (feature 8 > 983.4624938964844)\n",
      "         Predict: 61.289049813473774\n",
      "       Else (feature 0 > 7.0)\n",
      "        If (feature 8 <= 968.5833435058594)\n",
      "         Predict: 38.38125657870858\n",
      "        Else (feature 8 > 968.5833435058594)\n",
      "         Predict: 43.80343230418749\n",
      "      Else (feature 6 > 70.20753156221829)\n",
      "       If (feature 9 <= 2.3822914958000183)\n",
      "        If (feature 7 <= 75.54097112019858)\n",
      "         Predict: 66.94097590544021\n",
      "        Else (feature 7 > 75.54097112019858)\n",
      "         Predict: 51.53353435672515\n",
      "       Else (feature 9 > 2.3822914958000183)\n",
      "        If (feature 0 <= 7.0)\n",
      "         Predict: 107.55551279584375\n",
      "        Else (feature 0 > 7.0)\n",
      "         Predict: 60.88451453195196\n",
      "     Else (feature 10 > 246.05208587646484)\n",
      "      If (feature 0 <= 7.0)\n",
      "       If (feature 7 <= 48.906250953674316)\n",
      "        If (feature 9 <= 5.0299278290375415)\n",
      "         Predict: 88.62609786700125\n",
      "        Else (feature 9 > 5.0299278290375415)\n",
      "         Predict: 61.56945572705118\n",
      "       Else (feature 7 > 48.906250953674316)\n",
      "        If (feature 10 <= 262.6822853088379)\n",
      "         Predict: 59.838403041825096\n",
      "        Else (feature 10 > 262.6822853088379)\n",
      "         Predict: 54.026640159045726\n",
      "      Else (feature 0 > 7.0)\n",
      "       If (feature 6 <= 70.20753156221829)\n",
      "        If (feature 6 <= 59.29166730244954)\n",
      "         Predict: 36.84980422866092\n",
      "        Else (feature 6 > 59.29166730244954)\n",
      "         Predict: 41.779469996954006\n",
      "       Else (feature 6 > 70.20753156221829)\n",
      "        If (feature 2 <= 2012.5)\n",
      "         Predict: 60.82711467083415\n",
      "        Else (feature 2 > 2012.5)\n",
      "         Predict: 48.849068195781285\n",
      "  Tree 6 (weight 1.0):\n",
      "    If (feature 0 <= 7.0)\n",
      "     If (feature 7 <= 54.218749046325684)\n",
      "      If (feature 3 <= 3.5)\n",
      "       If (feature 9 <= 10.325000286102295)\n",
      "        If (feature 10 <= 283.0065449305943)\n",
      "         Predict: 59.925582447410086\n",
      "        Else (feature 10 > 283.0065449305943)\n",
      "         Predict: 84.875\n",
      "       Else (feature 9 > 10.325000286102295)\n",
      "        If (feature 8 <= 885.1333312988281)\n",
      "         Predict: 248.73846153846154\n",
      "        Else (feature 8 > 885.1333312988281)\n",
      "         Predict: 62.96470588235294\n",
      "      Else (feature 3 > 3.5)\n",
      "       If (feature 0 <= 4.0)\n",
      "        If (feature 8 <= 877.1458435058594)\n",
      "         Predict: 39.668008048289735\n",
      "        Else (feature 8 > 877.1458435058594)\n",
      "         Predict: 63.46222222222222\n",
      "       Else (feature 0 > 4.0)\n",
      "        If (feature 9 <= 13.75)\n",
      "         Predict: 90.53513710770514\n",
      "        Else (feature 9 > 13.75)\n",
      "         Predict: 367.4189189189189\n",
      "     Else (feature 7 > 54.218749046325684)\n",
      "      If (feature 1 <= 38.0)\n",
      "       If (feature 1 <= 28.0)\n",
      "        If (feature 3 <= 10.5)\n",
      "         Predict: 60.55877551020408\n",
      "        Else (feature 3 > 10.5)\n",
      "         Predict: 78.87617065556712\n",
      "       Else (feature 1 > 28.0)\n",
      "        If (feature 9 <= 3.9643228948116302)\n",
      "         Predict: 93.31366965012205\n",
      "        Else (feature 9 > 3.9643228948116302)\n",
      "         Predict: 62.25890736342043\n",
      "      Else (feature 1 > 38.0)\n",
      "       If (feature 7 <= 63.624999046325684)\n",
      "        If (feature 8 <= 996.7739562988281)\n",
      "         Predict: 78.16933445661331\n",
      "        Else (feature 8 > 996.7739562988281)\n",
      "         Predict: 60.74306106264869\n",
      "       Else (feature 7 > 63.624999046325684)\n",
      "        If (feature 2 <= 2018.5)\n",
      "         Predict: 57.8268705971949\n",
      "        Else (feature 2 > 2018.5)\n",
      "         Predict: 47.349673202614376\n",
      "    Else (feature 0 > 7.0)\n",
      "     If (feature 6 <= 70.20753156221829)\n",
      "      If (feature 6 <= 56.10138861338298)\n",
      "       If (feature 3 <= 5.5)\n",
      "        If (feature 6 <= 52.37202344621931)\n",
      "         Predict: 41.3833266444082\n",
      "        Else (feature 6 > 52.37202344621931)\n",
      "         Predict: 46.52852564102564\n",
      "       Else (feature 3 > 5.5)\n",
      "        If (feature 8 <= 899.2708435058594)\n",
      "         Predict: 42.09165998890464\n",
      "        Else (feature 8 > 899.2708435058594)\n",
      "         Predict: 37.071491532667345\n",
      "      Else (feature 6 > 56.10138861338298)\n",
      "       If (feature 8 <= 885.1333312988281)\n",
      "        If (feature 8 <= 877.1458435058594)\n",
      "         Predict: 54.49412007427274\n",
      "        Else (feature 8 > 877.1458435058594)\n",
      "         Predict: 96.12704976472266\n",
      "       Else (feature 8 > 885.1333312988281)\n",
      "        If (feature 7 <= 78.11458396911621)\n",
      "         Predict: 46.76594907197142\n",
      "        Else (feature 7 > 78.11458396911621)\n",
      "         Predict: 40.63727351720143\n",
      "     Else (feature 6 > 70.20753156221829)\n",
      "      If (feature 2 <= 2012.5)\n",
      "       If (feature 7 <= 81.1125)\n",
      "        If (feature 6 <= 76.64583206176758)\n",
      "         Predict: 63.53665107767385\n",
      "        Else (feature 6 > 76.64583206176758)\n",
      "         Predict: 79.81439876044492\n",
      "       Else (feature 7 > 81.1125)\n",
      "        If (feature 2 <= 2003.5)\n",
      "         Predict: 56.71813125695217\n",
      "        Else (feature 2 > 2003.5)\n",
      "         Predict: 48.453428863868986\n",
      "      Else (feature 2 > 2012.5)\n",
      "       If (feature 6 <= 81.28240585327148)\n",
      "        If (feature 7 <= 74.29374694824219)\n",
      "         Predict: 54.97652964901742\n",
      "        Else (feature 7 > 74.29374694824219)\n",
      "         Predict: 42.53221326468397\n",
      "       Else (feature 6 > 81.28240585327148)\n",
      "        If (feature 7 <= 42.038194429306756)\n",
      "         Predict: 74.37694013303769\n",
      "        Else (feature 7 > 42.038194429306756)\n",
      "         Predict: 55.89338706722843\n",
      "  Tree 7 (weight 1.0):\n",
      "    If (feature 7 <= 45.55000114440918)\n",
      "     If (feature 0 <= 7.0)\n",
      "      If (feature 3 <= 3.5)\n",
      "       If (feature 8 <= 885.1333312988281)\n",
      "        If (feature 4 <= 29.5)\n",
      "         Predict: 84.66133004926108\n",
      "        Else (feature 4 > 29.5)\n",
      "         Predict: 247.9090909090909\n",
      "       Else (feature 8 > 885.1333312988281)\n",
      "        If (feature 8 <= 899.2708435058594)\n",
      "         Predict: 44.7373417721519\n",
      "        Else (feature 8 > 899.2708435058594)\n",
      "         Predict: 58.74029126213592\n",
      "      Else (feature 3 > 3.5)\n",
      "       If (feature 3 <= 9.5)\n",
      "        If (feature 8 <= 899.2708435058594)\n",
      "         Predict: 73.8458401305057\n",
      "        Else (feature 8 > 899.2708435058594)\n",
      "         Predict: 106.79178994082841\n",
      "       Else (feature 3 > 9.5)\n",
      "        If (feature 9 <= 13.75)\n",
      "         Predict: 65.80562347188264\n",
      "        Else (feature 9 > 13.75)\n",
      "         Predict: 1403.3666666666666\n",
      "     Else (feature 0 > 7.0)\n",
      "      If (feature 6 <= 78.63749885559082)\n",
      "       If (feature 6 <= 48.70138804117839)\n",
      "        If (feature 9 <= 3.453125198682149)\n",
      "         Predict: 45.10192307692308\n",
      "        Else (feature 9 > 3.453125198682149)\n",
      "         Predict: 40.912953494034575\n",
      "       Else (feature 6 > 48.70138804117839)\n",
      "        If (feature 2 <= 2003.5)\n",
      "         Predict: 63.722865013774104\n",
      "        Else (feature 2 > 2003.5)\n",
      "         Predict: 52.9984266031638\n",
      "      Else (feature 6 > 78.63749885559082)\n",
      "       If (feature 0 <= 64.0)\n",
      "        If (feature 8 <= 975.8499755859375)\n",
      "         Predict: 71.52398215281652\n",
      "        Else (feature 8 > 975.8499755859375)\n",
      "         Predict: 96.60738255033557\n",
      "       Else (feature 0 > 64.0)\n",
      "        If (feature 4 <= 29.5)\n",
      "         Predict: 25.206611570247933\n",
      "        Else (feature 4 > 29.5)\n",
      "         Predict: 58.0\n",
      "    Else (feature 7 > 45.55000114440918)\n",
      "     If (feature 6 <= 70.20753156221829)\n",
      "      If (feature 0 <= 7.0)\n",
      "       If (feature 1 <= 38.0)\n",
      "        If (feature 1 <= 28.0)\n",
      "         Predict: 61.71749438482655\n",
      "        Else (feature 1 > 28.0)\n",
      "         Predict: 78.51677852348993\n",
      "       Else (feature 1 > 38.0)\n",
      "        If (feature 9 <= 2.682465096314748)\n",
      "         Predict: 68.76729559748428\n",
      "        Else (feature 9 > 2.682465096314748)\n",
      "         Predict: 56.18306394940267\n",
      "      Else (feature 0 > 7.0)\n",
      "       If (feature 1 <= 2.0)\n",
      "        If (feature 6 <= 54.28854179382324)\n",
      "         Predict: 41.62541410317085\n",
      "        Else (feature 6 > 54.28854179382324)\n",
      "         Predict: 97.56885874373341\n",
      "       Else (feature 1 > 2.0)\n",
      "        If (feature 0 <= 16.5)\n",
      "         Predict: 33.074194512970024\n",
      "        Else (feature 0 > 16.5)\n",
      "         Predict: 42.199871675090336\n",
      "     Else (feature 6 > 70.20753156221829)\n",
      "      If (feature 2 <= 2012.5)\n",
      "       If (feature 0 <= 7.0)\n",
      "        If (feature 7 <= 54.218749046325684)\n",
      "         Predict: 102.33564013840831\n",
      "        Else (feature 7 > 54.218749046325684)\n",
      "         Predict: 87.50628140703517\n",
      "       Else (feature 0 > 7.0)\n",
      "        If (feature 6 <= 76.64583206176758)\n",
      "         Predict: 60.689817007534984\n",
      "        Else (feature 6 > 76.64583206176758)\n",
      "         Predict: 76.04431251987702\n",
      "      Else (feature 2 > 2012.5)\n",
      "       If (feature 10 <= 178.79166793823242)\n",
      "        If (feature 7 <= 74.29374694824219)\n",
      "         Predict: 54.72318339100346\n",
      "        Else (feature 7 > 74.29374694824219)\n",
      "         Predict: 42.33393618395556\n",
      "       Else (feature 10 > 178.79166793823242)\n",
      "        If (feature 0 <= 7.0)\n",
      "         Predict: 85.63578274760384\n",
      "        Else (feature 0 > 7.0)\n",
      "         Predict: 51.14317748091603\n",
      "  Tree 8 (weight 1.0):\n",
      "    If (feature 0 <= 7.0)\n",
      "     If (feature 9 <= 13.75)\n",
      "      If (feature 1 <= 72.0)\n",
      "       If (feature 7 <= 54.218749046325684)\n",
      "        If (feature 6 <= 74.87532102144681)\n",
      "         Predict: 70.20957842841332\n",
      "        Else (feature 6 > 74.87532102144681)\n",
      "         Predict: 107.78968203294599\n",
      "       Else (feature 7 > 54.218749046325684)\n",
      "        If (feature 9 <= 3.9643228948116302)\n",
      "         Predict: 73.43707022296311\n",
      "        Else (feature 9 > 3.9643228948116302)\n",
      "         Predict: 58.38580066315584\n",
      "      Else (feature 1 > 72.0)\n",
      "       If (feature 1 <= 96.0)\n",
      "        If (feature 1 <= 82.0)\n",
      "         Predict: 62.46804221510732\n",
      "        Else (feature 1 > 82.0)\n",
      "         Predict: 52.41323529411765\n",
      "       Else (feature 1 > 96.0)\n",
      "        If (feature 9 <= 4.345833480358124)\n",
      "         Predict: 76.11704091048908\n",
      "        Else (feature 9 > 4.345833480358124)\n",
      "         Predict: 55.48678720445063\n",
      "     Else (feature 9 > 13.75)\n",
      "      If (feature 10 <= 283.0065449305943)\n",
      "       If (feature 4 <= 24.5)\n",
      "        If (feature 8 <= 877.1458435058594)\n",
      "         Predict: 293.4\n",
      "        Else (feature 8 > 877.1458435058594)\n",
      "         Predict: 73.48717948717949\n",
      "       Else (feature 4 > 24.5)\n",
      "        If (feature 10 <= 192.96333541870118)\n",
      "         Predict: 70.0\n",
      "        Else (feature 10 > 192.96333541870118)\n",
      "         Predict: 574.375\n",
      "      Else (feature 10 > 283.0065449305943)\n",
      "       If (feature 5 <= 4.5)\n",
      "        If (feature 8 <= 885.1333312988281)\n",
      "         Predict: 395.0\n",
      "        Else (feature 8 > 885.1333312988281)\n",
      "         Predict: 55.5\n",
      "       Else (feature 5 > 4.5)\n",
      "        Predict: 13276.0\n",
      "    Else (feature 0 > 7.0)\n",
      "     If (feature 6 <= 70.20753156221829)\n",
      "      If (feature 10 <= 246.05208587646484)\n",
      "       If (feature 6 <= 56.10138861338298)\n",
      "        If (feature 3 <= 4.5)\n",
      "         Predict: 43.12319954251403\n",
      "        Else (feature 3 > 4.5)\n",
      "         Predict: 39.39115917929111\n",
      "       Else (feature 6 > 56.10138861338298)\n",
      "        If (feature 2 <= 2013.5)\n",
      "         Predict: 52.249019980313264\n",
      "        Else (feature 2 > 2013.5)\n",
      "         Predict: 46.65775237883874\n",
      "      Else (feature 10 > 246.05208587646484)\n",
      "       If (feature 0 <= 41.5)\n",
      "        If (feature 1 <= 56.0)\n",
      "         Predict: 38.67268902720148\n",
      "        Else (feature 1 > 56.0)\n",
      "         Predict: 35.62908446625098\n",
      "       Else (feature 0 > 41.5)\n",
      "        If (feature 1 <= 30.0)\n",
      "         Predict: 37.35819107517221\n",
      "        Else (feature 1 > 30.0)\n",
      "         Predict: 49.774894810659184\n",
      "     Else (feature 6 > 70.20753156221829)\n",
      "      If (feature 6 <= 78.63749885559082)\n",
      "       If (feature 2 <= 2007.5)\n",
      "        If (feature 1 <= 32.0)\n",
      "         Predict: 77.22712871287129\n",
      "        Else (feature 1 > 32.0)\n",
      "         Predict: 61.865359758724686\n",
      "       Else (feature 2 > 2007.5)\n",
      "        If (feature 0 <= 17.5)\n",
      "         Predict: 46.319283301512705\n",
      "        Else (feature 0 > 17.5)\n",
      "         Predict: 52.43254655127196\n",
      "      Else (feature 6 > 78.63749885559082)\n",
      "       If (feature 0 <= 16.5)\n",
      "        If (feature 1 <= 18.0)\n",
      "         Predict: 64.97292418772564\n",
      "        Else (feature 1 > 18.0)\n",
      "         Predict: 45.31459987782529\n",
      "       Else (feature 0 > 16.5)\n",
      "        If (feature 2 <= 2012.5)\n",
      "         Predict: 78.8680532556137\n",
      "        Else (feature 2 > 2012.5)\n",
      "         Predict: 57.62220838152861\n",
      "  Tree 9 (weight 1.0):\n",
      "    If (feature 3 <= 9.5)\n",
      "     If (feature 7 <= 45.55000114440918)\n",
      "      If (feature 0 <= 7.0)\n",
      "       If (feature 8 <= 899.2708435058594)\n",
      "        If (feature 8 <= 885.1333312988281)\n",
      "         Predict: 73.5283203125\n",
      "        Else (feature 8 > 885.1333312988281)\n",
      "         Predict: 44.20145631067961\n",
      "       Else (feature 8 > 899.2708435058594)\n",
      "        If (feature 3 <= 4.5)\n",
      "         Predict: 67.60923566878981\n",
      "        Else (feature 3 > 4.5)\n",
      "         Predict: 109.95723499719574\n",
      "      Else (feature 0 > 7.0)\n",
      "       If (feature 7 <= 28.63124942779541)\n",
      "        If (feature 3 <= 8.5)\n",
      "         Predict: 64.81812804968209\n",
      "        Else (feature 3 > 8.5)\n",
      "         Predict: 53.29186046511628\n",
      "       Else (feature 7 > 28.63124942779541)\n",
      "        If (feature 1 <= 140.0)\n",
      "         Predict: 48.92120930625343\n",
      "        Else (feature 1 > 140.0)\n",
      "         Predict: 64.16927223719676\n",
      "     Else (feature 7 > 45.55000114440918)\n",
      "      If (feature 6 <= 70.20753156221829)\n",
      "       If (feature 8 <= 885.1333312988281)\n",
      "        If (feature 8 <= 877.1458435058594)\n",
      "         Predict: 47.28819739273762\n",
      "        Else (feature 8 > 877.1458435058594)\n",
      "         Predict: 78.50673009979114\n",
      "       Else (feature 8 > 885.1333312988281)\n",
      "        If (feature 8 <= 968.5833435058594)\n",
      "         Predict: 37.95750143784406\n",
      "        Else (feature 8 > 968.5833435058594)\n",
      "         Predict: 45.20982342459096\n",
      "      Else (feature 6 > 70.20753156221829)\n",
      "       If (feature 2 <= 2012.5)\n",
      "        If (feature 7 <= 75.54097112019858)\n",
      "         Predict: 76.75253301656069\n",
      "        Else (feature 7 > 75.54097112019858)\n",
      "         Predict: 57.965230292865435\n",
      "       Else (feature 2 > 2012.5)\n",
      "        If (feature 7 <= 71.71666793823242)\n",
      "         Predict: 60.28094857196631\n",
      "        Else (feature 7 > 71.71666793823242)\n",
      "         Predict: 44.77188915246927\n",
      "    Else (feature 3 > 9.5)\n",
      "     If (feature 8 <= 899.2708435058594)\n",
      "      If (feature 1 <= 2.0)\n",
      "       If (feature 7 <= 74.29374694824219)\n",
      "        If (feature 8 <= 877.1458435058594)\n",
      "         Predict: 49.915983606557376\n",
      "        Else (feature 8 > 877.1458435058594)\n",
      "         Predict: 94.33333333333333\n",
      "       Else (feature 7 > 74.29374694824219)\n",
      "        If (feature 2 <= 2006.5)\n",
      "         Predict: 79.90070921985816\n",
      "        Else (feature 2 > 2006.5)\n",
      "         Predict: 152.66161616161617\n",
      "      Else (feature 1 > 2.0)\n",
      "       If (feature 0 <= 7.0)\n",
      "        If (feature 9 <= 13.75)\n",
      "         Predict: 58.850035038542394\n",
      "        Else (feature 9 > 13.75)\n",
      "         Predict: 2270.1666666666665\n",
      "       Else (feature 0 > 7.0)\n",
      "        If (feature 7 <= 36.90242263248989)\n",
      "         Predict: 53.20510894064613\n",
      "        Else (feature 7 > 36.90242263248989)\n",
      "         Predict: 40.66567828020756\n",
      "     Else (feature 8 > 899.2708435058594)\n",
      "      If (feature 0 <= 7.0)\n",
      "       If (feature 1 <= 38.0)\n",
      "        If (feature 9 <= 3.6130951813289096)\n",
      "         Predict: 82.35890533871691\n",
      "        Else (feature 9 > 3.6130951813289096)\n",
      "         Predict: 60.333333333333336\n",
      "       Else (feature 1 > 38.0)\n",
      "        If (feature 7 <= 70.42708396911621)\n",
      "         Predict: 65.9793310785419\n",
      "        Else (feature 7 > 70.42708396911621)\n",
      "         Predict: 57.128619323377016\n",
      "      Else (feature 0 > 7.0)\n",
      "       If (feature 10 <= 262.6822853088379)\n",
      "        If (feature 8 <= 988.0343627929688)\n",
      "         Predict: 37.82833169551743\n",
      "        Else (feature 8 > 988.0343627929688)\n",
      "         Predict: 42.11983114702011\n",
      "       Else (feature 10 > 262.6822853088379)\n",
      "        If (feature 9 <= 6.325694541136423)\n",
      "         Predict: 34.44612829561968\n",
      "        Else (feature 9 > 6.325694541136423)\n",
      "         Predict: 31.43684307578831\n",
      "  Tree 10 (weight 1.0):\n",
      "    If (feature 0 <= 7.0)\n",
      "     If (feature 1 <= 72.0)\n",
      "      If (feature 9 <= 13.75)\n",
      "       If (feature 8 <= 999.8937683105469)\n",
      "        If (feature 7 <= 58.41621494293213)\n",
      "         Predict: 92.55027675276753\n",
      "        Else (feature 7 > 58.41621494293213)\n",
      "         Predict: 74.53522123893805\n",
      "       Else (feature 8 > 999.8937683105469)\n",
      "        If (feature 6 <= 73.328125)\n",
      "         Predict: 60.04657029203454\n",
      "        Else (feature 6 > 73.328125)\n",
      "         Predict: 87.87240829346092\n",
      "      Else (feature 9 > 13.75)\n",
      "       If (feature 4 <= 1.5)\n",
      "        If (feature 10 <= 64.10416507720947)\n",
      "         Predict: 83.0\n",
      "        Else (feature 10 > 64.10416507720947)\n",
      "         Predict: 13276.0\n",
      "       Else (feature 4 > 1.5)\n",
      "        If (feature 8 <= 885.1333312988281)\n",
      "         Predict: 172.71698113207546\n",
      "        Else (feature 8 > 885.1333312988281)\n",
      "         Predict: 78.75\n",
      "     Else (feature 1 > 72.0)\n",
      "      If (feature 9 <= 4.345833480358124)\n",
      "       If (feature 7 <= 51.70625019073486)\n",
      "        If (feature 0 <= 4.0)\n",
      "         Predict: 57.29315960912052\n",
      "        Else (feature 0 > 4.0)\n",
      "         Predict: 90.97893030794165\n",
      "       Else (feature 7 > 51.70625019073486)\n",
      "        If (feature 6 <= 65.4602286598899)\n",
      "         Predict: 58.061334804191944\n",
      "        Else (feature 6 > 65.4602286598899)\n",
      "         Predict: 70.52756892230576\n",
      "      Else (feature 9 > 4.345833480358124)\n",
      "       If (feature 9 <= 4.791666746139526)\n",
      "        If (feature 3 <= 3.5)\n",
      "         Predict: 44.79359430604982\n",
      "        Else (feature 3 > 3.5)\n",
      "         Predict: 60.30905695611578\n",
      "       Else (feature 9 > 4.791666746139526)\n",
      "        If (feature 6 <= 70.20753156221829)\n",
      "         Predict: 45.99556272690601\n",
      "        Else (feature 6 > 70.20753156221829)\n",
      "         Predict: 62.712765957446805\n",
      "    Else (feature 0 > 7.0)\n",
      "     If (feature 8 <= 899.2708435058594)\n",
      "      If (feature 6 <= 54.28854179382324)\n",
      "       If (feature 1 <= 2.0)\n",
      "        If (feature 0 <= 16.5)\n",
      "         Predict: 134.9857142857143\n",
      "        Else (feature 0 > 16.5)\n",
      "         Predict: 50.132663316582914\n",
      "       Else (feature 1 > 2.0)\n",
      "        If (feature 9 <= 1.8659420013427734)\n",
      "         Predict: 57.137645731478\n",
      "        Else (feature 9 > 1.8659420013427734)\n",
      "         Predict: 41.50518245936829\n",
      "      Else (feature 6 > 54.28854179382324)\n",
      "       If (feature 8 <= 877.1458435058594)\n",
      "        If (feature 1 <= 2.0)\n",
      "         Predict: 81.62747688243064\n",
      "        Else (feature 1 > 2.0)\n",
      "         Predict: 52.60427210479309\n",
      "       Else (feature 8 > 877.1458435058594)\n",
      "        If (feature 7 <= 75.54097112019858)\n",
      "         Predict: 61.17532621589561\n",
      "        Else (feature 7 > 75.54097112019858)\n",
      "         Predict: 96.1746455145304\n",
      "     Else (feature 8 > 899.2708435058594)\n",
      "      If (feature 6 <= 68.63154711042131)\n",
      "       If (feature 0 <= 16.5)\n",
      "        If (feature 8 <= 983.4624938964844)\n",
      "         Predict: 28.181581581581582\n",
      "        Else (feature 8 > 983.4624938964844)\n",
      "         Predict: 41.638605571624296\n",
      "       Else (feature 0 > 16.5)\n",
      "        If (feature 3 <= 6.5)\n",
      "         Predict: 43.68560313020709\n",
      "        Else (feature 3 > 6.5)\n",
      "         Predict: 38.59164226975218\n",
      "      Else (feature 6 > 68.63154711042131)\n",
      "       If (feature 7 <= 75.54097112019858)\n",
      "        If (feature 0 <= 16.5)\n",
      "         Predict: 48.6059206382532\n",
      "        Else (feature 0 > 16.5)\n",
      "         Predict: 64.70981289204211\n",
      "       Else (feature 7 > 75.54097112019858)\n",
      "        If (feature 2 <= 2008.5)\n",
      "         Predict: 58.819449384648216\n",
      "        Else (feature 2 > 2008.5)\n",
      "         Predict: 43.9973300857183\n",
      "  Tree 11 (weight 1.0):\n",
      "    If (feature 0 <= 7.0)\n",
      "     If (feature 6 <= 71.74479103088379)\n",
      "      If (feature 9 <= 13.75)\n",
      "       If (feature 9 <= 2.9833330512046814)\n",
      "        If (feature 10 <= 197.12291717529297)\n",
      "         Predict: 72.39797142545534\n",
      "        Else (feature 10 > 197.12291717529297)\n",
      "         Predict: 62.70657043305127\n",
      "       Else (feature 9 > 2.9833330512046814)\n",
      "        If (feature 8 <= 998.2847290039062)\n",
      "         Predict: 66.52841826993685\n",
      "        Else (feature 8 > 998.2847290039062)\n",
      "         Predict: 51.94042721518987\n",
      "      Else (feature 9 > 13.75)\n",
      "       If (feature 10 <= 153.0486125946045)\n",
      "        If (feature 6 <= 67.05190126519454)\n",
      "         Predict: 57.72727272727273\n",
      "        Else (feature 6 > 67.05190126519454)\n",
      "         Predict: 115.0\n",
      "       Else (feature 10 > 153.0486125946045)\n",
      "        If (feature 8 <= 877.1458435058594)\n",
      "         Predict: 849.5652173913044\n",
      "        Else (feature 8 > 877.1458435058594)\n",
      "         Predict: 94.73584905660377\n",
      "     Else (feature 6 > 71.74479103088379)\n",
      "      If (feature 8 <= 989.9208374023438)\n",
      "       If (feature 1 <= 28.0)\n",
      "        If (feature 8 <= 877.1458435058594)\n",
      "         Predict: 78.85411140583554\n",
      "        Else (feature 8 > 877.1458435058594)\n",
      "         Predict: 64.11111111111111\n",
      "       Else (feature 1 > 28.0)\n",
      "        If (feature 1 <= 72.0)\n",
      "         Predict: 128.47950131862862\n",
      "        Else (feature 1 > 72.0)\n",
      "         Predict: 84.6813627254509\n",
      "      Else (feature 8 > 989.9208374023438)\n",
      "       If (feature 1 <= 105.0)\n",
      "        If (feature 1 <= 22.0)\n",
      "         Predict: 105.20802469135802\n",
      "        Else (feature 1 > 22.0)\n",
      "         Predict: 81.40600287562904\n",
      "       Else (feature 1 > 105.0)\n",
      "        If (feature 2 <= 2011.5)\n",
      "         Predict: 143.59798994974875\n",
      "        Else (feature 2 > 2011.5)\n",
      "         Predict: 119.70270270270271\n",
      "    Else (feature 0 > 7.0)\n",
      "     If (feature 10 <= 254.16666412353516)\n",
      "      If (feature 1 <= 2.0)\n",
      "       If (feature 8 <= 885.1333312988281)\n",
      "        If (feature 0 <= 16.5)\n",
      "         Predict: 127.75301072914385\n",
      "        Else (feature 0 > 16.5)\n",
      "         Predict: 57.28831041257367\n",
      "       Else (feature 8 > 885.1333312988281)\n",
      "        If (feature 6 <= 68.63154711042131)\n",
      "         Predict: 40.57705677867903\n",
      "        Else (feature 6 > 68.63154711042131)\n",
      "         Predict: 62.27892030848329\n",
      "      Else (feature 1 > 2.0)\n",
      "       If (feature 6 <= 68.63154711042131)\n",
      "        If (feature 1 <= 140.0)\n",
      "         Predict: 41.385394420873794\n",
      "        Else (feature 1 > 140.0)\n",
      "         Predict: 50.044477073200575\n",
      "       Else (feature 6 > 68.63154711042131)\n",
      "        If (feature 1 <= 140.0)\n",
      "         Predict: 57.936813877482614\n",
      "        Else (feature 1 > 140.0)\n",
      "         Predict: 63.0839222614841\n",
      "     Else (feature 10 > 254.16666412353516)\n",
      "      If (feature 3 <= 9.5)\n",
      "       If (feature 3 <= 3.5)\n",
      "        If (feature 10 <= 283.0065449305943)\n",
      "         Predict: 40.56855560289731\n",
      "        Else (feature 10 > 283.0065449305943)\n",
      "         Predict: 37.425934065934065\n",
      "       Else (feature 3 > 3.5)\n",
      "        If (feature 0 <= 41.5)\n",
      "         Predict: 42.28775828608394\n",
      "        Else (feature 0 > 41.5)\n",
      "         Predict: 51.7936130456939\n",
      "      Else (feature 3 > 9.5)\n",
      "       If (feature 6 <= 59.29166730244954)\n",
      "        If (feature 8 <= 885.1333312988281)\n",
      "         Predict: 40.07701283547258\n",
      "        Else (feature 8 > 885.1333312988281)\n",
      "         Predict: 33.68038713983758\n",
      "       Else (feature 6 > 59.29166730244954)\n",
      "        If (feature 8 <= 899.2708435058594)\n",
      "         Predict: 68.25287356321839\n",
      "        Else (feature 8 > 899.2708435058594)\n",
      "         Predict: 41.605\n",
      "  Tree 12 (weight 1.0):\n",
      "    If (feature 6 <= 71.74479103088379)\n",
      "     If (feature 8 <= 885.1333312988281)\n",
      "      If (feature 8 <= 877.1458435058594)\n",
      "       If (feature 1 <= 2.0)\n",
      "        If (feature 0 <= 16.5)\n",
      "         Predict: 148.91979949874687\n",
      "        Else (feature 0 > 16.5)\n",
      "         Predict: 53.410322580645165\n",
      "       Else (feature 1 > 2.0)\n",
      "        If (feature 6 <= 52.37202344621931)\n",
      "         Predict: 43.79221732745962\n",
      "        Else (feature 6 > 52.37202344621931)\n",
      "         Predict: 53.42552563629657\n",
      "      Else (feature 8 > 877.1458435058594)\n",
      "       If (feature 10 <= 117.66666603088379)\n",
      "        If (feature 1 <= 2.0)\n",
      "         Predict: 115.82015198423868\n",
      "        Else (feature 1 > 2.0)\n",
      "         Predict: 53.21928166351607\n",
      "       Else (feature 10 > 117.66666603088379)\n",
      "        If (feature 9 <= 13.75)\n",
      "         Predict: 62.63799661876585\n",
      "        Else (feature 9 > 13.75)\n",
      "         Predict: 127.98404255319149\n",
      "     Else (feature 8 > 885.1333312988281)\n",
      "      If (feature 0 <= 7.0)\n",
      "       If (feature 8 <= 983.4624938964844)\n",
      "        If (feature 7 <= 28.63124942779541)\n",
      "         Predict: 59.03790849673203\n",
      "        Else (feature 7 > 28.63124942779541)\n",
      "         Predict: 71.44857674152482\n",
      "       Else (feature 8 > 983.4624938964844)\n",
      "        If (feature 10 <= 238.81144332885742)\n",
      "         Predict: 61.883792983068595\n",
      "        Else (feature 10 > 238.81144332885742)\n",
      "         Predict: 51.27566988210075\n",
      "      Else (feature 0 > 7.0)\n",
      "       If (feature 10 <= 246.05208587646484)\n",
      "        If (feature 6 <= 63.95123052597046)\n",
      "         Predict: 41.12841020832857\n",
      "        Else (feature 6 > 63.95123052597046)\n",
      "         Predict: 49.33914179479449\n",
      "       Else (feature 10 > 246.05208587646484)\n",
      "        If (feature 3 <= 8.5)\n",
      "         Predict: 39.658606619313886\n",
      "        Else (feature 3 > 8.5)\n",
      "         Predict: 34.86190183105093\n",
      "    Else (feature 6 > 71.74479103088379)\n",
      "     If (feature 0 <= 7.0)\n",
      "      If (feature 0 <= 4.0)\n",
      "       If (feature 6 <= 81.28240585327148)\n",
      "        If (feature 7 <= 75.54097112019858)\n",
      "         Predict: 60.667844522968196\n",
      "        Else (feature 7 > 75.54097112019858)\n",
      "         Predict: 43.382075471698116\n",
      "       Else (feature 6 > 81.28240585327148)\n",
      "        If (feature 7 <= 60.239583015441895)\n",
      "         Predict: 81.76315789473684\n",
      "        Else (feature 7 > 60.239583015441895)\n",
      "         Predict: 64.16993464052288\n",
      "      Else (feature 0 > 4.0)\n",
      "       If (feature 8 <= 1001.5687561035156)\n",
      "        If (feature 9 <= 5.0299278290375415)\n",
      "         Predict: 114.64803541781959\n",
      "        Else (feature 9 > 5.0299278290375415)\n",
      "         Predict: 93.5225643188528\n",
      "       Else (feature 8 > 1001.5687561035156)\n",
      "        If (feature 7 <= 48.906250953674316)\n",
      "         Predict: 88.34401850627891\n",
      "        Else (feature 7 > 48.906250953674316)\n",
      "         Predict: 74.63523573200993\n",
      "     Else (feature 0 > 7.0)\n",
      "      If (feature 2 <= 2012.5)\n",
      "       If (feature 8 <= 983.4624938964844)\n",
      "        If (feature 6 <= 78.63749885559082)\n",
      "         Predict: 57.44433465085639\n",
      "        Else (feature 6 > 78.63749885559082)\n",
      "         Predict: 72.157824933687\n",
      "       Else (feature 8 > 983.4624938964844)\n",
      "        If (feature 1 <= 32.0)\n",
      "         Predict: 76.98027560118886\n",
      "        Else (feature 1 > 32.0)\n",
      "         Predict: 69.09641245783871\n",
      "      Else (feature 2 > 2012.5)\n",
      "       If (feature 7 <= 71.71666793823242)\n",
      "        If (feature 0 <= 64.0)\n",
      "         Predict: 58.650773908236594\n",
      "        Else (feature 0 > 64.0)\n",
      "         Predict: 22.731019522776574\n",
      "       Else (feature 7 > 71.71666793823242)\n",
      "        If (feature 2 <= 2015.5)\n",
      "         Predict: 47.41750227894257\n",
      "        Else (feature 2 > 2015.5)\n",
      "         Predict: 42.637208816462966\n",
      "  Tree 13 (weight 1.0):\n",
      "    If (feature 0 <= 7.0)\n",
      "     If (feature 6 <= 71.74479103088379)\n",
      "      If (feature 6 <= 67.05190126519454)\n",
      "       If (feature 8 <= 979.9208374023438)\n",
      "        If (feature 9 <= 13.75)\n",
      "         Predict: 66.56189118555476\n",
      "        Else (feature 9 > 13.75)\n",
      "         Predict: 656.5294117647059\n",
      "       Else (feature 8 > 979.9208374023438)\n",
      "        If (feature 6 <= 48.70138804117839)\n",
      "         Predict: 64.53389830508475\n",
      "        Else (feature 6 > 48.70138804117839)\n",
      "         Predict: 57.60264208325413\n",
      "      Else (feature 6 > 67.05190126519454)\n",
      "       If (feature 3 <= 6.5)\n",
      "        If (feature 2 <= 2008.5)\n",
      "         Predict: 88.36635944700461\n",
      "        Else (feature 2 > 2008.5)\n",
      "         Predict: 77.20531526836895\n",
      "       Else (feature 3 > 6.5)\n",
      "        If (feature 10 <= 246.05208587646484)\n",
      "         Predict: 71.73752535496958\n",
      "        Else (feature 10 > 246.05208587646484)\n",
      "         Predict: 58.338\n",
      "     Else (feature 6 > 71.74479103088379)\n",
      "      If (feature 8 <= 989.9208374023438)\n",
      "       If (feature 1 <= 28.0)\n",
      "        If (feature 9 <= 10.325000286102295)\n",
      "         Predict: 65.96818181818182\n",
      "        Else (feature 9 > 10.325000286102295)\n",
      "         Predict: 149.3125\n",
      "       Else (feature 1 > 28.0)\n",
      "        If (feature 6 <= 78.63749885559082)\n",
      "         Predict: 108.5114813147231\n",
      "        Else (feature 6 > 78.63749885559082)\n",
      "         Predict: 138.09767625049233\n",
      "      Else (feature 8 > 989.9208374023438)\n",
      "       If (feature 9 <= 5.0299278290375415)\n",
      "        If (feature 7 <= 54.218749046325684)\n",
      "         Predict: 102.72367438386856\n",
      "        Else (feature 7 > 54.218749046325684)\n",
      "         Predict: 69.61576354679804\n",
      "       Else (feature 9 > 5.0299278290375415)\n",
      "        If (feature 8 <= 1005.1541595458984)\n",
      "         Predict: 74.06070826306915\n",
      "        Else (feature 8 > 1005.1541595458984)\n",
      "         Predict: 56.61059907834101\n",
      "    Else (feature 0 > 7.0)\n",
      "     If (feature 1 <= 2.0)\n",
      "      If (feature 6 <= 52.37202344621931)\n",
      "       If (feature 8 <= 885.1333312988281)\n",
      "        If (feature 10 <= 103.3125)\n",
      "         Predict: 97.80851063829788\n",
      "        Else (feature 10 > 103.3125)\n",
      "         Predict: 51.29978354978355\n",
      "       Else (feature 8 > 885.1333312988281)\n",
      "        If (feature 0 <= 14.0)\n",
      "         Predict: 46.32988357050453\n",
      "        Else (feature 0 > 14.0)\n",
      "         Predict: 36.81376518218624\n",
      "      Else (feature 6 > 52.37202344621931)\n",
      "       If (feature 8 <= 885.1333312988281)\n",
      "        If (feature 0 <= 16.5)\n",
      "         Predict: 128.3916175507531\n",
      "        Else (feature 0 > 16.5)\n",
      "         Predict: 60.95056726094003\n",
      "       Else (feature 8 > 885.1333312988281)\n",
      "        If (feature 4 <= 19.5)\n",
      "         Predict: 48.327783943766185\n",
      "        Else (feature 4 > 19.5)\n",
      "         Predict: 52.48688224527151\n",
      "     Else (feature 1 > 2.0)\n",
      "      If (feature 7 <= 76.7874984741211)\n",
      "       If (feature 6 <= 68.63154711042131)\n",
      "        If (feature 10 <= 246.05208587646484)\n",
      "         Predict: 44.36503270018001\n",
      "        Else (feature 10 > 246.05208587646484)\n",
      "         Predict: 39.02202065559048\n",
      "       Else (feature 6 > 68.63154711042131)\n",
      "        If (feature 6 <= 76.64583206176758)\n",
      "         Predict: 57.34458267906752\n",
      "        Else (feature 6 > 76.64583206176758)\n",
      "         Predict: 70.24384779991975\n",
      "      Else (feature 7 > 76.7874984741211)\n",
      "       If (feature 2 <= 2003.5)\n",
      "        If (feature 3 <= 9.5)\n",
      "         Predict: 49.62217580356381\n",
      "        Else (feature 3 > 9.5)\n",
      "         Predict: 38.342065868263475\n",
      "       Else (feature 2 > 2003.5)\n",
      "        If (feature 0 <= 16.5)\n",
      "         Predict: 34.534872761545714\n",
      "        Else (feature 0 > 16.5)\n",
      "         Predict: 40.68845956071402\n",
      "  Tree 14 (weight 1.0):\n",
      "    If (feature 6 <= 71.74479103088379)\n",
      "     If (feature 3 <= 8.5)\n",
      "      If (feature 1 <= 2.0)\n",
      "       If (feature 0 <= 16.5)\n",
      "        If (feature 0 <= 14.0)\n",
      "         Predict: 47.2688679245283\n",
      "        Else (feature 0 > 14.0)\n",
      "         Predict: 103.50956184943114\n",
      "       Else (feature 0 > 16.5)\n",
      "        If (feature 7 <= 42.038194429306756)\n",
      "         Predict: 56.39784946236559\n",
      "        Else (feature 7 > 42.038194429306756)\n",
      "         Predict: 42.40208172706245\n",
      "      Else (feature 1 > 2.0)\n",
      "       If (feature 1 <= 96.0)\n",
      "        If (feature 6 <= 62.4367432646699)\n",
      "         Predict: 42.75906683348192\n",
      "        Else (feature 6 > 62.4367432646699)\n",
      "         Predict: 50.63318308649925\n",
      "       Else (feature 1 > 96.0)\n",
      "        If (feature 0 <= 40.0)\n",
      "         Predict: 46.646893985776856\n",
      "        Else (feature 0 > 40.0)\n",
      "         Predict: 56.453476853991944\n",
      "     Else (feature 3 > 8.5)\n",
      "      If (feature 0 <= 7.0)\n",
      "       If (feature 9 <= 2.8194442739089327)\n",
      "        If (feature 1 <= 22.0)\n",
      "         Predict: 86.4760736196319\n",
      "        Else (feature 1 > 22.0)\n",
      "         Predict: 70.7621237458194\n",
      "       Else (feature 9 > 2.8194442739089327)\n",
      "        If (feature 9 <= 10.325000286102295)\n",
      "         Predict: 58.4718115760461\n",
      "        Else (feature 9 > 10.325000286102295)\n",
      "         Predict: 112.75\n",
      "      Else (feature 0 > 7.0)\n",
      "       If (feature 6 <= 57.68310239579942)\n",
      "        If (feature 3 <= 10.5)\n",
      "         Predict: 34.663977155759206\n",
      "        Else (feature 3 > 10.5)\n",
      "         Predict: 39.80976289194092\n",
      "       Else (feature 6 > 57.68310239579942)\n",
      "        If (feature 1 <= 2.0)\n",
      "         Predict: 95.2216704288939\n",
      "        Else (feature 1 > 2.0)\n",
      "         Predict: 44.1698451457361\n",
      "    Else (feature 6 > 71.74479103088379)\n",
      "     If (feature 6 <= 81.28240585327148)\n",
      "      If (feature 0 <= 7.0)\n",
      "       If (feature 10 <= 238.81144332885742)\n",
      "        If (feature 1 <= 28.0)\n",
      "         Predict: 79.09731800766284\n",
      "        Else (feature 1 > 28.0)\n",
      "         Predict: 104.37586512866017\n",
      "       Else (feature 10 > 238.81144332885742)\n",
      "        If (feature 6 <= 76.64583206176758)\n",
      "         Predict: 71.7044701986755\n",
      "        Else (feature 6 > 76.64583206176758)\n",
      "         Predict: 87.57411067193677\n",
      "      Else (feature 0 > 7.0)\n",
      "       If (feature 7 <= 76.7874984741211)\n",
      "        If (feature 10 <= 246.05208587646484)\n",
      "         Predict: 63.86273115220484\n",
      "        Else (feature 10 > 246.05208587646484)\n",
      "         Predict: 54.34786267250084\n",
      "       Else (feature 7 > 76.7874984741211)\n",
      "        If (feature 2 <= 2011.5)\n",
      "         Predict: 56.909766881028936\n",
      "        Else (feature 2 > 2011.5)\n",
      "         Predict: 41.96485623003195\n",
      "     Else (feature 6 > 81.28240585327148)\n",
      "      If (feature 7 <= 60.239583015441895)\n",
      "       If (feature 0 <= 7.0)\n",
      "        If (feature 8 <= 899.2708435058594)\n",
      "         Predict: 83.57894736842105\n",
      "        Else (feature 8 > 899.2708435058594)\n",
      "         Predict: 121.66505636070853\n",
      "       Else (feature 0 > 7.0)\n",
      "        If (feature 2 <= 2012.5)\n",
      "         Predict: 88.92654375182909\n",
      "        Else (feature 2 > 2012.5)\n",
      "         Predict: 67.9897997733283\n",
      "      Else (feature 7 > 60.239583015441895)\n",
      "       If (feature 2 <= 2006.5)\n",
      "        If (feature 7 <= 75.54097112019858)\n",
      "         Predict: 96.16590463749183\n",
      "        Else (feature 7 > 75.54097112019858)\n",
      "         Predict: 71.61713764813126\n",
      "       Else (feature 2 > 2006.5)\n",
      "        If (feature 2 <= 2012.5)\n",
      "         Predict: 68.90805022156573\n",
      "        Else (feature 2 > 2012.5)\n",
      "         Predict: 55.091552410437856\n",
      "  Tree 15 (weight 1.0):\n",
      "    If (feature 6 <= 71.74479103088379)\n",
      "     If (feature 1 <= 2.0)\n",
      "      If (feature 0 <= 16.5)\n",
      "       If (feature 6 <= 52.37202344621931)\n",
      "        If (feature 6 <= 50.5625)\n",
      "         Predict: 41.949019607843134\n",
      "        Else (feature 6 > 50.5625)\n",
      "         Predict: 52.24242424242424\n",
      "       Else (feature 6 > 52.37202344621931)\n",
      "        If (feature 2 <= 2007.5)\n",
      "         Predict: 69.3858668022369\n",
      "        Else (feature 2 > 2007.5)\n",
      "         Predict: 123.98670855485742\n",
      "      Else (feature 0 > 16.5)\n",
      "       If (feature 8 <= 877.1458435058594)\n",
      "        If (feature 9 <= 13.75)\n",
      "         Predict: 53.27406499080319\n",
      "        Else (feature 9 > 13.75)\n",
      "         Predict: 176.5\n",
      "       Else (feature 8 > 877.1458435058594)\n",
      "        If (feature 3 <= 8.5)\n",
      "         Predict: 41.6452025586354\n",
      "        Else (feature 3 > 8.5)\n",
      "         Predict: 32.5750773993808\n",
      "     Else (feature 1 > 2.0)\n",
      "      If (feature 0 <= 7.0)\n",
      "       If (feature 9 <= 13.75)\n",
      "        If (feature 8 <= 998.2847290039062)\n",
      "         Predict: 67.29045776918117\n",
      "        Else (feature 8 > 998.2847290039062)\n",
      "         Predict: 59.26028583802512\n",
      "       Else (feature 9 > 13.75)\n",
      "        If (feature 8 <= 885.1333312988281)\n",
      "         Predict: 493.2708333333333\n",
      "        Else (feature 8 > 885.1333312988281)\n",
      "         Predict: 61.74666666666667\n",
      "      Else (feature 0 > 7.0)\n",
      "       If (feature 6 <= 60.90972190433078)\n",
      "        If (feature 1 <= 140.0)\n",
      "         Predict: 39.47885423958242\n",
      "        Else (feature 1 > 140.0)\n",
      "         Predict: 46.177405418749615\n",
      "       Else (feature 6 > 60.90972190433078)\n",
      "        If (feature 3 <= 5.5)\n",
      "         Predict: 54.82047407687222\n",
      "        Else (feature 3 > 5.5)\n",
      "         Predict: 45.84678984610212\n",
      "    Else (feature 6 > 71.74479103088379)\n",
      "     If (feature 7 <= 67.74999904632568)\n",
      "      If (feature 0 <= 7.0)\n",
      "       If (feature 8 <= 1001.5687561035156)\n",
      "        If (feature 1 <= 28.0)\n",
      "         Predict: 86.04781879194631\n",
      "        Else (feature 1 > 28.0)\n",
      "         Predict: 117.02087259023047\n",
      "       Else (feature 8 > 1001.5687561035156)\n",
      "        If (feature 10 <= 226.58333206176758)\n",
      "         Predict: 92.06752688172043\n",
      "        Else (feature 10 > 226.58333206176758)\n",
      "         Predict: 76.6564705882353\n",
      "      Else (feature 0 > 7.0)\n",
      "       If (feature 1 <= 156.0)\n",
      "        If (feature 6 <= 76.64583206176758)\n",
      "         Predict: 59.94259579371939\n",
      "        Else (feature 6 > 76.64583206176758)\n",
      "         Predict: 72.26713343207217\n",
      "       Else (feature 1 > 156.0)\n",
      "        If (feature 8 <= 1008.8854064941406)\n",
      "         Predict: 72.13188220230474\n",
      "        Else (feature 8 > 1008.8854064941406)\n",
      "         Predict: 88.55498721227622\n",
      "     Else (feature 7 > 67.74999904632568)\n",
      "      If (feature 7 <= 79.58333396911621)\n",
      "       If (feature 2 <= 2008.5)\n",
      "        If (feature 6 <= 74.87532102144681)\n",
      "         Predict: 68.19745845552298\n",
      "        Else (feature 6 > 74.87532102144681)\n",
      "         Predict: 77.3030881332408\n",
      "       Else (feature 2 > 2008.5)\n",
      "        If (feature 0 <= 10.0)\n",
      "         Predict: 64.87686062246279\n",
      "        Else (feature 0 > 10.0)\n",
      "         Predict: 52.96998581560284\n",
      "      Else (feature 7 > 79.58333396911621)\n",
      "       If (feature 7 <= 88.35763867696127)\n",
      "        If (feature 2 <= 2007.5)\n",
      "         Predict: 62.28568134655292\n",
      "        Else (feature 2 > 2007.5)\n",
      "         Predict: 44.011800802454566\n",
      "       Else (feature 7 > 88.35763867696127)\n",
      "        If (feature 2 <= 2008.5)\n",
      "         Predict: 47.16216216216216\n",
      "        Else (feature 2 > 2008.5)\n",
      "         Predict: 36.23159434422233\n",
      "  Tree 16 (weight 1.0):\n",
      "    If (feature 0 <= 7.0)\n",
      "     If (feature 7 <= 51.70625019073486)\n",
      "      If (feature 9 <= 13.75)\n",
      "       If (feature 3 <= 3.5)\n",
      "        If (feature 9 <= 10.325000286102295)\n",
      "         Predict: 60.230905412240766\n",
      "        Else (feature 9 > 10.325000286102295)\n",
      "         Predict: 196.61052631578949\n",
      "       Else (feature 3 > 3.5)\n",
      "        If (feature 1 <= 28.0)\n",
      "         Predict: 77.10627584966733\n",
      "        Else (feature 1 > 28.0)\n",
      "         Predict: 95.60509757068897\n",
      "      Else (feature 9 > 13.75)\n",
      "       If (feature 10 <= 283.0065449305943)\n",
      "        If (feature 8 <= 877.1458435058594)\n",
      "         Predict: 497.6363636363636\n",
      "        Else (feature 8 > 877.1458435058594)\n",
      "         Predict: 96.8125\n",
      "       Else (feature 10 > 283.0065449305943)\n",
      "        If (feature 4 <= 1.5)\n",
      "         Predict: 13276.0\n",
      "        Else (feature 4 > 1.5)\n",
      "         Predict: 334.8\n",
      "     Else (feature 7 > 51.70625019073486)\n",
      "      If (feature 1 <= 38.0)\n",
      "       If (feature 3 <= 5.5)\n",
      "        If (feature 3 <= 1.5)\n",
      "         Predict: 80.05056759545924\n",
      "        Else (feature 3 > 1.5)\n",
      "         Predict: 62.01733677609738\n",
      "       Else (feature 3 > 5.5)\n",
      "        If (feature 1 <= 28.0)\n",
      "         Predict: 70.676102340773\n",
      "        Else (feature 1 > 28.0)\n",
      "         Predict: 95.75028901734105\n",
      "      Else (feature 1 > 38.0)\n",
      "       If (feature 6 <= 67.05190126519454)\n",
      "        If (feature 6 <= 48.70138804117839)\n",
      "         Predict: 62.1544782251438\n",
      "        Else (feature 6 > 48.70138804117839)\n",
      "         Predict: 56.71738710300844\n",
      "       Else (feature 6 > 67.05190126519454)\n",
      "        If (feature 8 <= 979.9208374023438)\n",
      "         Predict: 99.73720136518772\n",
      "        Else (feature 8 > 979.9208374023438)\n",
      "         Predict: 68.86105360018404\n",
      "    Else (feature 0 > 7.0)\n",
      "     If (feature 1 <= 2.0)\n",
      "      If (feature 0 <= 16.5)\n",
      "       If (feature 2 <= 2013.5)\n",
      "        If (feature 9 <= 4.544583185513814)\n",
      "         Predict: 170.73288439955107\n",
      "        Else (feature 9 > 4.544583185513814)\n",
      "         Predict: 90.30154720555731\n",
      "       Else (feature 2 > 2013.5)\n",
      "        If (feature 7 <= 79.58333396911621)\n",
      "         Predict: 51.57365182772349\n",
      "        Else (feature 7 > 79.58333396911621)\n",
      "         Predict: 116.69055374592834\n",
      "      Else (feature 0 > 16.5)\n",
      "       If (feature 0 <= 35.5)\n",
      "        If (feature 3 <= 8.5)\n",
      "         Predict: 61.10268199233717\n",
      "        Else (feature 3 > 8.5)\n",
      "         Predict: 50.447712418300654\n",
      "       Else (feature 0 > 35.5)\n",
      "        If (feature 6 <= 68.63154711042131)\n",
      "         Predict: 38.27926960257788\n",
      "        Else (feature 6 > 68.63154711042131)\n",
      "         Predict: 65.00474495848161\n",
      "     Else (feature 1 > 2.0)\n",
      "      If (feature 0 <= 16.5)\n",
      "       If (feature 1 <= 88.0)\n",
      "        If (feature 7 <= 36.90242263248989)\n",
      "         Predict: 51.173174872665534\n",
      "        Else (feature 7 > 36.90242263248989)\n",
      "         Predict: 32.91810864408757\n",
      "       Else (feature 1 > 88.0)\n",
      "        If (feature 7 <= 81.1125)\n",
      "         Predict: 46.5723749119098\n",
      "        Else (feature 7 > 81.1125)\n",
      "         Predict: 34.13173913043478\n",
      "      Else (feature 0 > 16.5)\n",
      "       If (feature 2 <= 2012.5)\n",
      "        If (feature 3 <= 9.5)\n",
      "         Predict: 51.460529361350744\n",
      "        Else (feature 3 > 9.5)\n",
      "         Predict: 40.99938290074052\n",
      "       Else (feature 2 > 2012.5)\n",
      "        If (feature 6 <= 68.63154711042131)\n",
      "         Predict: 41.115066387738544\n",
      "        Else (feature 6 > 68.63154711042131)\n",
      "         Predict: 51.20072210575355\n",
      "  Tree 17 (weight 1.0):\n",
      "    If (feature 0 <= 7.0)\n",
      "     If (feature 6 <= 71.74479103088379)\n",
      "      If (feature 9 <= 2.8194442739089327)\n",
      "       If (feature 1 <= 38.0)\n",
      "        If (feature 7 <= 54.218749046325684)\n",
      "         Predict: 62.042726347914545\n",
      "        Else (feature 7 > 54.218749046325684)\n",
      "         Predict: 85.88417832167832\n",
      "       Else (feature 1 > 38.0)\n",
      "        If (feature 0 <= 4.0)\n",
      "         Predict: 57.86277777777778\n",
      "        Else (feature 0 > 4.0)\n",
      "         Predict: 70.113855898654\n",
      "      Else (feature 9 > 2.8194442739089327)\n",
      "       If (feature 7 <= 73.03333129882813)\n",
      "        If (feature 10 <= 262.6822853088379)\n",
      "         Predict: 64.29548490515629\n",
      "        Else (feature 10 > 262.6822853088379)\n",
      "         Predict: 52.96333478830205\n",
      "       Else (feature 7 > 73.03333129882813)\n",
      "        If (feature 6 <= 63.95123052597046)\n",
      "         Predict: 50.51530045980656\n",
      "        Else (feature 6 > 63.95123052597046)\n",
      "         Predict: 62.46933333333333\n",
      "     Else (feature 6 > 71.74479103088379)\n",
      "      If (feature 8 <= 989.9208374023438)\n",
      "       If (feature 1 <= 28.0)\n",
      "        If (feature 9 <= 10.325000286102295)\n",
      "         Predict: 66.00147819660015\n",
      "        Else (feature 9 > 10.325000286102295)\n",
      "         Predict: 149.9\n",
      "       Else (feature 1 > 28.0)\n",
      "        If (feature 1 <= 72.0)\n",
      "         Predict: 128.37512054001928\n",
      "        Else (feature 1 > 72.0)\n",
      "         Predict: 81.6133909287257\n",
      "      Else (feature 8 > 989.9208374023438)\n",
      "       If (feature 6 <= 78.63749885559082)\n",
      "        If (feature 9 <= 4.345833480358124)\n",
      "         Predict: 89.00848484848485\n",
      "        Else (feature 9 > 4.345833480358124)\n",
      "         Predict: 68.90577777777777\n",
      "       Else (feature 6 > 78.63749885559082)\n",
      "        If (feature 7 <= 51.70625019073486)\n",
      "         Predict: 106.92706964520367\n",
      "        Else (feature 7 > 51.70625019073486)\n",
      "         Predict: 67.62098138747885\n",
      "    Else (feature 0 > 7.0)\n",
      "     If (feature 6 <= 70.20753156221829)\n",
      "      If (feature 1 <= 2.0)\n",
      "       If (feature 6 <= 52.37202344621931)\n",
      "        If (feature 8 <= 885.1333312988281)\n",
      "         Predict: 52.33576642335766\n",
      "        Else (feature 8 > 885.1333312988281)\n",
      "         Predict: 38.75602491199567\n",
      "       Else (feature 6 > 52.37202344621931)\n",
      "        If (feature 2 <= 2007.5)\n",
      "         Predict: 55.69996735226902\n",
      "        Else (feature 2 > 2007.5)\n",
      "         Predict: 113.32195723684211\n",
      "      Else (feature 1 > 2.0)\n",
      "       If (feature 1 <= 140.0)\n",
      "        If (feature 6 <= 60.90972190433078)\n",
      "         Predict: 39.5174819012814\n",
      "        Else (feature 6 > 60.90972190433078)\n",
      "         Predict: 45.92242101869761\n",
      "       Else (feature 1 > 140.0)\n",
      "        If (feature 6 <= 52.37202344621931)\n",
      "         Predict: 44.406950721839486\n",
      "        Else (feature 6 > 52.37202344621931)\n",
      "         Predict: 53.155145194469696\n",
      "     Else (feature 6 > 70.20753156221829)\n",
      "      If (feature 7 <= 75.54097112019858)\n",
      "       If (feature 2 <= 2012.5)\n",
      "        If (feature 2 <= 2003.5)\n",
      "         Predict: 83.87387842790345\n",
      "        Else (feature 2 > 2003.5)\n",
      "         Predict: 68.78095697134344\n",
      "       Else (feature 2 > 2012.5)\n",
      "        If (feature 0 <= 64.0)\n",
      "         Predict: 56.47278428783628\n",
      "        Else (feature 0 > 64.0)\n",
      "         Predict: 23.516666666666666\n",
      "      Else (feature 7 > 75.54097112019858)\n",
      "       If (feature 7 <= 84.13541666666666)\n",
      "        If (feature 0 <= 14.0)\n",
      "         Predict: 42.80715396578538\n",
      "        Else (feature 0 > 14.0)\n",
      "         Predict: 54.438940981798126\n",
      "       Else (feature 7 > 84.13541666666666)\n",
      "        If (feature 6 <= 81.28240585327148)\n",
      "         Predict: 44.007328833172615\n",
      "        Else (feature 6 > 81.28240585327148)\n",
      "         Predict: 59.13394495412844\n",
      "  Tree 18 (weight 1.0):\n",
      "    If (feature 6 <= 70.20753156221829)\n",
      "     If (feature 1 <= 2.0)\n",
      "      If (feature 0 <= 16.5)\n",
      "       If (feature 6 <= 52.37202344621931)\n",
      "        If (feature 8 <= 885.1333312988281)\n",
      "         Predict: 104.46875\n",
      "        Else (feature 8 > 885.1333312988281)\n",
      "         Predict: 41.56002775850104\n",
      "       Else (feature 6 > 52.37202344621931)\n",
      "        If (feature 0 <= 14.0)\n",
      "         Predict: 44.145270270270274\n",
      "        Else (feature 0 > 14.0)\n",
      "         Predict: 111.0191775769869\n",
      "      Else (feature 0 > 16.5)\n",
      "       If (feature 2 <= 2010.5)\n",
      "        If (feature 7 <= 79.58333396911621)\n",
      "         Predict: 39.31703757752645\n",
      "        Else (feature 7 > 79.58333396911621)\n",
      "         Predict: 30.63157894736842\n",
      "       Else (feature 2 > 2010.5)\n",
      "        If (feature 7 <= 28.63124942779541)\n",
      "         Predict: 58.77577319587629\n",
      "        Else (feature 7 > 28.63124942779541)\n",
      "         Predict: 50.1645885286783\n",
      "     Else (feature 1 > 2.0)\n",
      "      If (feature 7 <= 36.90242263248989)\n",
      "       If (feature 9 <= 13.75)\n",
      "        If (feature 8 <= 1003.133321126302)\n",
      "         Predict: 57.43414784078684\n",
      "        Else (feature 8 > 1003.133321126302)\n",
      "         Predict: 47.71466431095406\n",
      "       Else (feature 9 > 13.75)\n",
      "        If (feature 0 <= 7.0)\n",
      "         Predict: 415.015873015873\n",
      "        Else (feature 0 > 7.0)\n",
      "         Predict: 49.809968847352025\n",
      "      Else (feature 7 > 36.90242263248989)\n",
      "       If (feature 0 <= 7.0)\n",
      "        If (feature 8 <= 983.4624938964844)\n",
      "         Predict: 69.73882945248585\n",
      "        Else (feature 8 > 983.4624938964844)\n",
      "         Predict: 59.433243601591066\n",
      "       Else (feature 0 > 7.0)\n",
      "        If (feature 1 <= 140.0)\n",
      "         Predict: 40.72663210124324\n",
      "        Else (feature 1 > 140.0)\n",
      "         Predict: 47.619992808342325\n",
      "    Else (feature 6 > 70.20753156221829)\n",
      "     If (feature 7 <= 66.39583206176758)\n",
      "      If (feature 0 <= 7.0)\n",
      "       If (feature 8 <= 1001.5687561035156)\n",
      "        If (feature 1 <= 28.0)\n",
      "         Predict: 85.38893188854489\n",
      "        Else (feature 1 > 28.0)\n",
      "         Predict: 115.89365671641791\n",
      "       Else (feature 8 > 1001.5687561035156)\n",
      "        If (feature 9 <= 4.544583185513814)\n",
      "         Predict: 89.46308113035552\n",
      "        Else (feature 9 > 4.544583185513814)\n",
      "         Predict: 65.66746602717826\n",
      "      Else (feature 0 > 7.0)\n",
      "       If (feature 3 <= 6.5)\n",
      "        If (feature 8 <= 985.7937622070312)\n",
      "         Predict: 66.8355735591972\n",
      "        Else (feature 8 > 985.7937622070312)\n",
      "         Predict: 74.78484810601326\n",
      "       Else (feature 3 > 6.5)\n",
      "        If (feature 6 <= 78.63749885559082)\n",
      "         Predict: 57.415065035915354\n",
      "        Else (feature 6 > 78.63749885559082)\n",
      "         Predict: 74.62149080348499\n",
      "     Else (feature 7 > 66.39583206176758)\n",
      "      If (feature 6 <= 78.63749885559082)\n",
      "       If (feature 2 <= 2012.5)\n",
      "        If (feature 1 <= 38.0)\n",
      "         Predict: 65.09257157270778\n",
      "        Else (feature 1 > 38.0)\n",
      "         Predict: 57.36038986354776\n",
      "       Else (feature 2 > 2012.5)\n",
      "        If (feature 2 <= 2015.5)\n",
      "         Predict: 48.4010518590998\n",
      "        Else (feature 2 > 2015.5)\n",
      "         Predict: 44.20241823242867\n",
      "      Else (feature 6 > 78.63749885559082)\n",
      "       If (feature 2 <= 2006.5)\n",
      "        If (feature 7 <= 81.1125)\n",
      "         Predict: 85.92794683455753\n",
      "        Else (feature 7 > 81.1125)\n",
      "         Predict: 61.12551440329218\n",
      "       Else (feature 2 > 2006.5)\n",
      "        If (feature 7 <= 75.54097112019858)\n",
      "         Predict: 59.207490039840636\n",
      "        Else (feature 7 > 75.54097112019858)\n",
      "         Predict: 47.710573881608674\n",
      "  Tree 19 (weight 1.0):\n",
      "    If (feature 7 <= 45.55000114440918)\n",
      "     If (feature 0 <= 7.0)\n",
      "      If (feature 3 <= 3.5)\n",
      "       If (feature 8 <= 885.1333312988281)\n",
      "        If (feature 9 <= 10.325000286102295)\n",
      "         Predict: 63.48235294117647\n",
      "        Else (feature 9 > 10.325000286102295)\n",
      "         Predict: 241.01666666666668\n",
      "       Else (feature 8 > 885.1333312988281)\n",
      "        If (feature 8 <= 899.2708435058594)\n",
      "         Predict: 41.86601307189542\n",
      "        Else (feature 8 > 899.2708435058594)\n",
      "         Predict: 60.11898859692613\n",
      "      Else (feature 3 > 3.5)\n",
      "       If (feature 7 <= 28.63124942779541)\n",
      "        If (feature 0 <= 4.0)\n",
      "         Predict: 43.3187134502924\n",
      "        Else (feature 0 > 4.0)\n",
      "         Predict: 84.20765472312704\n",
      "       Else (feature 7 > 28.63124942779541)\n",
      "        If (feature 6 <= 73.328125)\n",
      "         Predict: 74.76031991744065\n",
      "        Else (feature 6 > 73.328125)\n",
      "         Predict: 113.39068456820819\n",
      "     Else (feature 0 > 7.0)\n",
      "      If (feature 7 <= 28.63124942779541)\n",
      "       If (feature 6 <= 81.28240585327148)\n",
      "        If (feature 2 <= 2013.5)\n",
      "         Predict: 61.071667596207476\n",
      "        Else (feature 2 > 2013.5)\n",
      "         Predict: 57.09429356118401\n",
      "       Else (feature 6 > 81.28240585327148)\n",
      "        If (feature 9 <= 3.7870593229929606)\n",
      "         Predict: 86.55483870967743\n",
      "        Else (feature 9 > 3.7870593229929606)\n",
      "         Predict: 74.32142857142857\n",
      "      Else (feature 7 > 28.63124942779541)\n",
      "       If (feature 1 <= 140.0)\n",
      "        If (feature 6 <= 56.10138861338298)\n",
      "         Predict: 42.88746123172353\n",
      "        Else (feature 6 > 56.10138861338298)\n",
      "         Predict: 52.92356191555682\n",
      "       Else (feature 1 > 140.0)\n",
      "        If (feature 3 <= 3.5)\n",
      "         Predict: 49.800791556728235\n",
      "        Else (feature 3 > 3.5)\n",
      "         Predict: 67.38507209499576\n",
      "    Else (feature 7 > 45.55000114440918)\n",
      "     If (feature 1 <= 2.0)\n",
      "      If (feature 8 <= 885.1333312988281)\n",
      "       If (feature 2 <= 2007.5)\n",
      "        If (feature 9 <= 5.0299278290375415)\n",
      "         Predict: 160.0338266384778\n",
      "        Else (feature 9 > 5.0299278290375415)\n",
      "         Predict: 35.17313746065058\n",
      "       Else (feature 2 > 2007.5)\n",
      "        If (feature 2 <= 2010.5)\n",
      "         Predict: 175.06682867557717\n",
      "        Else (feature 2 > 2010.5)\n",
      "         Predict: 121.17543227665706\n",
      "      Else (feature 8 > 885.1333312988281)\n",
      "       If (feature 0 <= 14.0)\n",
      "        If (feature 7 <= 74.29374694824219)\n",
      "         Predict: 52.22078968573731\n",
      "        Else (feature 7 > 74.29374694824219)\n",
      "         Predict: 42.7196261682243\n",
      "       Else (feature 0 > 14.0)\n",
      "        If (feature 6 <= 70.20753156221829)\n",
      "         Predict: 38.10222314564721\n",
      "        Else (feature 6 > 70.20753156221829)\n",
      "         Predict: 68.09917355371901\n",
      "     Else (feature 1 > 2.0)\n",
      "      If (feature 6 <= 68.63154711042131)\n",
      "       If (feature 0 <= 7.0)\n",
      "        If (feature 9 <= 2.9833330512046814)\n",
      "         Predict: 70.40957249070632\n",
      "        Else (feature 9 > 2.9833330512046814)\n",
      "         Predict: 56.10948384619604\n",
      "       Else (feature 0 > 7.0)\n",
      "        If (feature 1 <= 140.0)\n",
      "         Predict: 40.06593868808677\n",
      "        Else (feature 1 > 140.0)\n",
      "         Predict: 46.98235013515662\n",
      "      Else (feature 6 > 68.63154711042131)\n",
      "       If (feature 1 <= 28.0)\n",
      "        If (feature 10 <= 146.08333206176758)\n",
      "         Predict: 49.761629308267054\n",
      "        Else (feature 10 > 146.08333206176758)\n",
      "         Predict: 58.67809653439431\n",
      "       Else (feature 1 > 28.0)\n",
      "        If (feature 0 <= 7.0)\n",
      "         Predict: 86.63841642228739\n",
      "        Else (feature 0 > 7.0)\n",
      "         Predict: 58.71717157005534"
     ]
    }
   ],
   "source": [
    "# Train the model.ntrees=50\n",
    "from pyspark.ml.regression import RandomForestRegressor\n",
    "rf = RandomForestRegressor()\n",
    "rfmodel = rf.fit(data1_train)\n",
    "print(rfmodel._call_java('toDebugString'))"
   ]
  },
  {
   "cell_type": "code",
   "execution_count": 69,
   "metadata": {},
   "outputs": [
    {
     "data": {
      "application/vnd.jupyter.widget-view+json": {
       "model_id": "ab0dfdd432f44ea7963e45eaa4c7b394",
       "version_major": 2,
       "version_minor": 0
      },
      "text/plain": [
       "VBox()"
      ]
     },
     "metadata": {},
     "output_type": "display_data"
    },
    {
     "data": {
      "application/vnd.jupyter.widget-view+json": {
       "model_id": "",
       "version_major": 2,
       "version_minor": 0
      },
      "text/plain": [
       "FloatProgress(value=0.0, bar_style='info', description='Progress:', layout=Layout(height='25px', width='50%'),…"
      ]
     },
     "metadata": {},
     "output_type": "display_data"
    }
   ],
   "source": [
    "rfpred = rfmodel.transform(data1_test)"
   ]
  },
  {
   "cell_type": "code",
   "execution_count": 70,
   "metadata": {},
   "outputs": [
    {
     "data": {
      "application/vnd.jupyter.widget-view+json": {
       "model_id": "03419c7b0c664dca9f98ba9e04505f4a",
       "version_major": 2,
       "version_minor": 0
      },
      "text/plain": [
       "VBox()"
      ]
     },
     "metadata": {},
     "output_type": "display_data"
    },
    {
     "data": {
      "application/vnd.jupyter.widget-view+json": {
       "model_id": "",
       "version_major": 2,
       "version_minor": 0
      },
      "text/plain": [
       "FloatProgress(value=0.0, bar_style='info', description='Progress:', layout=Layout(height='25px', width='50%'),…"
      ]
     },
     "metadata": {},
     "output_type": "display_data"
    }
   ],
   "source": [
    "from pyspark.ml.evaluation import RegressionEvaluator"
   ]
  },
  {
   "cell_type": "code",
   "execution_count": 71,
   "metadata": {},
   "outputs": [
    {
     "data": {
      "application/vnd.jupyter.widget-view+json": {
       "model_id": "7526fcb43b814f1f9b84b3d08651a792",
       "version_major": 2,
       "version_minor": 0
      },
      "text/plain": [
       "VBox()"
      ]
     },
     "metadata": {},
     "output_type": "display_data"
    },
    {
     "data": {
      "application/vnd.jupyter.widget-view+json": {
       "model_id": "",
       "version_major": 2,
       "version_minor": 0
      },
      "text/plain": [
       "FloatProgress(value=0.0, bar_style='info', description='Progress:', layout=Layout(height='25px', width='50%'),…"
      ]
     },
     "metadata": {},
     "output_type": "display_data"
    },
    {
     "name": "stdout",
     "output_type": "stream",
     "text": [
      "Root Mean Squared Error (RMSE) on test data = 25.8653"
     ]
    }
   ],
   "source": [
    "\n",
    "# Select (prediction, true label) and compute test error\n",
    "evaluator = RegressionEvaluator(\n",
    "    labelCol=\"label\", predictionCol=\"prediction\", metricName=\"rmse\")\n",
    "rmse = evaluator.evaluate(rfpred)\n",
    "print(\"Root Mean Squared Error (RMSE) on test data = %g\" % rmse)"
   ]
  },
  {
   "cell_type": "code",
   "execution_count": 72,
   "metadata": {},
   "outputs": [
    {
     "data": {
      "application/vnd.jupyter.widget-view+json": {
       "model_id": "4aa24b79a7d746a0af028f625268e076",
       "version_major": 2,
       "version_minor": 0
      },
      "text/plain": [
       "VBox()"
      ]
     },
     "metadata": {},
     "output_type": "display_data"
    },
    {
     "data": {
      "application/vnd.jupyter.widget-view+json": {
       "model_id": "",
       "version_major": 2,
       "version_minor": 0
      },
      "text/plain": [
       "FloatProgress(value=0.0, bar_style='info', description='Progress:', layout=Layout(height='25px', width='50%'),…"
      ]
     },
     "metadata": {},
     "output_type": "display_data"
    },
    {
     "name": "stdout",
     "output_type": "stream",
     "text": [
      "R2 on test data = 0.29129"
     ]
    }
   ],
   "source": [
    "evaluator = RegressionEvaluator(\n",
    "    labelCol=\"label\", predictionCol=\"prediction\", metricName=\"r2\") # supports \"rmse\" (default), \"mse\", \"r2\", and \"mae\"\n",
    "r2 = evaluator.evaluate(rfpred)\n",
    "print(\"R2 on test data = %g\" % r2)"
   ]
  },
  {
   "cell_type": "code",
   "execution_count": 73,
   "metadata": {
    "scrolled": true
   },
   "outputs": [
    {
     "data": {
      "application/vnd.jupyter.widget-view+json": {
       "model_id": "529b3743046d408ebd71cdc24fc74490",
       "version_major": 2,
       "version_minor": 0
      },
      "text/plain": [
       "VBox()"
      ]
     },
     "metadata": {},
     "output_type": "display_data"
    },
    {
     "data": {
      "application/vnd.jupyter.widget-view+json": {
       "model_id": "",
       "version_major": 2,
       "version_minor": 0
      },
      "text/plain": [
       "FloatProgress(value=0.0, bar_style='info', description='Progress:', layout=Layout(height='25px', width='50%'),…"
      ]
     },
     "metadata": {},
     "output_type": "display_data"
    },
    {
     "name": "stdout",
     "output_type": "stream",
     "text": [
      "Mean Absolute Error (MAE) on test data = 16.7333"
     ]
    }
   ],
   "source": [
    "evaluator = RegressionEvaluator(\n",
    "    labelCol=\"label\", predictionCol=\"prediction\", metricName=\"mae\") # supports \"rmse\" (default), \"mse\", \"r2\", and \"mae\"\n",
    "mae = evaluator.evaluate(rfpred)\n",
    "print(\"Mean Absolute Error (MAE) on test data = %g\" % mae)"
   ]
  },
  {
   "cell_type": "code",
   "execution_count": 79,
   "metadata": {},
   "outputs": [
    {
     "data": {
      "application/vnd.jupyter.widget-view+json": {
       "model_id": "5ede7de0589e4febab2e9d8c5253b26e",
       "version_major": 2,
       "version_minor": 0
      },
      "text/plain": [
       "VBox()"
      ]
     },
     "metadata": {},
     "output_type": "display_data"
    },
    {
     "data": {
      "application/vnd.jupyter.widget-view+json": {
       "model_id": "",
       "version_major": 2,
       "version_minor": 0
      },
      "text/plain": [
       "FloatProgress(value=0.0, bar_style='info', description='Progress:', layout=Layout(height='25px', width='50%'),…"
      ]
     },
     "metadata": {},
     "output_type": "display_data"
    }
   ],
   "source": [
    "# ntrees=100\n",
    "rf = RandomForestRegressor(numTrees=100)\n",
    "rfmodel = rf.fit(data1_train)\n",
    "rfpred = rfmodel.transform(data1_test)\n",
    "#print(rfmodel._call_java('toDebugString'))"
   ]
  },
  {
   "cell_type": "code",
   "execution_count": 80,
   "metadata": {},
   "outputs": [
    {
     "data": {
      "application/vnd.jupyter.widget-view+json": {
       "model_id": "d3893903dbaf4e47be8fa5aff0cf773d",
       "version_major": 2,
       "version_minor": 0
      },
      "text/plain": [
       "VBox()"
      ]
     },
     "metadata": {},
     "output_type": "display_data"
    },
    {
     "data": {
      "application/vnd.jupyter.widget-view+json": {
       "model_id": "",
       "version_major": 2,
       "version_minor": 0
      },
      "text/plain": [
       "FloatProgress(value=0.0, bar_style='info', description='Progress:', layout=Layout(height='25px', width='50%'),…"
      ]
     },
     "metadata": {},
     "output_type": "display_data"
    },
    {
     "name": "stdout",
     "output_type": "stream",
     "text": [
      "Root Mean Squared Error (RMSE) on test data = 25.8752\n",
      "Mean Absolute Error (MAE) on test data = 16.7021"
     ]
    }
   ],
   "source": [
    "evaluator = RegressionEvaluator(\n",
    "    labelCol=\"label\", predictionCol=\"prediction\", metricName=\"rmse\")\n",
    "rmse = evaluator.evaluate(rfpred)\n",
    "print(\"Root Mean Squared Error (RMSE) on test data = %g\" % rmse)\n",
    "\n",
    "evaluator = RegressionEvaluator(\n",
    "    labelCol=\"label\", predictionCol=\"prediction\", metricName=\"mae\") # supports \"rmse\" (default), \"mse\", \"r2\", and \"mae\"\n",
    "mae = evaluator.evaluate(rfpred)\n",
    "print(\"Mean Absolute Error (MAE) on test data = %g\" % mae)"
   ]
  },
  {
   "cell_type": "code",
   "execution_count": 81,
   "metadata": {},
   "outputs": [
    {
     "data": {
      "application/vnd.jupyter.widget-view+json": {
       "model_id": "be21043bbb74454c9cf82fc8567a1584",
       "version_major": 2,
       "version_minor": 0
      },
      "text/plain": [
       "VBox()"
      ]
     },
     "metadata": {},
     "output_type": "display_data"
    },
    {
     "data": {
      "application/vnd.jupyter.widget-view+json": {
       "model_id": "",
       "version_major": 2,
       "version_minor": 0
      },
      "text/plain": [
       "FloatProgress(value=0.0, bar_style='info', description='Progress:', layout=Layout(height='25px', width='50%'),…"
      ]
     },
     "metadata": {},
     "output_type": "display_data"
    }
   ],
   "source": [
    "# ntrees=10\n",
    "rf = RandomForestRegressor(numTrees=10)\n",
    "rfmodel = rf.fit(data1_train)\n",
    "rfpred = rfmodel.transform(data1_test)\n",
    "#print(rfmodel._call_java('toDebugString'))"
   ]
  },
  {
   "cell_type": "code",
   "execution_count": 82,
   "metadata": {},
   "outputs": [
    {
     "data": {
      "application/vnd.jupyter.widget-view+json": {
       "model_id": "8ed1d3aaf4094369ac9df156995745d6",
       "version_major": 2,
       "version_minor": 0
      },
      "text/plain": [
       "VBox()"
      ]
     },
     "metadata": {},
     "output_type": "display_data"
    },
    {
     "data": {
      "application/vnd.jupyter.widget-view+json": {
       "model_id": "",
       "version_major": 2,
       "version_minor": 0
      },
      "text/plain": [
       "FloatProgress(value=0.0, bar_style='info', description='Progress:', layout=Layout(height='25px', width='50%'),…"
      ]
     },
     "metadata": {},
     "output_type": "display_data"
    },
    {
     "name": "stdout",
     "output_type": "stream",
     "text": [
      "Root Mean Squared Error (RMSE) on test data = 25.9239\n",
      "Mean Absolute Error (MAE) on test data = 16.7486"
     ]
    }
   ],
   "source": [
    "evaluator = RegressionEvaluator(\n",
    "    labelCol=\"label\", predictionCol=\"prediction\", metricName=\"rmse\")\n",
    "rmse = evaluator.evaluate(rfpred)\n",
    "print(\"Root Mean Squared Error (RMSE) on test data = %g\" % rmse)\n",
    "\n",
    "evaluator = RegressionEvaluator(\n",
    "    labelCol=\"label\", predictionCol=\"prediction\", metricName=\"mae\") # supports \"rmse\" (default), \"mse\", \"r2\", and \"mae\"\n",
    "mae = evaluator.evaluate(rfpred)\n",
    "print(\"Mean Absolute Error (MAE) on test data = %g\" % mae)"
   ]
  },
  {
   "cell_type": "code",
   "execution_count": null,
   "metadata": {},
   "outputs": [],
   "source": []
  },
  {
   "cell_type": "code",
   "execution_count": null,
   "metadata": {},
   "outputs": [],
   "source": []
  },
  {
   "cell_type": "code",
   "execution_count": null,
   "metadata": {},
   "outputs": [],
   "source": []
  },
  {
   "cell_type": "markdown",
   "metadata": {},
   "source": [
    "## add nearest AQI as a feature"
   ]
  },
  {
   "cell_type": "code",
   "execution_count": 83,
   "metadata": {},
   "outputs": [
    {
     "data": {
      "application/vnd.jupyter.widget-view+json": {
       "model_id": "452c6fb9e3a04330be553b911564d3d5",
       "version_major": 2,
       "version_minor": 0
      },
      "text/plain": [
       "VBox()"
      ]
     },
     "metadata": {},
     "output_type": "display_data"
    },
    {
     "data": {
      "application/vnd.jupyter.widget-view+json": {
       "model_id": "",
       "version_major": 2,
       "version_minor": 0
      },
      "text/plain": [
       "FloatProgress(value=0.0, bar_style='info', description='Progress:', layout=Layout(height='25px', width='50%'),…"
      ]
     },
     "metadata": {},
     "output_type": "display_data"
    }
   ],
   "source": [
    "## inner data+nearest AQI as a feature\n",
    "from pyspark.sql.window import Window\n",
    "from pyspark.sql.functions import *"
   ]
  },
  {
   "cell_type": "code",
   "execution_count": 84,
   "metadata": {},
   "outputs": [
    {
     "data": {
      "application/vnd.jupyter.widget-view+json": {
       "model_id": "327f88b4153546c5a26d9c7d113f11e5",
       "version_major": 2,
       "version_minor": 0
      },
      "text/plain": [
       "VBox()"
      ]
     },
     "metadata": {},
     "output_type": "display_data"
    },
    {
     "data": {
      "application/vnd.jupyter.widget-view+json": {
       "model_id": "",
       "version_major": 2,
       "version_minor": 0
      },
      "text/plain": [
       "FloatProgress(value=0.0, bar_style='info', description='Progress:', layout=Layout(height='25px', width='50%'),…"
      ]
     },
     "metadata": {},
     "output_type": "display_data"
    },
    {
     "name": "stdout",
     "output_type": "stream",
     "text": [
      "[('State_Name', 'string'), ('County_Name', 'string'), ('State_Code_num', 'int'), ('County_Code_num', 'int'), ('Date', 'date'), ('year', 'int'), ('month', 'int'), ('day', 'int'), ('dow', 'int'), ('temp', 'double'), ('humidity', 'double'), ('pressure', 'double'), ('wind_speed', 'double'), ('wind_direction', 'double'), ('label', 'double')]"
     ]
    }
   ],
   "source": [
    "data1_date.dtypes"
   ]
  },
  {
   "cell_type": "code",
   "execution_count": 85,
   "metadata": {},
   "outputs": [
    {
     "data": {
      "application/vnd.jupyter.widget-view+json": {
       "model_id": "c6624cee148f4da3816c275e7c51d78c",
       "version_major": 2,
       "version_minor": 0
      },
      "text/plain": [
       "VBox()"
      ]
     },
     "metadata": {},
     "output_type": "display_data"
    },
    {
     "data": {
      "application/vnd.jupyter.widget-view+json": {
       "model_id": "",
       "version_major": 2,
       "version_minor": 0
      },
      "text/plain": [
       "FloatProgress(value=0.0, bar_style='info', description='Progress:', layout=Layout(height='25px', width='50%'),…"
      ]
     },
     "metadata": {},
     "output_type": "display_data"
    }
   ],
   "source": [
    "data1_lag = data1_date.select(\n",
    "                               'State_Code_num',\n",
    "                               'County_Code_num',\n",
    "                                year(\"Date\").alias('year'),\n",
    "                                month(\"Date\").alias('month'),\n",
    "                                dayofmonth(\"Date\").alias('day'),\n",
    "                                dayofweek('Date').alias('dow'),\n",
    "                               'temp',\n",
    "                               'humidity',\n",
    "                               'pressure',\n",
    "                               'wind_speed',\n",
    "                               'wind_direction',\n",
    "                                lag(\"label\", 1).over(Window.partitionBy(\n",
    "                                    'State_Code_num','County_Code_num').orderBy('Date')).alias(\"prev_AQI\"),\n",
    "                               'label'\n",
    "                              )"
   ]
  },
  {
   "cell_type": "code",
   "execution_count": 86,
   "metadata": {},
   "outputs": [
    {
     "data": {
      "application/vnd.jupyter.widget-view+json": {
       "model_id": "780cf923bf554f55abe168bcfb9bc28d",
       "version_major": 2,
       "version_minor": 0
      },
      "text/plain": [
       "VBox()"
      ]
     },
     "metadata": {},
     "output_type": "display_data"
    },
    {
     "data": {
      "application/vnd.jupyter.widget-view+json": {
       "model_id": "",
       "version_major": 2,
       "version_minor": 0
      },
      "text/plain": [
       "FloatProgress(value=0.0, bar_style='info', description='Progress:', layout=Layout(height='25px', width='50%'),…"
      ]
     },
     "metadata": {},
     "output_type": "display_data"
    },
    {
     "name": "stdout",
     "output_type": "stream",
     "text": [
      "['State_Code_num', 'County_Code_num', 'year', 'month', 'day', 'dow', 'temp', 'humidity', 'pressure', 'wind_speed', 'wind_direction', 'prev_AQI', 'label']"
     ]
    }
   ],
   "source": [
    "data1_lag.columns"
   ]
  },
  {
   "cell_type": "code",
   "execution_count": 87,
   "metadata": {},
   "outputs": [
    {
     "data": {
      "application/vnd.jupyter.widget-view+json": {
       "model_id": "4ff393462607444398e3b39b09fb017e",
       "version_major": 2,
       "version_minor": 0
      },
      "text/plain": [
       "VBox()"
      ]
     },
     "metadata": {},
     "output_type": "display_data"
    },
    {
     "data": {
      "application/vnd.jupyter.widget-view+json": {
       "model_id": "",
       "version_major": 2,
       "version_minor": 0
      },
      "text/plain": [
       "FloatProgress(value=0.0, bar_style='info', description='Progress:', layout=Layout(height='25px', width='50%'),…"
      ]
     },
     "metadata": {},
     "output_type": "display_data"
    }
   ],
   "source": [
    "data1_lag = data1_lag.where(\"prev_AQI is not null\")"
   ]
  },
  {
   "cell_type": "code",
   "execution_count": 88,
   "metadata": {},
   "outputs": [
    {
     "data": {
      "application/vnd.jupyter.widget-view+json": {
       "model_id": "9841680f9af045adbe4207ab98dd23b9",
       "version_major": 2,
       "version_minor": 0
      },
      "text/plain": [
       "VBox()"
      ]
     },
     "metadata": {},
     "output_type": "display_data"
    },
    {
     "data": {
      "application/vnd.jupyter.widget-view+json": {
       "model_id": "",
       "version_major": 2,
       "version_minor": 0
      },
      "text/plain": [
       "FloatProgress(value=0.0, bar_style='info', description='Progress:', layout=Layout(height='25px', width='50%'),…"
      ]
     },
     "metadata": {},
     "output_type": "display_data"
    }
   ],
   "source": [
    "va = VectorAssembler(outputCol=\"features\", inputCols=data1_lag.columns[0:-1]) #except the last col.\n",
    "data1_lag_va = va.transform(data1_lag).select(\"features\", \"label\")\n"
   ]
  },
  {
   "cell_type": "code",
   "execution_count": 89,
   "metadata": {},
   "outputs": [
    {
     "data": {
      "application/vnd.jupyter.widget-view+json": {
       "model_id": "8631bf72fd19443282f0aaff8857aa20",
       "version_major": 2,
       "version_minor": 0
      },
      "text/plain": [
       "VBox()"
      ]
     },
     "metadata": {},
     "output_type": "display_data"
    },
    {
     "data": {
      "application/vnd.jupyter.widget-view+json": {
       "model_id": "",
       "version_major": 2,
       "version_minor": 0
      },
      "text/plain": [
       "FloatProgress(value=0.0, bar_style='info', description='Progress:', layout=Layout(height='25px', width='50%'),…"
      ]
     },
     "metadata": {},
     "output_type": "display_data"
    }
   ],
   "source": [
    "# train-test split\n",
    "data1_lag_sets = data1_lag_va.randomSplit([0.8, 0.2])\n",
    "data1_lag_train = data1_lag_sets[0].cache()\n",
    "data1_lag_test = data1_lag_sets[1].cache()"
   ]
  },
  {
   "cell_type": "code",
   "execution_count": 90,
   "metadata": {},
   "outputs": [
    {
     "data": {
      "application/vnd.jupyter.widget-view+json": {
       "model_id": "b83ce26c2f024e499b06e37f3a952ff5",
       "version_major": 2,
       "version_minor": 0
      },
      "text/plain": [
       "VBox()"
      ]
     },
     "metadata": {},
     "output_type": "display_data"
    },
    {
     "data": {
      "application/vnd.jupyter.widget-view+json": {
       "model_id": "",
       "version_major": 2,
       "version_minor": 0
      },
      "text/plain": [
       "FloatProgress(value=0.0, bar_style='info', description='Progress:', layout=Layout(height='25px', width='50%'),…"
      ]
     },
     "metadata": {},
     "output_type": "display_data"
    }
   ],
   "source": [
    "# Train the model.ntree=50\n",
    "\n",
    "rf = RandomForestRegressor()\n",
    "rfmodel = rf.fit(data1_lag_train)\n",
    "#print(rfmodel._call_java('toDebugString'))"
   ]
  },
  {
   "cell_type": "code",
   "execution_count": 91,
   "metadata": {},
   "outputs": [
    {
     "data": {
      "application/vnd.jupyter.widget-view+json": {
       "model_id": "64bc87d8101543c096a8a30eceb360ed",
       "version_major": 2,
       "version_minor": 0
      },
      "text/plain": [
       "VBox()"
      ]
     },
     "metadata": {},
     "output_type": "display_data"
    },
    {
     "data": {
      "application/vnd.jupyter.widget-view+json": {
       "model_id": "",
       "version_major": 2,
       "version_minor": 0
      },
      "text/plain": [
       "FloatProgress(value=0.0, bar_style='info', description='Progress:', layout=Layout(height='25px', width='50%'),…"
      ]
     },
     "metadata": {},
     "output_type": "display_data"
    }
   ],
   "source": [
    "rfpred = rfmodel.transform(data1_lag_test)"
   ]
  },
  {
   "cell_type": "code",
   "execution_count": 92,
   "metadata": {},
   "outputs": [
    {
     "data": {
      "application/vnd.jupyter.widget-view+json": {
       "model_id": "d84c81c063d44df88a26d0ed06fcb4f1",
       "version_major": 2,
       "version_minor": 0
      },
      "text/plain": [
       "VBox()"
      ]
     },
     "metadata": {},
     "output_type": "display_data"
    },
    {
     "data": {
      "application/vnd.jupyter.widget-view+json": {
       "model_id": "",
       "version_major": 2,
       "version_minor": 0
      },
      "text/plain": [
       "FloatProgress(value=0.0, bar_style='info', description='Progress:', layout=Layout(height='25px', width='50%'),…"
      ]
     },
     "metadata": {},
     "output_type": "display_data"
    },
    {
     "name": "stdout",
     "output_type": "stream",
     "text": [
      "Root Mean Squared Error (RMSE) on test data = 43.0379"
     ]
    }
   ],
   "source": [
    "# Select (prediction, true label) and compute test error\n",
    "evaluator = RegressionEvaluator(\n",
    "    labelCol=\"label\", predictionCol=\"prediction\", metricName=\"rmse\")\n",
    "rmse = evaluator.evaluate(rfpred)\n",
    "print(\"Root Mean Squared Error (RMSE) on test data = %g\" % rmse)"
   ]
  },
  {
   "cell_type": "code",
   "execution_count": 93,
   "metadata": {
    "scrolled": true
   },
   "outputs": [
    {
     "data": {
      "application/vnd.jupyter.widget-view+json": {
       "model_id": "593b7767dd8a4dec8b741545d829c904",
       "version_major": 2,
       "version_minor": 0
      },
      "text/plain": [
       "VBox()"
      ]
     },
     "metadata": {},
     "output_type": "display_data"
    },
    {
     "data": {
      "application/vnd.jupyter.widget-view+json": {
       "model_id": "",
       "version_major": 2,
       "version_minor": 0
      },
      "text/plain": [
       "FloatProgress(value=0.0, bar_style='info', description='Progress:', layout=Layout(height='25px', width='50%'),…"
      ]
     },
     "metadata": {},
     "output_type": "display_data"
    },
    {
     "name": "stdout",
     "output_type": "stream",
     "text": [
      "Mean Absolute Error (MAE) on test data = 13.3504"
     ]
    }
   ],
   "source": [
    "evaluator = RegressionEvaluator(\n",
    "    labelCol=\"label\", predictionCol=\"prediction\", metricName=\"mae\") # supports \"rmse\" (default), \"mse\", \"r2\", and \"mae\"\n",
    "mae = evaluator.evaluate(rfpred)\n",
    "print(\"Mean Absolute Error (MAE) on test data = %g\" % mae)"
   ]
  },
  {
   "cell_type": "code",
   "execution_count": 94,
   "metadata": {},
   "outputs": [
    {
     "data": {
      "application/vnd.jupyter.widget-view+json": {
       "model_id": "555ed67efcf04dd1a398cd444268e94d",
       "version_major": 2,
       "version_minor": 0
      },
      "text/plain": [
       "VBox()"
      ]
     },
     "metadata": {},
     "output_type": "display_data"
    },
    {
     "data": {
      "application/vnd.jupyter.widget-view+json": {
       "model_id": "",
       "version_major": 2,
       "version_minor": 0
      },
      "text/plain": [
       "FloatProgress(value=0.0, bar_style='info', description='Progress:', layout=Layout(height='25px', width='50%'),…"
      ]
     },
     "metadata": {},
     "output_type": "display_data"
    },
    {
     "name": "stdout",
     "output_type": "stream",
     "text": [
      "Root Mean Squared Error (RMSE) on test data = 43.0955\n",
      "Mean Absolute Error (MAE) on test data = 13.4051"
     ]
    }
   ],
   "source": [
    "# Train the model.ntree=100\n",
    "\n",
    "rf = RandomForestRegressor(numTrees=100)\n",
    "rfmodel = rf.fit(data1_lag_train)\n",
    "#print(rfmodel._call_java('toDebugString'))\n",
    "rfpred = rfmodel.transform(data1_lag_test)\n",
    "# Select (prediction, true label) and compute test error\n",
    "evaluator = RegressionEvaluator(\n",
    "    labelCol=\"label\", predictionCol=\"prediction\", metricName=\"rmse\")\n",
    "rmse = evaluator.evaluate(rfpred)\n",
    "print(\"Root Mean Squared Error (RMSE) on test data = %g\" % rmse)\n",
    "evaluator = RegressionEvaluator(\n",
    "    labelCol=\"label\", predictionCol=\"prediction\", metricName=\"mae\") # supports \"rmse\" (default), \"mse\", \"r2\", and \"mae\"\n",
    "mae = evaluator.evaluate(rfpred)\n",
    "print(\"Mean Absolute Error (MAE) on test data = %g\" % mae)"
   ]
  },
  {
   "cell_type": "code",
   "execution_count": 95,
   "metadata": {},
   "outputs": [
    {
     "data": {
      "application/vnd.jupyter.widget-view+json": {
       "model_id": "a5341f1718e140fea834020a3ee315a8",
       "version_major": 2,
       "version_minor": 0
      },
      "text/plain": [
       "VBox()"
      ]
     },
     "metadata": {},
     "output_type": "display_data"
    },
    {
     "data": {
      "application/vnd.jupyter.widget-view+json": {
       "model_id": "",
       "version_major": 2,
       "version_minor": 0
      },
      "text/plain": [
       "FloatProgress(value=0.0, bar_style='info', description='Progress:', layout=Layout(height='25px', width='50%'),…"
      ]
     },
     "metadata": {},
     "output_type": "display_data"
    },
    {
     "name": "stdout",
     "output_type": "stream",
     "text": [
      "Root Mean Squared Error (RMSE) on test data = 42.8275\n",
      "Mean Absolute Error (MAE) on test data = 13.5292"
     ]
    }
   ],
   "source": [
    "# Train the model.ntree=10\n",
    "\n",
    "rf = RandomForestRegressor(numTrees=10)\n",
    "rfmodel = rf.fit(data1_lag_train)\n",
    "#print(rfmodel._call_java('toDebugString'))\n",
    "rfpred = rfmodel.transform(data1_lag_test)\n",
    "# Select (prediction, true label) and compute test error\n",
    "evaluator = RegressionEvaluator(\n",
    "    labelCol=\"label\", predictionCol=\"prediction\", metricName=\"rmse\")\n",
    "rmse = evaluator.evaluate(rfpred)\n",
    "print(\"Root Mean Squared Error (RMSE) on test data = %g\" % rmse)\n",
    "evaluator = RegressionEvaluator(\n",
    "    labelCol=\"label\", predictionCol=\"prediction\", metricName=\"mae\") # supports \"rmse\" (default), \"mse\", \"r2\", and \"mae\"\n",
    "mae = evaluator.evaluate(rfpred)\n",
    "print(\"Mean Absolute Error (MAE) on test data = %g\" % mae)"
   ]
  },
  {
   "cell_type": "code",
   "execution_count": 96,
   "metadata": {},
   "outputs": [
    {
     "data": {
      "application/vnd.jupyter.widget-view+json": {
       "model_id": "ab301c994735469db0c4163849b2c1f3",
       "version_major": 2,
       "version_minor": 0
      },
      "text/plain": [
       "VBox()"
      ]
     },
     "metadata": {},
     "output_type": "display_data"
    },
    {
     "data": {
      "application/vnd.jupyter.widget-view+json": {
       "model_id": "",
       "version_major": 2,
       "version_minor": 0
      },
      "text/plain": [
       "FloatProgress(value=0.0, bar_style='info', description='Progress:', layout=Layout(height='25px', width='50%'),…"
      ]
     },
     "metadata": {},
     "output_type": "display_data"
    },
    {
     "name": "stdout",
     "output_type": "stream",
     "text": [
      "Root Mean Squared Error (RMSE) on test data = 43.1106\n",
      "Mean Absolute Error (MAE) on test data = 13.4208"
     ]
    }
   ],
   "source": [
    "# Train the model.ntree=200\n",
    "\n",
    "rf = RandomForestRegressor(numTrees=200)\n",
    "rfmodel = rf.fit(data1_lag_train)\n",
    "#print(rfmodel._call_java('toDebugString'))\n",
    "rfpred = rfmodel.transform(data1_lag_test)\n",
    "# Select (prediction, true label) and compute test error\n",
    "evaluator = RegressionEvaluator(\n",
    "    labelCol=\"label\", predictionCol=\"prediction\", metricName=\"rmse\")\n",
    "rmse = evaluator.evaluate(rfpred)\n",
    "print(\"Root Mean Squared Error (RMSE) on test data = %g\" % rmse)\n",
    "evaluator = RegressionEvaluator(\n",
    "    labelCol=\"label\", predictionCol=\"prediction\", metricName=\"mae\") # supports \"rmse\" (default), \"mse\", \"r2\", and \"mae\"\n",
    "mae = evaluator.evaluate(rfpred)\n",
    "print(\"Mean Absolute Error (MAE) on test data = %g\" % mae)"
   ]
  },
  {
   "cell_type": "markdown",
   "metadata": {},
   "source": [
    "## add prev_3 AQI as features"
   ]
  },
  {
   "cell_type": "code",
   "execution_count": 97,
   "metadata": {},
   "outputs": [
    {
     "data": {
      "application/vnd.jupyter.widget-view+json": {
       "model_id": "34ece6d3993a4b7a87901d02934c6eff",
       "version_major": 2,
       "version_minor": 0
      },
      "text/plain": [
       "VBox()"
      ]
     },
     "metadata": {},
     "output_type": "display_data"
    },
    {
     "data": {
      "application/vnd.jupyter.widget-view+json": {
       "model_id": "",
       "version_major": 2,
       "version_minor": 0
      },
      "text/plain": [
       "FloatProgress(value=0.0, bar_style='info', description='Progress:', layout=Layout(height='25px', width='50%'),…"
      ]
     },
     "metadata": {},
     "output_type": "display_data"
    }
   ],
   "source": [
    "data1_lag3 = data1_date.select(\n",
    "                               'State_Code_num',\n",
    "                               'County_Code_num',\n",
    "                                year(\"Date\").alias('year'),\n",
    "                                month(\"Date\").alias('month'),\n",
    "                                dayofmonth(\"Date\").alias('day'),\n",
    "                                dayofweek('Date').alias('dow'),\n",
    "                               'temp',\n",
    "                               'humidity',\n",
    "                               'pressure',\n",
    "                               'wind_speed',\n",
    "                               'wind_direction',\n",
    "                                lag(\"label\", 1).over(Window.partitionBy(\n",
    "                                    'State_Code_num','County_Code_num').orderBy('Date')).alias(\"prev1_AQI\"),\n",
    "    lag(\"label\", 2).over(Window.partitionBy(\n",
    "                                    'State_Code_num','County_Code_num').orderBy('Date')).alias(\"prev2_AQI\"),\n",
    "    lag(\"label\", 3).over(Window.partitionBy(\n",
    "                                    'State_Code_num','County_Code_num').orderBy('Date')).alias(\"prev3_AQI\"),\n",
    "                               'label'\n",
    "                              )"
   ]
  },
  {
   "cell_type": "code",
   "execution_count": 102,
   "metadata": {},
   "outputs": [
    {
     "data": {
      "application/vnd.jupyter.widget-view+json": {
       "model_id": "4d4616ace9724b35a2641e22740c0231",
       "version_major": 2,
       "version_minor": 0
      },
      "text/plain": [
       "VBox()"
      ]
     },
     "metadata": {},
     "output_type": "display_data"
    },
    {
     "data": {
      "application/vnd.jupyter.widget-view+json": {
       "model_id": "",
       "version_major": 2,
       "version_minor": 0
      },
      "text/plain": [
       "FloatProgress(value=0.0, bar_style='info', description='Progress:', layout=Layout(height='25px', width='50%'),…"
      ]
     },
     "metadata": {},
     "output_type": "display_data"
    }
   ],
   "source": [
    "data1_lag3 = data1_lag3.where(\"prev1_AQI is not null and prev2_AQI is not null and prev3_AQI is not null\")"
   ]
  },
  {
   "cell_type": "code",
   "execution_count": 103,
   "metadata": {},
   "outputs": [
    {
     "data": {
      "application/vnd.jupyter.widget-view+json": {
       "model_id": "263eafedb8f84687999fd27f384ce042",
       "version_major": 2,
       "version_minor": 0
      },
      "text/plain": [
       "VBox()"
      ]
     },
     "metadata": {},
     "output_type": "display_data"
    },
    {
     "data": {
      "application/vnd.jupyter.widget-view+json": {
       "model_id": "",
       "version_major": 2,
       "version_minor": 0
      },
      "text/plain": [
       "FloatProgress(value=0.0, bar_style='info', description='Progress:', layout=Layout(height='25px', width='50%'),…"
      ]
     },
     "metadata": {},
     "output_type": "display_data"
    }
   ],
   "source": [
    "va = VectorAssembler(outputCol=\"features\", inputCols=data1_lag3.columns[0:-1]) #except the last col.\n",
    "data1_lag3_va = va.transform(data1_lag3).select(\"features\", \"label\")\n"
   ]
  },
  {
   "cell_type": "code",
   "execution_count": 104,
   "metadata": {},
   "outputs": [
    {
     "data": {
      "application/vnd.jupyter.widget-view+json": {
       "model_id": "4c61d6ce54c24e28b6c6bad66d7f727f",
       "version_major": 2,
       "version_minor": 0
      },
      "text/plain": [
       "VBox()"
      ]
     },
     "metadata": {},
     "output_type": "display_data"
    },
    {
     "data": {
      "application/vnd.jupyter.widget-view+json": {
       "model_id": "",
       "version_major": 2,
       "version_minor": 0
      },
      "text/plain": [
       "FloatProgress(value=0.0, bar_style='info', description='Progress:', layout=Layout(height='25px', width='50%'),…"
      ]
     },
     "metadata": {},
     "output_type": "display_data"
    }
   ],
   "source": [
    "# train-test split\n",
    "data1_lag3_sets = data1_lag3_va.randomSplit([0.8, 0.2])\n",
    "data1_lag3_train = data1_lag3_sets[0].cache()\n",
    "data1_lag3_test = data1_lag3_sets[1].cache()"
   ]
  },
  {
   "cell_type": "code",
   "execution_count": 105,
   "metadata": {},
   "outputs": [
    {
     "data": {
      "application/vnd.jupyter.widget-view+json": {
       "model_id": "155cbbd492864913860908ece9122263",
       "version_major": 2,
       "version_minor": 0
      },
      "text/plain": [
       "VBox()"
      ]
     },
     "metadata": {},
     "output_type": "display_data"
    },
    {
     "data": {
      "application/vnd.jupyter.widget-view+json": {
       "model_id": "",
       "version_major": 2,
       "version_minor": 0
      },
      "text/plain": [
       "FloatProgress(value=0.0, bar_style='info', description='Progress:', layout=Layout(height='25px', width='50%'),…"
      ]
     },
     "metadata": {},
     "output_type": "display_data"
    },
    {
     "name": "stdout",
     "output_type": "stream",
     "text": [
      "Root Mean Squared Error (RMSE) on test data = 21.2591\n",
      "Mean Absolute Error (MAE) on test data = 12.9686"
     ]
    }
   ],
   "source": [
    "# Train the model.ntree=100\n",
    "\n",
    "rf = RandomForestRegressor(numTrees=100)\n",
    "rfmodel = rf.fit(data1_lag3_train)\n",
    "#print(rfmodel._call_java('toDebugString'))\n",
    "rfpred = rfmodel.transform(data1_lag3_test)\n",
    "# Select (prediction, true label) and compute test error\n",
    "evaluator = RegressionEvaluator(\n",
    "    labelCol=\"label\", predictionCol=\"prediction\", metricName=\"rmse\")\n",
    "rmse = evaluator.evaluate(rfpred)\n",
    "print(\"Root Mean Squared Error (RMSE) on test data = %g\" % rmse)\n",
    "evaluator = RegressionEvaluator(\n",
    "    labelCol=\"label\", predictionCol=\"prediction\", metricName=\"mae\") # supports \"rmse\" (default), \"mse\", \"r2\", and \"mae\"\n",
    "mae = evaluator.evaluate(rfpred)\n",
    "print(\"Mean Absolute Error (MAE) on test data = %g\" % mae)"
   ]
  },
  {
   "cell_type": "code",
   "execution_count": null,
   "metadata": {},
   "outputs": [],
   "source": []
  },
  {
   "cell_type": "code",
   "execution_count": null,
   "metadata": {},
   "outputs": [],
   "source": []
  },
  {
   "cell_type": "code",
   "execution_count": 2,
   "metadata": {},
   "outputs": [
    {
     "data": {
      "application/vnd.jupyter.widget-view+json": {
       "model_id": "4beb9e697eca4b01adc3878155c02b9a",
       "version_major": 2,
       "version_minor": 0
      },
      "text/plain": [
       "VBox()"
      ]
     },
     "metadata": {},
     "output_type": "display_data"
    },
    {
     "data": {
      "application/vnd.jupyter.widget-view+json": {
       "model_id": "",
       "version_major": 2,
       "version_minor": 0
      },
      "text/plain": [
       "FloatProgress(value=0.0, bar_style='info', description='Progress:', layout=Layout(height='25px', width='50%'),…"
      ]
     },
     "metadata": {},
     "output_type": "display_data"
    },
    {
     "name": "stdout",
     "output_type": "stream",
     "text": [
      "Processing /var/lib/livy/.cache/pip/wheels/0d/2f/d2/7e0c36c53b57ca597430858ab3d72e1a612a10780016ff6765/h2o_pysparkling_2.4-3.28.0.1.post1-py2.py3-none-any.whl\n",
      "Requirement already satisfied: numpy>=1.9.2 in /usr/local/lib64/python3.6/site-packages (from h2o-pysparkling-2.4) (1.14.5)\n",
      "Processing /var/lib/livy/.cache/pip/wheels/9c/9b/f4/eb243fdb89676ec00588e8c54bb54360724c06e7fafe95278e/tabulate-0.8.6-cp36-none-any.whl\n",
      "Processing /var/lib/livy/.cache/pip/wheels/ab/09/4d/0d184230058e654eb1b04467dbc1292f00eaa186544604b471/pyspark-2.4.4-py2.py3-none-any.whl\n",
      "Collecting colorama>=0.3.8\n",
      "  Using cached https://files.pythonhosted.org/packages/c9/dc/45cdef1b4d119eb96316b3117e6d5708a08029992b2fee2c143c7a0a5cc5/colorama-0.4.3-py2.py3-none-any.whl\n",
      "Collecting requests\n",
      "  Using cached https://files.pythonhosted.org/packages/51/bd/23c926cd341ea6b7dd0b2a00aba99ae0f828be89d72b2190f27c11d4b7fb/requests-2.22.0-py2.py3-none-any.whl\n",
      "Processing /var/lib/livy/.cache/pip/wheels/8b/99/a0/81daf51dcd359a9377b110a8a886b3895921802d2fc1b2397e/future-0.18.2-cp36-none-any.whl\n",
      "Collecting py4j==0.10.7\n",
      "  Using cached https://files.pythonhosted.org/packages/e3/53/c737818eb9a7dc32a7cd4f1396e787bd94200c3997c72c1dbe028587bd76/py4j-0.10.7-py2.py3-none-any.whl\n",
      "Collecting idna<2.9,>=2.5\n",
      "  Using cached https://files.pythonhosted.org/packages/14/2c/cd551d81dbe15200be1cf41cd03869a46fe7226e7450af7a6545bfc474c9/idna-2.8-py2.py3-none-any.whl\n",
      "Collecting certifi>=2017.4.17\n",
      "  Using cached https://files.pythonhosted.org/packages/b9/63/df50cac98ea0d5b006c55a399c3bf1db9da7b5a24de7890bc9cfd5dd9e99/certifi-2019.11.28-py2.py3-none-any.whl\n",
      "Collecting urllib3!=1.25.0,!=1.25.1,<1.26,>=1.21.1\n",
      "  Using cached https://files.pythonhosted.org/packages/b4/40/a9837291310ee1ccc242ceb6ebfd9eb21539649f193a7c8c86ba15b98539/urllib3-1.25.7-py2.py3-none-any.whl\n",
      "Collecting chardet<3.1.0,>=3.0.2\n",
      "  Using cached https://files.pythonhosted.org/packages/bc/a9/01ffebfb562e4274b6487b4bb1ddec7ca55ec7510b22e4c51f14098443b8/chardet-3.0.4-py2.py3-none-any.whl\n",
      "Installing collected packages: tabulate, py4j, pyspark, colorama, idna, certifi, urllib3, chardet, requests, future, h2o-pysparkling-2.4\n",
      "Successfully installed certifi-2019.11.28 chardet-3.0.4 colorama-0.4.3 future-0.18.2 h2o-pysparkling-2.4-3.28.0.1.post1 idna-2.8 py4j-0.10.7 pyspark-2.4.4 requests-2.22.0 tabulate-0.8.6 urllib3-1.25.7\n",
      "\n",
      "Processing /var/lib/livy/.cache/pip/wheels/ff/82/f4/3fe9c895b93c53b25ae44dc44aa54dad571c711f48bc485fe9/h2o-3.28.0.1-py2.py3-none-any.whl\n",
      "Requirement already satisfied: tabulate in /mnt/tmp/1579228767728-0/lib/python3.6/site-packages (from h2o) (0.8.6)\n",
      "Requirement already satisfied: colorama>=0.3.8 in /mnt/tmp/1579228767728-0/lib/python3.6/site-packages (from h2o) (0.4.3)\n",
      "Requirement already satisfied: requests in /mnt/tmp/1579228767728-0/lib/python3.6/site-packages (from h2o) (2.22.0)\n",
      "Requirement already satisfied: future in /mnt/tmp/1579228767728-0/lib/python3.6/site-packages (from h2o) (0.18.2)\n",
      "Requirement already satisfied: idna<2.9,>=2.5 in /mnt/tmp/1579228767728-0/lib/python3.6/site-packages (from requests->h2o) (2.8)\n",
      "Requirement already satisfied: certifi>=2017.4.17 in /mnt/tmp/1579228767728-0/lib/python3.6/site-packages (from requests->h2o) (2019.11.28)\n",
      "Requirement already satisfied: urllib3!=1.25.0,!=1.25.1,<1.26,>=1.21.1 in /mnt/tmp/1579228767728-0/lib/python3.6/site-packages (from requests->h2o) (1.25.7)\n",
      "Requirement already satisfied: chardet<3.1.0,>=3.0.2 in /mnt/tmp/1579228767728-0/lib/python3.6/site-packages (from requests->h2o) (3.0.4)\n",
      "Installing collected packages: h2o\n",
      "Successfully installed h2o-3.28.0.1\n",
      "\n",
      "ERROR: python36-sagemaker-pyspark 1.2.6 has requirement pyspark==2.3.2, but you'll have pyspark 2.4.4 which is incompatible."
     ]
    }
   ],
   "source": [
    "sc.install_pypi_package('h2o-pysparkling-2.4')\n",
    "sc.install_pypi_package('h2o')\n"
   ]
  },
  {
   "cell_type": "code",
   "execution_count": 3,
   "metadata": {},
   "outputs": [
    {
     "data": {
      "application/vnd.jupyter.widget-view+json": {
       "model_id": "b9bb6f791789455e81591589204e6f84",
       "version_major": 2,
       "version_minor": 0
      },
      "text/plain": [
       "VBox()"
      ]
     },
     "metadata": {},
     "output_type": "display_data"
    },
    {
     "data": {
      "application/vnd.jupyter.widget-view+json": {
       "model_id": "",
       "version_major": 2,
       "version_minor": 0
      },
      "text/plain": [
       "FloatProgress(value=0.0, bar_style='info', description='Progress:', layout=Layout(height='25px', width='50%'),…"
      ]
     },
     "metadata": {},
     "output_type": "display_data"
    },
    {
     "name": "stdout",
     "output_type": "stream",
     "text": [
      "Checking whether there is an H2O instance running at http://localhost:54321 . connected.\n",
      "--------------------------  ------------------------------------------------------------------\n",
      "H2O cluster uptime:         1 hour 7 mins\n",
      "H2O cluster timezone:       Etc/UCT\n",
      "H2O data parsing timezone:  UTC\n",
      "H2O cluster version:        3.28.0.1\n",
      "H2O cluster version age:    1 month\n",
      "H2O cluster name:           H2O_from_python_livy_1hnnw4\n",
      "H2O cluster total nodes:    1\n",
      "H2O cluster free memory:    5.800 Gb\n",
      "H2O cluster total cores:    8\n",
      "H2O cluster allowed cores:  8\n",
      "H2O cluster status:         locked, healthy\n",
      "H2O connection url:         http://localhost:54321\n",
      "H2O connection proxy:       {'http': None, 'https': None}\n",
      "H2O internal security:      False\n",
      "H2O API Extensions:         Amazon S3, XGBoost, Algos, AutoML, Core V3, TargetEncoder, Core V4\n",
      "Python version:             3.6.8 final\n",
      "--------------------------  ------------------------------------------------------------------"
     ]
    }
   ],
   "source": [
    "from pysparkling import *\n",
    "import h2o\n",
    "h2o.init()"
   ]
  },
  {
   "cell_type": "code",
   "execution_count": null,
   "metadata": {},
   "outputs": [],
   "source": [
    "data1_lag_rdd = data1_lag.rdd"
   ]
  },
  {
   "cell_type": "code",
   "execution_count": null,
   "metadata": {},
   "outputs": [],
   "source": [
    "data1_lag_rdd.saveAsTextFile(\"s3a://dc-group2/data1_lag_rdd\")"
   ]
  },
  {
   "cell_type": "code",
   "execution_count": null,
   "metadata": {},
   "outputs": [],
   "source": [
    "h2o.init()"
   ]
  },
  {
   "cell_type": "code",
   "execution_count": null,
   "metadata": {},
   "outputs": [],
   "source": [
    "data1_lag_h2o = h2o.import_file(\"s3a://dc-group2/data1_lag_rdd\")"
   ]
  },
  {
   "cell_type": "code",
   "execution_count": null,
   "metadata": {},
   "outputs": [],
   "source": [
    "data1_lag_h2o.summary()"
   ]
  },
  {
   "cell_type": "code",
   "execution_count": null,
   "metadata": {},
   "outputs": [],
   "source": [
    "data1_lag.write.csv(\"s3a://dc-group2/data1_lag.csv\")"
   ]
  },
  {
   "cell_type": "code",
   "execution_count": 108,
   "metadata": {},
   "outputs": [
    {
     "data": {
      "application/vnd.jupyter.widget-view+json": {
       "model_id": "6fa3641969674a65ab12ef4aedb6f132",
       "version_major": 2,
       "version_minor": 0
      },
      "text/plain": [
       "VBox()"
      ]
     },
     "metadata": {},
     "output_type": "display_data"
    },
    {
     "data": {
      "application/vnd.jupyter.widget-view+json": {
       "model_id": "",
       "version_major": 2,
       "version_minor": 0
      },
      "text/plain": [
       "FloatProgress(value=0.0, bar_style='info', description='Progress:', layout=Layout(height='25px', width='50%'),…"
      ]
     },
     "metadata": {},
     "output_type": "display_data"
    }
   ],
   "source": [
    "data1_lag3.write.csv(\"s3a://dc-group2/data1_lag3.csv\")"
   ]
  },
  {
   "cell_type": "code",
   "execution_count": 4,
   "metadata": {},
   "outputs": [
    {
     "data": {
      "application/vnd.jupyter.widget-view+json": {
       "model_id": "2d7a377a1c8f4870b67fc3b1793cb33e",
       "version_major": 2,
       "version_minor": 0
      },
      "text/plain": [
       "VBox()"
      ]
     },
     "metadata": {},
     "output_type": "display_data"
    },
    {
     "data": {
      "application/vnd.jupyter.widget-view+json": {
       "model_id": "",
       "version_major": 2,
       "version_minor": 0
      },
      "text/plain": [
       "FloatProgress(value=0.0, bar_style='info', description='Progress:', layout=Layout(height='25px', width='50%'),…"
      ]
     },
     "metadata": {},
     "output_type": "display_data"
    },
    {
     "name": "stdout",
     "output_type": "stream",
     "text": [
      "Parse progress: [#########################################################] 100%"
     ]
    }
   ],
   "source": [
    "data1_lag_h2o = h2o.import_file(\"s3a://dc-group2/data1_lag.csv\")"
   ]
  },
  {
   "cell_type": "code",
   "execution_count": 5,
   "metadata": {},
   "outputs": [
    {
     "data": {
      "application/vnd.jupyter.widget-view+json": {
       "model_id": "7c91b8d9788c45b69a92db630cd24cec",
       "version_major": 2,
       "version_minor": 0
      },
      "text/plain": [
       "VBox()"
      ]
     },
     "metadata": {},
     "output_type": "display_data"
    },
    {
     "data": {
      "application/vnd.jupyter.widget-view+json": {
       "model_id": "",
       "version_major": 2,
       "version_minor": 0
      },
      "text/plain": [
       "FloatProgress(value=0.0, bar_style='info', description='Progress:', layout=Layout(height='25px', width='50%'),…"
      ]
     },
     "metadata": {},
     "output_type": "display_data"
    },
    {
     "name": "stdout",
     "output_type": "stream",
     "text": [
      "  State_Code_num    County_Code_num    year    month    day    dow     temp    humidity    pressure    wind_speed    wind_direction    prev_AQI    label\n",
      "----------------  -----------------  ------  -------  -----  -----  -------  ----------  ----------  ------------  ----------------  ----------  -------\n",
      "              36                 83    2002        3     15      6  49.0417     65.25       957           5.34167          169.208           35       37\n",
      "              36                 83    2002        3     16      7  36.7083     84.8333     960.125       3.79583          163               37       29\n",
      "              36                 83    2002        3     17      1  28.5417     60.25       973.083       1.97917           62.8333          29       35\n",
      "              36                 83    2002        3     18      2  30.5        76.125      968           3.175            163.458           35       34\n",
      "              36                 83    2002        3     19      3  33.125      77.4167     969.25        1.69167          143.708           34       31\n",
      "              36                 83    2002        3     20      4  31          86.9167     961.875       3.38333          145.333           31       32\n",
      "              36                 83    2002        3     21      5  31.7917     78.2917     952.958       3.4625           281.542           32       38\n",
      "              36                 83    2002        3     22      6  14.6667     55.5417     954.083       4.625            308.708           38       31\n",
      "              36                 83    2002        3     23      7  25.75       57.3333     954           4.60417          248.917           31       36\n",
      "              36                 83    2002        3     24      1  29.7917     67.1667     959.917       2.79167          222.708           36       43\n",
      "\n",
      "[599472 rows x 13 columns]"
     ]
    }
   ],
   "source": [
    "data1_lag_h2o.set_names(['State_Code_num', 'County_Code_num', 'year', 'month',\n",
    "                         'day', 'dow', 'temp', 'humidity', 'pressure', 'wind_speed',\n",
    "                         'wind_direction', 'prev_AQI', 'label'])"
   ]
  },
  {
   "cell_type": "code",
   "execution_count": 109,
   "metadata": {},
   "outputs": [
    {
     "data": {
      "application/vnd.jupyter.widget-view+json": {
       "model_id": "9a992aabe19a4eccb9e4089223484abb",
       "version_major": 2,
       "version_minor": 0
      },
      "text/plain": [
       "VBox()"
      ]
     },
     "metadata": {},
     "output_type": "display_data"
    },
    {
     "data": {
      "application/vnd.jupyter.widget-view+json": {
       "model_id": "",
       "version_major": 2,
       "version_minor": 0
      },
      "text/plain": [
       "FloatProgress(value=0.0, bar_style='info', description='Progress:', layout=Layout(height='25px', width='50%'),…"
      ]
     },
     "metadata": {},
     "output_type": "display_data"
    },
    {
     "name": "stdout",
     "output_type": "stream",
     "text": [
      "Parse progress: [#########################################################] 100%"
     ]
    }
   ],
   "source": [
    "data1_lag3_h2o = h2o.import_file(\"s3a://dc-group2/data1_lag3.csv\")"
   ]
  },
  {
   "cell_type": "code",
   "execution_count": 111,
   "metadata": {},
   "outputs": [
    {
     "data": {
      "application/vnd.jupyter.widget-view+json": {
       "model_id": "6a6b5f7bc2d94020bdf7bd865383a5b6",
       "version_major": 2,
       "version_minor": 0
      },
      "text/plain": [
       "VBox()"
      ]
     },
     "metadata": {},
     "output_type": "display_data"
    },
    {
     "data": {
      "application/vnd.jupyter.widget-view+json": {
       "model_id": "",
       "version_major": 2,
       "version_minor": 0
      },
      "text/plain": [
       "FloatProgress(value=0.0, bar_style='info', description='Progress:', layout=Layout(height='25px', width='50%'),…"
      ]
     },
     "metadata": {},
     "output_type": "display_data"
    },
    {
     "name": "stdout",
     "output_type": "stream",
     "text": [
      "  State_Code_num    County_Code_num    year    month    day    dow     temp    humidity    pressure    wind_speed    wind_direction    prev1_AQI    prev2_AQI    prev3_AQI    label\n",
      "----------------  -----------------  ------  -------  -----  -----  -------  ----------  ----------  ------------  ----------------  -----------  -----------  -----------  -------\n",
      "              36                 83    2002        3     17      1  28.5417     60.25       973.083       1.97917           62.8333           29           37           35       35\n",
      "              36                 83    2002        3     18      2  30.5        76.125      968           3.175            163.458            35           29           37       34\n",
      "              36                 83    2002        3     19      3  33.125      77.4167     969.25        1.69167          143.708            34           35           29       31\n",
      "              36                 83    2002        3     20      4  31          86.9167     961.875       3.38333          145.333            31           34           35       32\n",
      "              36                 83    2002        3     21      5  31.7917     78.2917     952.958       3.4625           281.542            32           31           34       38\n",
      "              36                 83    2002        3     22      6  14.6667     55.5417     954.083       4.625            308.708            38           32           31       31\n",
      "              36                 83    2002        3     23      7  25.75       57.3333     954           4.60417          248.917            31           38           32       36\n",
      "              36                 83    2002        3     24      1  29.7917     67.1667     959.917       2.79167          222.708            36           31           38       43\n",
      "              36                 83    2002        3     25      2  28.7083     62.9583     968.75        2.24583          129.125            43           36           31       40\n",
      "              36                 83    2002        3     26      3  31.2917     82.3333     965.958       1.65417          150.292            40           43           36       35\n",
      "\n",
      "[599070 rows x 15 columns]"
     ]
    }
   ],
   "source": [
    "data1_lag3_h2o.set_names(['State_Code_num', 'County_Code_num', 'year', 'month', 'day',\n",
    "                         'dow', 'temp', 'humidity', 'pressure', 'wind_speed', 'wind_direction',\n",
    "                         'prev1_AQI', 'prev2_AQI', 'prev3_AQI', 'label'])"
   ]
  },
  {
   "cell_type": "code",
   "execution_count": 6,
   "metadata": {},
   "outputs": [
    {
     "data": {
      "application/vnd.jupyter.widget-view+json": {
       "model_id": "80fdb457cbe343d8bdc678ffd03cf17c",
       "version_major": 2,
       "version_minor": 0
      },
      "text/plain": [
       "VBox()"
      ]
     },
     "metadata": {},
     "output_type": "display_data"
    },
    {
     "data": {
      "application/vnd.jupyter.widget-view+json": {
       "model_id": "",
       "version_major": 2,
       "version_minor": 0
      },
      "text/plain": [
       "FloatProgress(value=0.0, bar_style='info', description='Progress:', layout=Layout(height='25px', width='50%'),…"
      ]
     },
     "metadata": {},
     "output_type": "display_data"
    }
   ],
   "source": [
    "data1_lag_train, data1_lag_test = data1_lag_h2o.split_frame(ratios = [.8], seed = 1)"
   ]
  },
  {
   "cell_type": "code",
   "execution_count": 7,
   "metadata": {},
   "outputs": [
    {
     "data": {
      "application/vnd.jupyter.widget-view+json": {
       "model_id": "67e30b11d1534c0099cd6d3909fd227e",
       "version_major": 2,
       "version_minor": 0
      },
      "text/plain": [
       "VBox()"
      ]
     },
     "metadata": {},
     "output_type": "display_data"
    },
    {
     "data": {
      "application/vnd.jupyter.widget-view+json": {
       "model_id": "",
       "version_major": 2,
       "version_minor": 0
      },
      "text/plain": [
       "FloatProgress(value=0.0, bar_style='info', description='Progress:', layout=Layout(height='25px', width='50%'),…"
      ]
     },
     "metadata": {},
     "output_type": "display_data"
    }
   ],
   "source": [
    "predictors = data1_lag_train.names[:]\n",
    "response = \"label\"\n",
    "predictors.remove(response)\n"
   ]
  },
  {
   "cell_type": "code",
   "execution_count": 8,
   "metadata": {},
   "outputs": [
    {
     "data": {
      "application/vnd.jupyter.widget-view+json": {
       "model_id": "9c92a7b6c5224325acee514206215646",
       "version_major": 2,
       "version_minor": 0
      },
      "text/plain": [
       "VBox()"
      ]
     },
     "metadata": {},
     "output_type": "display_data"
    },
    {
     "data": {
      "application/vnd.jupyter.widget-view+json": {
       "model_id": "",
       "version_major": 2,
       "version_minor": 0
      },
      "text/plain": [
       "FloatProgress(value=0.0, bar_style='info', description='Progress:', layout=Layout(height='25px', width='50%'),…"
      ]
     },
     "metadata": {},
     "output_type": "display_data"
    },
    {
     "name": "stdout",
     "output_type": "stream",
     "text": [
      "['State_Code_num', 'County_Code_num', 'year', 'month', 'day', 'dow', 'temp', 'humidity', 'pressure', 'wind_speed', 'wind_direction', 'prev_AQI']"
     ]
    }
   ],
   "source": [
    "predictors"
   ]
  },
  {
   "cell_type": "code",
   "execution_count": 9,
   "metadata": {},
   "outputs": [
    {
     "data": {
      "application/vnd.jupyter.widget-view+json": {
       "model_id": "8690bf33837747e7a7a60456c7325d61",
       "version_major": 2,
       "version_minor": 0
      },
      "text/plain": [
       "VBox()"
      ]
     },
     "metadata": {},
     "output_type": "display_data"
    },
    {
     "data": {
      "application/vnd.jupyter.widget-view+json": {
       "model_id": "",
       "version_major": 2,
       "version_minor": 0
      },
      "text/plain": [
       "FloatProgress(value=0.0, bar_style='info', description='Progress:', layout=Layout(height='25px', width='50%'),…"
      ]
     },
     "metadata": {},
     "output_type": "display_data"
    },
    {
     "name": "stdout",
     "output_type": "stream",
     "text": [
      "  State_Code_num    County_Code_num    year    month    day    dow     temp    humidity    pressure    wind_speed    wind_direction    prev_AQI    label\n",
      "----------------  -----------------  ------  -------  -----  -----  -------  ----------  ----------  ------------  ----------------  ----------  -------\n",
      "              36                 83    2002        3     15      6  49.0417     65.25       957           5.34167           169.208          35       37\n",
      "              36                 83    2002        3     16      7  36.7083     84.8333     960.125       3.79583           163              37       29\n",
      "              36                 83    2002        3     18      2  30.5        76.125      968           3.175             163.458          35       34\n",
      "              36                 83    2002        3     19      3  33.125      77.4167     969.25        1.69167           143.708          34       31\n",
      "              36                 83    2002        3     20      4  31          86.9167     961.875       3.38333           145.333          31       32\n",
      "              36                 83    2002        3     21      5  31.7917     78.2917     952.958       3.4625            281.542          32       38\n",
      "              36                 83    2002        3     22      6  14.6667     55.5417     954.083       4.625             308.708          38       31\n",
      "              36                 83    2002        3     23      7  25.75       57.3333     954           4.60417           248.917          31       36\n",
      "              36                 83    2002        3     25      2  28.7083     62.9583     968.75        2.24583           129.125          43       40\n",
      "              36                 83    2002        3     26      3  31.2917     82.3333     965.958       1.65417           150.292          40       35\n",
      "\n",
      "[479862 rows x 13 columns]"
     ]
    }
   ],
   "source": [
    "data1_lag_train.show()"
   ]
  },
  {
   "cell_type": "code",
   "execution_count": 12,
   "metadata": {},
   "outputs": [
    {
     "data": {
      "application/vnd.jupyter.widget-view+json": {
       "model_id": "d08c601a557e4b04ab7409c0a5d84714",
       "version_major": 2,
       "version_minor": 0
      },
      "text/plain": [
       "VBox()"
      ]
     },
     "metadata": {},
     "output_type": "display_data"
    },
    {
     "data": {
      "application/vnd.jupyter.widget-view+json": {
       "model_id": "",
       "version_major": 2,
       "version_minor": 0
      },
      "text/plain": [
       "FloatProgress(value=0.0, bar_style='info', description='Progress:', layout=Layout(height='25px', width='50%'),…"
      ]
     },
     "metadata": {},
     "output_type": "display_data"
    },
    {
     "name": "stdout",
     "output_type": "stream",
     "text": [
      "gbm Model Build progress: [###############################################] 100%"
     ]
    }
   ],
   "source": [
    "from h2o.estimators.gbm import H2OGradientBoostingEstimator\n",
    "model_gbm = H2OGradientBoostingEstimator(ntrees=50,\n",
    "                                         max_depth=6,\n",
    "                                         learn_rate=0.1,\n",
    "                                         )\n",
    "\n",
    "model_gbm.train(x=predictors,\n",
    "                y=response,\n",
    "                training_frame=data1_lag_train,\n",
    "                validation_frame=data1_lag_test)"
   ]
  },
  {
   "cell_type": "code",
   "execution_count": 13,
   "metadata": {},
   "outputs": [
    {
     "data": {
      "application/vnd.jupyter.widget-view+json": {
       "model_id": "24e3ce3e05da41bbb9ea117bad924e1b",
       "version_major": 2,
       "version_minor": 0
      },
      "text/plain": [
       "VBox()"
      ]
     },
     "metadata": {},
     "output_type": "display_data"
    },
    {
     "data": {
      "application/vnd.jupyter.widget-view+json": {
       "model_id": "",
       "version_major": 2,
       "version_minor": 0
      },
      "text/plain": [
       "FloatProgress(value=0.0, bar_style='info', description='Progress:', layout=Layout(height='25px', width='50%'),…"
      ]
     },
     "metadata": {},
     "output_type": "display_data"
    },
    {
     "name": "stdout",
     "output_type": "stream",
     "text": [
      "Model Details\n",
      "=============\n",
      "H2OGradientBoostingEstimator :  Gradient Boosting Machine\n",
      "Model Key:  GBM_model_python_1579224764540_2\n",
      "\n",
      "\n",
      "Model Summary: \n",
      "    number_of_trees    number_of_internal_trees    model_size_in_bytes    min_depth    max_depth    mean_depth    min_leaves    max_leaves    mean_leaves\n",
      "--  -----------------  --------------------------  ---------------------  -----------  -----------  ------------  ------------  ------------  -------------\n",
      "    50                 50                          26039                  6            6            6             13            59            36.82\n",
      "\n",
      "\n",
      "ModelMetricsRegression: gbm\n",
      "** Reported on train data. **\n",
      "\n",
      "MSE: 575.1760046658201\n",
      "RMSE: 23.982827286744573\n",
      "MAE: 12.049059788703016\n",
      "RMSLE: NaN\n",
      "Mean Residual Deviance: 575.1760046658201\n",
      "\n",
      "ModelMetricsRegression: gbm\n",
      "** Reported on validation data. **\n",
      "\n",
      "MSE: 732.4899316558377\n",
      "RMSE: 27.06455119997074\n",
      "MAE: 12.242259437538323\n",
      "RMSLE: NaN\n",
      "Mean Residual Deviance: 732.4899316558377\n",
      "\n",
      "Scoring History: \n",
      "    timestamp            duration    number_of_trees    training_rmse    training_mae    training_deviance    validation_rmse    validation_mae    validation_deviance\n",
      "--  -------------------  ----------  -----------------  ---------------  --------------  -------------------  -----------------  ----------------  ---------------------\n",
      "    2020-01-17 02:49:35  0.002 sec   0                  36.2827          20.0737         1316.43              35.1696            20.1738           1236.9\n",
      "    2020-01-17 02:49:37  2.145 sec   1                  34.7825          18.9867         1209.82              33.8265            19.09             1144.24\n",
      "    2020-01-17 02:49:39  3.271 sec   2                  33.5158          18.0523         1123.31              32.7056            18.1582           1069.65\n",
      "    2020-01-17 02:49:39  4.084 sec   3                  32.4395          17.2487         1052.32              31.7517            17.3596           1008.17\n",
      "    2020-01-17 02:49:44  8.415 sec   10                 28.1326          14.0142         791.444              28.3099            14.1636           801.45\n",
      "    2020-01-17 02:49:48  13.181 sec  18                 26.3696          12.7944         695.355              27.2973            12.9584           745.143\n",
      "    2020-01-17 02:49:53  17.349 sec  25                 25.471           12.3924         648.774              27.0349            12.5703           730.885\n",
      "    2020-01-17 02:49:57  21.588 sec  31                 25.0009          12.2413         625.045              27.0127            12.4267           729.688\n",
      "    2020-01-17 02:50:01  25.953 sec  39                 24.5068          12.1319         600.582              27.0404            12.3223           731.182\n",
      "    2020-01-17 02:50:06  30.308 sec  49                 24.0208          12.0553         576.999              27.053             12.2473           731.864\n",
      "    2020-01-17 02:50:06  30.969 sec  50                 23.9828          12.0491         575.176              27.0646            12.2423           732.49\n",
      "\n",
      "Variable Importances: \n",
      "variable         relative_importance    scaled_importance    percentage\n",
      "---------------  ---------------------  -------------------  ------------\n",
      "prev_AQI         1.33557e+09            1                    0.713405\n",
      "humidity         1.26096e+08            0.0944141            0.0673554\n",
      "wind_speed       1.00998e+08            0.0756214            0.0539487\n",
      "day              7.92782e+07            0.0593592            0.0423471\n",
      "State_Code_num   5.87038e+07            0.0439542            0.0313571\n",
      "temp             5.16326e+07            0.0386596            0.02758\n",
      "month            4.04577e+07            0.0302925            0.0216108\n",
      "wind_direction   3.32089e+07            0.024865             0.0177388\n",
      "year             2.09766e+07            0.0157061            0.0112048\n",
      "dow              9.63184e+06            0.00721179           0.00514492\n",
      "County_Code_num  8.38105e+06            0.00627527           0.0044768\n",
      "pressure         7.17202e+06            0.00537001           0.00383099"
     ]
    }
   ],
   "source": [
    "model_gbm"
   ]
  },
  {
   "cell_type": "code",
   "execution_count": 14,
   "metadata": {},
   "outputs": [
    {
     "data": {
      "application/vnd.jupyter.widget-view+json": {
       "model_id": "c4021293b09e4b9ab7daf2f9f615a36a",
       "version_major": 2,
       "version_minor": 0
      },
      "text/plain": [
       "VBox()"
      ]
     },
     "metadata": {},
     "output_type": "display_data"
    },
    {
     "data": {
      "application/vnd.jupyter.widget-view+json": {
       "model_id": "",
       "version_major": 2,
       "version_minor": 0
      },
      "text/plain": [
       "FloatProgress(value=0.0, bar_style='info', description='Progress:', layout=Layout(height='25px', width='50%'),…"
      ]
     },
     "metadata": {},
     "output_type": "display_data"
    },
    {
     "name": "stdout",
     "output_type": "stream",
     "text": [
      "gbm Model Build progress: [###############################################] 100%"
     ]
    }
   ],
   "source": [
    "\n",
    "model_gbm = H2OGradientBoostingEstimator(ntrees=100,\n",
    "                                         max_depth=6,\n",
    "                                         learn_rate=0.1,\n",
    "                                         )\n",
    "\n",
    "model_gbm.train(x=predictors,\n",
    "                y=response,\n",
    "                training_frame=data1_lag_train,\n",
    "                validation_frame=data1_lag_test)"
   ]
  },
  {
   "cell_type": "code",
   "execution_count": 15,
   "metadata": {},
   "outputs": [
    {
     "data": {
      "application/vnd.jupyter.widget-view+json": {
       "model_id": "7f89299635cd4fa6a4923cb73e94056b",
       "version_major": 2,
       "version_minor": 0
      },
      "text/plain": [
       "VBox()"
      ]
     },
     "metadata": {},
     "output_type": "display_data"
    },
    {
     "data": {
      "application/vnd.jupyter.widget-view+json": {
       "model_id": "",
       "version_major": 2,
       "version_minor": 0
      },
      "text/plain": [
       "FloatProgress(value=0.0, bar_style='info', description='Progress:', layout=Layout(height='25px', width='50%'),…"
      ]
     },
     "metadata": {},
     "output_type": "display_data"
    },
    {
     "name": "stdout",
     "output_type": "stream",
     "text": [
      "Model Details\n",
      "=============\n",
      "H2OGradientBoostingEstimator :  Gradient Boosting Machine\n",
      "Model Key:  GBM_model_python_1579224764540_3\n",
      "\n",
      "\n",
      "Model Summary: \n",
      "    number_of_trees    number_of_internal_trees    model_size_in_bytes    min_depth    max_depth    mean_depth    min_leaves    max_leaves    mean_leaves\n",
      "--  -----------------  --------------------------  ---------------------  -----------  -----------  ------------  ------------  ------------  -------------\n",
      "    100                100                         40724                  6            6            6             10            59            27.79\n",
      "\n",
      "\n",
      "ModelMetricsRegression: gbm\n",
      "** Reported on train data. **\n",
      "\n",
      "MSE: 496.23672227154236\n",
      "RMSE: 22.276371389244307\n",
      "MAE: 11.805238136502648\n",
      "RMSLE: NaN\n",
      "Mean Residual Deviance: 496.23672227154236\n",
      "\n",
      "ModelMetricsRegression: gbm\n",
      "** Reported on validation data. **\n",
      "\n",
      "MSE: 728.6460232725884\n",
      "RMSE: 26.993444079490644\n",
      "MAE: 12.016053149856196\n",
      "RMSLE: NaN\n",
      "Mean Residual Deviance: 728.6460232725884\n",
      "\n",
      "Scoring History: \n",
      "    timestamp            duration    number_of_trees    training_rmse    training_mae    training_deviance    validation_rmse    validation_mae    validation_deviance\n",
      "--  -------------------  ----------  -----------------  ---------------  --------------  -------------------  -----------------  ----------------  ---------------------\n",
      "    2020-01-17 02:52:14  0.052 sec   0                  36.2827          20.0737         1316.43              35.1696            20.1738           1236.9\n",
      "    2020-01-17 02:52:15  0.514 sec   1                  34.7825          18.9867         1209.82              33.8265            19.09             1144.24\n",
      "    2020-01-17 02:52:15  0.866 sec   2                  33.5158          18.0523         1123.31              32.7056            18.1582           1069.65\n",
      "    2020-01-17 02:52:16  1.332 sec   3                  32.4395          17.2487         1052.32              31.7517            17.3596           1008.17\n",
      "    2020-01-17 02:52:16  1.861 sec   4                  31.5206          16.554          993.548              30.9612            16.6713           958.597\n",
      "    2020-01-17 02:52:17  2.473 sec   5                  30.7439          15.9566         945.185              30.3097            16.081            918.678\n",
      "    2020-01-17 02:52:17  3.199 sec   6                  30.0847          15.4373         905.088              29.7484            15.5662           884.967\n",
      "    2020-01-17 02:52:18  3.779 sec   7                  29.4731          14.9994         868.664              29.2926            15.1339           858.054\n",
      "    2020-01-17 02:52:22  7.933 sec   15                 26.8667          13.111          721.818              27.5151            13.2687           757.081\n",
      "    2020-01-17 02:52:27  12.531 sec  24                 25.6004          12.436          655.381              27.0756            12.6113           733.087\n",
      "    2020-01-17 02:52:32  17.345 sec  31                 25.0009          12.2413         625.045              27.0127            12.4267           729.688\n",
      "    2020-01-17 02:52:36  21.823 sec  37                 24.631           12.1597         606.685              27.0386            12.3491           731.089\n",
      "    2020-01-17 02:52:40  26.101 sec  45                 24.2071          12.0871         585.986              27.0616            12.2789           732.329\n",
      "    2020-01-17 02:52:45  30.684 sec  55                 23.7669          12.0131         564.865              27.051             12.2085           731.758\n",
      "    2020-01-17 02:52:49  34.735 sec  62                 23.4557          11.9623         550.169              27.0616            12.1632           732.328\n",
      "    2020-01-17 02:52:53  39.107 sec  70                 23.1795          11.9218         537.288              27.0511            12.1251           731.764\n",
      "    2020-01-17 02:52:58  43.735 sec  79                 22.8877          11.8851         523.845              27.0098            12.089            729.529\n",
      "    2020-01-17 02:53:04  50.185 sec  92                 22.4876          11.8362         505.693              27.0084            12.0462           729.453\n",
      "    2020-01-17 02:53:09  54.514 sec  100                22.2764          11.8052         496.237              26.9934            12.0161           728.646\n",
      "\n",
      "Variable Importances: \n",
      "variable         relative_importance    scaled_importance    percentage\n",
      "---------------  ---------------------  -------------------  ------------\n",
      "prev_AQI         1.41714e+09            1                    0.684123\n",
      "humidity         1.63331e+08            0.115254             0.0788476\n",
      "day              1.17203e+08            0.082704             0.0565797\n",
      "wind_speed       1.13151e+08            0.0798444            0.0546234\n",
      "State_Code_num   6.34253e+07            0.0447558            0.0306185\n",
      "temp             5.9817e+07             0.0422096            0.0288765\n",
      "month            4.21357e+07            0.0297328            0.0203409\n",
      "wind_direction   3.67999e+07            0.0259677            0.0177651\n",
      "year             2.55856e+07            0.0180544            0.0123514\n",
      "County_Code_num  1.34095e+07            0.00946236           0.00647342\n",
      "dow              9.94385e+06            0.00701683           0.00480038\n",
      "pressure         9.52875e+06            0.00672392           0.00459999"
     ]
    }
   ],
   "source": [
    "model_gbm"
   ]
  },
  {
   "cell_type": "code",
   "execution_count": 16,
   "metadata": {},
   "outputs": [
    {
     "data": {
      "application/vnd.jupyter.widget-view+json": {
       "model_id": "4964f7e211364a4b94ae257d8f776ff1",
       "version_major": 2,
       "version_minor": 0
      },
      "text/plain": [
       "VBox()"
      ]
     },
     "metadata": {},
     "output_type": "display_data"
    },
    {
     "data": {
      "application/vnd.jupyter.widget-view+json": {
       "model_id": "",
       "version_major": 2,
       "version_minor": 0
      },
      "text/plain": [
       "FloatProgress(value=0.0, bar_style='info', description='Progress:', layout=Layout(height='25px', width='50%'),…"
      ]
     },
     "metadata": {},
     "output_type": "display_data"
    },
    {
     "name": "stdout",
     "output_type": "stream",
     "text": [
      "deeplearning Model Build progress: [######################################] 100%"
     ]
    }
   ],
   "source": [
    "from h2o.estimators.deeplearning import H2ODeepLearningEstimator\n",
    "model_dl = H2ODeepLearningEstimator(variable_importances=True,\n",
    "                                    loss=\"Automatic\")\n",
    "\n",
    "model_dl.train(x=predictors,\n",
    "               y=response,\n",
    "               training_frame=data1_lag_train,\n",
    "               validation_frame=data1_lag_test)"
   ]
  },
  {
   "cell_type": "code",
   "execution_count": 17,
   "metadata": {},
   "outputs": [
    {
     "data": {
      "application/vnd.jupyter.widget-view+json": {
       "model_id": "8a884450665b4d099e3265fa1586dcc9",
       "version_major": 2,
       "version_minor": 0
      },
      "text/plain": [
       "VBox()"
      ]
     },
     "metadata": {},
     "output_type": "display_data"
    },
    {
     "data": {
      "application/vnd.jupyter.widget-view+json": {
       "model_id": "",
       "version_major": 2,
       "version_minor": 0
      },
      "text/plain": [
       "FloatProgress(value=0.0, bar_style='info', description='Progress:', layout=Layout(height='25px', width='50%'),…"
      ]
     },
     "metadata": {},
     "output_type": "display_data"
    },
    {
     "name": "stdout",
     "output_type": "stream",
     "text": [
      "Model Details\n",
      "=============\n",
      "H2ODeepLearningEstimator :  Deep Learning\n",
      "Model Key:  DeepLearning_model_python_1579224764540_4\n",
      "\n",
      "\n",
      "Status of Neuron Layers: predicting label, regression, gaussian distribution, Quadratic loss, 43,001 weights/biases, 516.3 KB, 4,802,613 training samples, mini-batch size 1\n",
      "    layer    units    type       dropout    l1    l2    mean_rate              rate_rms               momentum    mean_weight            weight_rms           mean_bias            bias_rms\n",
      "--  -------  -------  ---------  ---------  ----  ----  ---------------------  ---------------------  ----------  ---------------------  -------------------  -------------------  -----------------------\n",
      "    1        12       Input      0.0\n",
      "    2        200      Rectifier  0.0        0.0   0.0   0.01185059714844101    0.02420925348997116    0.0         0.014853620929082656   0.6004297733306885   0.23964601905099914  0.433846116065979\n",
      "    3        200      Rectifier  0.0        0.0   0.0   0.05970013060117553    0.08953404426574707    0.0         -0.047202998084988325  0.14365381002426147  0.8569426462493759   0.3173365592956543\n",
      "    4        1        Linear                0.0   0.0   0.0006939148695411745  0.0007350875530391932  0.0         0.030114968360430795   0.09545910358428955  0.48742305869641583  1.0971281125650402e-154\n",
      "\n",
      "\n",
      "ModelMetricsRegression: deeplearning\n",
      "** Reported on train data. **\n",
      "\n",
      "MSE: 429.6794129654906\n",
      "RMSE: 20.72870987219153\n",
      "MAE: 12.280213432327763\n",
      "RMSLE: NaN\n",
      "Mean Residual Deviance: 429.6794129654906\n",
      "\n",
      "ModelMetricsRegression: deeplearning\n",
      "** Reported on validation data. **\n",
      "\n",
      "MSE: 690.1699425122537\n",
      "RMSE: 26.271085674411207\n",
      "MAE: 12.324057483621091\n",
      "RMSLE: NaN\n",
      "Mean Residual Deviance: 690.1699425122537\n",
      "\n",
      "Scoring History: \n",
      "    timestamp            duration          training_speed    epochs    iterations    samples      training_rmse    training_deviance    training_mae    training_r2    validation_rmse    validation_deviance    validation_mae    validation_r2\n",
      "--  -------------------  ----------------  ----------------  --------  ------------  -----------  ---------------  -------------------  --------------  -------------  -----------------  ---------------------  ----------------  ---------------\n",
      "    2020-01-17 03:00:14  0.000 sec                           0         0             0            nan              nan                  nan             nan            nan                nan                    nan               nan\n",
      "    2020-01-17 03:00:23  13.438 sec        11252 obs/sec     0.208983  1             100283       24.2322          587.201              14.9632         0.372276       28.7144            824.515                14.9511           0.333399\n",
      "    2020-01-17 03:01:13  1 min  2.608 sec  14810 obs/sec     1.66795   8             800388       22.7754          518.718              12.4346         0.445485       27.229             741.417                12.5057           0.400582\n",
      "    2020-01-17 03:01:55  1 min 43.184 sec  16262 obs/sec     3.12822   15            1.50111e+06  24.7455          612.338              12.6545         0.345404       27.0163            729.883                12.6386           0.409907\n",
      "    2020-01-17 03:02:21  2 min 11.526 sec  16322 obs/sec     3.9638    19            1.90208e+06  21.1552          447.544              12.3645         0.521571       26.8489            720.864                12.4747           0.417199\n",
      "    2020-01-17 03:03:04  2 min 52.257 sec  16834 obs/sec     5.42272   26            2.60216e+06  24.6078          605.543              13.3171         0.352668       27.18              738.754                13.2827           0.402735\n",
      "    2020-01-17 03:03:36  3 min 25.841 sec  16874 obs/sec     6.46438   31            3.10201e+06  24.6506          607.651              12.6729         0.350415       27.0661            732.574                12.6542           0.407732\n",
      "    2020-01-17 03:04:23  4 min 13.079 sec  17196 obs/sec     8.13335   39            3.90288e+06  21.7447          472.834              12.2702         0.494536       26.891             723.128                12.3143           0.415368\n",
      "    2020-01-17 03:05:05  4 min 55.724 sec  17350 obs/sec     9.59107   46            4.60239e+06  21.0012          441.051              12.415          0.528512       26.7739            716.841                12.4759           0.420451\n",
      "    2020-01-17 03:05:20  5 min  9.405 sec  17440 obs/sec     10.0083   48            4.80261e+06  20.7287          429.679              12.2802         0.540668       26.2711            690.17                 12.3241           0.442014\n",
      "\n",
      "Variable Importances: \n",
      "variable         relative_importance    scaled_importance    percentage\n",
      "---------------  ---------------------  -------------------  ------------\n",
      "pressure         1                      1                    0.239802\n",
      "wind_speed       0.54626                0.54626              0.130994\n",
      "temp             0.36298                0.36298              0.0870433\n",
      "State_Code_num   0.362712               0.362712             0.0869791\n",
      "County_Code_num  0.345959               0.345959             0.0829618\n",
      "wind_direction   0.314768               0.314768             0.075482\n",
      "humidity         0.29278                0.29278              0.0702093\n",
      "year             0.272521               0.272521             0.0653512\n",
      "month            0.271553               0.271553             0.065119\n",
      "prev_AQI         0.211991               0.211991             0.0508358\n",
      "dow              0.108705               0.108705             0.0260676\n",
      "day              0.0798761              0.0798761            0.0191545"
     ]
    }
   ],
   "source": [
    "model_dl"
   ]
  },
  {
   "cell_type": "code",
   "execution_count": 48,
   "metadata": {},
   "outputs": [
    {
     "data": {
      "application/vnd.jupyter.widget-view+json": {
       "model_id": "8073554a3dde45f799fb2200b5457c38",
       "version_major": 2,
       "version_minor": 0
      },
      "text/plain": [
       "VBox()"
      ]
     },
     "metadata": {},
     "output_type": "display_data"
    },
    {
     "data": {
      "application/vnd.jupyter.widget-view+json": {
       "model_id": "",
       "version_major": 2,
       "version_minor": 0
      },
      "text/plain": [
       "FloatProgress(value=0.0, bar_style='info', description='Progress:', layout=Layout(height='25px', width='50%'),…"
      ]
     },
     "metadata": {},
     "output_type": "display_data"
    },
    {
     "name": "stdout",
     "output_type": "stream",
     "text": [
      "xgboost Model Build progress: [###########################################] 100%"
     ]
    }
   ],
   "source": [
    "from h2o.estimators.xgboost import H2OXGBoostEstimator\n",
    "model_xg = H2OXGBoostEstimator()\n",
    "model_xg.train(x=predictors,\n",
    "               y=\"label\",\n",
    "               training_frame=data1_lag_train,\n",
    "               validation_frame=data1_lag_test)"
   ]
  },
  {
   "cell_type": "code",
   "execution_count": 49,
   "metadata": {
    "scrolled": true
   },
   "outputs": [
    {
     "data": {
      "application/vnd.jupyter.widget-view+json": {
       "model_id": "f4a7a8da5ce04c2aab566efe5f8c3e51",
       "version_major": 2,
       "version_minor": 0
      },
      "text/plain": [
       "VBox()"
      ]
     },
     "metadata": {},
     "output_type": "display_data"
    },
    {
     "data": {
      "application/vnd.jupyter.widget-view+json": {
       "model_id": "",
       "version_major": 2,
       "version_minor": 0
      },
      "text/plain": [
       "FloatProgress(value=0.0, bar_style='info', description='Progress:', layout=Layout(height='25px', width='50%'),…"
      ]
     },
     "metadata": {},
     "output_type": "display_data"
    },
    {
     "name": "stdout",
     "output_type": "stream",
     "text": [
      "Model Details\n",
      "=============\n",
      "H2OXGBoostEstimator :  XGBoost\n",
      "Model Key:  XGBoost_model_python_1579233806610_1\n",
      "\n",
      "\n",
      "Model Summary: \n",
      "    number_of_trees\n",
      "--  -----------------\n",
      "    50\n",
      "\n",
      "\n",
      "ModelMetricsRegression: xgboost\n",
      "** Reported on train data. **\n",
      "\n",
      "MSE: 314.9533438845186\n",
      "RMSE: 17.74692491347497\n",
      "MAE: 11.067762413489184\n",
      "RMSLE: NaN\n",
      "Mean Residual Deviance: 314.9533438845186\n",
      "\n",
      "ModelMetricsRegression: xgboost\n",
      "** Reported on validation data. **\n",
      "\n",
      "MSE: 1697.03962067154\n",
      "RMSE: 41.195140741009006\n",
      "MAE: 11.492590799365352\n",
      "RMSLE: NaN\n",
      "Mean Residual Deviance: 1697.03962067154\n",
      "\n",
      "Scoring History: \n",
      "    timestamp            duration    number_of_trees    training_rmse    training_mae    training_deviance    validation_rmse    validation_mae    validation_deviance\n",
      "--  -------------------  ----------  -----------------  ---------------  --------------  -------------------  -----------------  ----------------  ---------------------\n",
      "    2020-01-17 04:37:58  0.001 sec   0                  61.0948          49.1558         3732.57              60.5144            49.2468           3661.99\n",
      "    2020-01-17 04:37:58  0.723 sec   1                  46.2958          34.5424         2143.3               46.6714            34.6514           2178.22\n",
      "    2020-01-17 04:37:59  1.162 sec   2                  36.5431          24.7281         1335.4               38.6756            24.868            1495.8\n",
      "    2020-01-17 04:37:59  1.611 sec   3                  30.3042          18.6204         918.347              34.8118            18.7926           1211.86\n",
      "    2020-01-17 04:38:00  2.051 sec   4                  26.404           15.1705         697.171              33.5534            15.3719           1125.83\n",
      "    2020-01-17 04:38:00  2.493 sec   5                  23.9563          13.3936         573.906              33.665             13.6228           1133.33\n",
      "    2020-01-17 04:38:01  2.962 sec   6                  22.4568          12.5454         504.306              34.4288            12.7917           1185.34\n",
      "    2020-01-17 04:38:01  3.422 sec   7                  21.5189          12.1556         463.062              35.4073            12.4085           1253.68\n",
      "    2020-01-17 04:38:02  3.960 sec   8                  20.9123          11.9989         437.325              36.4599            12.2619           1329.32\n",
      "    2020-01-17 04:38:07  9.139 sec   31                 18.5312          11.3441         343.406              41.2906            11.6964           1704.91\n",
      "    2020-01-17 04:38:10  12.353 sec  50                 17.7469          11.0678         314.953              41.1951            11.4926           1697.04\n",
      "\n",
      "Variable Importances: \n",
      "variable         relative_importance    scaled_importance    percentage\n",
      "---------------  ---------------------  -------------------  ------------\n",
      "prev_AQI         4.83587e+08            1                    0.530814\n",
      "wind_speed       2.97326e+08            0.614835             0.326363\n",
      "State_Code_num   3.3346e+07             0.0689555            0.0366026\n",
      "temp             2.31613e+07            0.0478949            0.0254233\n",
      "humidity         1.827e+07              0.0377802            0.0200543\n",
      "pressure         1.61954e+07            0.0334901            0.017777\n",
      "year             1.21261e+07            0.0250753            0.0133103\n",
      "County_Code_num  1.10461e+07            0.022842             0.0121248\n",
      "wind_direction   9.57694e+06            0.019804             0.0105122\n",
      "day              2.84669e+06            0.00588661           0.0031247\n",
      "month            2.78527e+06            0.00575962           0.00305729\n",
      "dow              761511                 0.00157472           0.000835881"
     ]
    }
   ],
   "source": [
    "model_xg"
   ]
  },
  {
   "cell_type": "code",
   "execution_count": 117,
   "metadata": {},
   "outputs": [
    {
     "data": {
      "application/vnd.jupyter.widget-view+json": {
       "model_id": "f6e3034815f44a8584feeddff8fbd9b7",
       "version_major": 2,
       "version_minor": 0
      },
      "text/plain": [
       "VBox()"
      ]
     },
     "metadata": {},
     "output_type": "display_data"
    },
    {
     "data": {
      "application/vnd.jupyter.widget-view+json": {
       "model_id": "",
       "version_major": 2,
       "version_minor": 0
      },
      "text/plain": [
       "FloatProgress(value=0.0, bar_style='info', description='Progress:', layout=Layout(height='25px', width='50%'),…"
      ]
     },
     "metadata": {},
     "output_type": "display_data"
    }
   ],
   "source": [
    "## performance on LA"
   ]
  },
  {
   "cell_type": "code",
   "execution_count": 23,
   "metadata": {},
   "outputs": [
    {
     "data": {
      "application/vnd.jupyter.widget-view+json": {
       "model_id": "edb7c64ee25c4442b4a24fd2848bd4fc",
       "version_major": 2,
       "version_minor": 0
      },
      "text/plain": [
       "VBox()"
      ]
     },
     "metadata": {},
     "output_type": "display_data"
    },
    {
     "data": {
      "application/vnd.jupyter.widget-view+json": {
       "model_id": "",
       "version_major": 2,
       "version_minor": 0
      },
      "text/plain": [
       "FloatProgress(value=0.0, bar_style='info', description='Progress:', layout=Layout(height='25px', width='50%'),…"
      ]
     },
     "metadata": {},
     "output_type": "display_data"
    },
    {
     "name": "stdout",
     "output_type": "stream",
     "text": [
      "  State_Code_num    County_Code_num    year    month    day    dow     temp    humidity    pressure    wind_speed    wind_direction    prev_AQI    label\n",
      "----------------  -----------------  ------  -------  -----  -----  -------  ----------  ----------  ------------  ----------------  ----------  -------\n",
      "               6                 37    2007        1      4      5  53.5417     78.3958     480.471       3.17853           172.093          67       65\n",
      "               6                 37    2007        1      5      6  51.5469     22.7708     483.673       6.64931           203.513          65       44\n",
      "               6                 37    2007        1      7      1  57.0729     33.3889     487.979       3.77821           190.308          82       66\n",
      "               6                 37    2007        1     11      5  51.6354     69.6806     477.55        3.725             151.074         102       52\n",
      "               6                 37    2007        1     12      6  44.7292     30.7639     479.79        3.83622           218.064          52       72\n",
      "               6                 37    2007        1     14      1  40.1198     26.6875     484.183       2.50064           165.41           49       69\n",
      "               6                 37    2007        1     15      2  43.9167     36.0972     486.531       3.59712           167.625          69       90\n",
      "               6                 37    2007        1     18      5  50.2708     35.8819     483.277       3.2875            162.721          69       85\n",
      "               6                 37    2007        1     22      2  51.801      33.9722     484.723       3.31538           164.215          68       80\n",
      "               6                 37    2007        1     27      7  53.0625     75.4861     480.935       2.93861           143.301          76       56\n",
      "\n",
      "[568 rows x 13 columns]"
     ]
    }
   ],
   "source": [
    "data1_lag_test_la = data1_lag_test[(data1_lag_test['State_Code_num']==6)&(data1_lag_test['County_Code_num']==37),:]\n",
    "data1_lag_test_la"
   ]
  },
  {
   "cell_type": "code",
   "execution_count": 31,
   "metadata": {},
   "outputs": [
    {
     "data": {
      "application/vnd.jupyter.widget-view+json": {
       "model_id": "a9c4fba889594659939aa946d4650a13",
       "version_major": 2,
       "version_minor": 0
      },
      "text/plain": [
       "VBox()"
      ]
     },
     "metadata": {},
     "output_type": "display_data"
    },
    {
     "data": {
      "application/vnd.jupyter.widget-view+json": {
       "model_id": "",
       "version_major": 2,
       "version_minor": 0
      },
      "text/plain": [
       "FloatProgress(value=0.0, bar_style='info', description='Progress:', layout=Layout(height='25px', width='50%'),…"
      ]
     },
     "metadata": {},
     "output_type": "display_data"
    },
    {
     "name": "stdout",
     "output_type": "stream",
     "text": [
      "deeplearning Model Build progress: [######################################] 100%"
     ]
    }
   ],
   "source": [
    "model_dl_la = H2ODeepLearningEstimator(variable_importances=True,\n",
    "                                    loss=\"Automatic\")\n",
    "\n",
    "model_dl_la.train(x=predictors,\n",
    "               y=response,\n",
    "               training_frame=data1_lag_train,\n",
    "               validation_frame=data1_lag_test_la)"
   ]
  },
  {
   "cell_type": "code",
   "execution_count": 32,
   "metadata": {},
   "outputs": [
    {
     "data": {
      "application/vnd.jupyter.widget-view+json": {
       "model_id": "82f6147561ea498aa6ddb0d01127c58b",
       "version_major": 2,
       "version_minor": 0
      },
      "text/plain": [
       "VBox()"
      ]
     },
     "metadata": {},
     "output_type": "display_data"
    },
    {
     "data": {
      "application/vnd.jupyter.widget-view+json": {
       "model_id": "",
       "version_major": 2,
       "version_minor": 0
      },
      "text/plain": [
       "FloatProgress(value=0.0, bar_style='info', description='Progress:', layout=Layout(height='25px', width='50%'),…"
      ]
     },
     "metadata": {},
     "output_type": "display_data"
    },
    {
     "name": "stdout",
     "output_type": "stream",
     "text": [
      "Model Details\n",
      "=============\n",
      "H2ODeepLearningEstimator :  Deep Learning\n",
      "Model Key:  DeepLearning_model_python_1579224764540_5\n",
      "\n",
      "\n",
      "Status of Neuron Layers: predicting label, regression, gaussian distribution, Quadratic loss, 43,001 weights/biases, 516.3 KB, 4,200,904 training samples, mini-batch size 1\n",
      "    layer    units    type       dropout    l1    l2    mean_rate              rate_rms              momentum    mean_weight            weight_rms           mean_bias           bias_rms\n",
      "--  -------  -------  ---------  ---------  ----  ----  ---------------------  --------------------  ----------  ---------------------  -------------------  ------------------  -----------------------\n",
      "    1        12       Input      0.0\n",
      "    2        200      Rectifier  0.0        0.0   0.0   0.018285708628476036   0.04162207245826721   0.0         0.0016365854969232411  0.40053272247314453  0.2390218242321387  0.26254284381866455\n",
      "    3        200      Rectifier  0.0        0.0   0.0   0.06667813490682076    0.09870091080665588   0.0         -0.046201490526693735  0.12419730424880981  0.8739766187652083  0.21896886825561523\n",
      "    4        1        Linear                0.0   0.0   0.0008376396735809521  0.000850379467010498  0.0         0.021503850666840664   0.08618614077568054  0.6355772985920979  1.0971281125650402e-154\n",
      "\n",
      "\n",
      "ModelMetricsRegression: deeplearning\n",
      "** Reported on train data. **\n",
      "\n",
      "MSE: 367.05027144166644\n",
      "RMSE: 19.158556089686574\n",
      "MAE: 11.987456152403606\n",
      "RMSLE: NaN\n",
      "Mean Residual Deviance: 367.05027144166644\n",
      "\n",
      "ModelMetricsRegression: deeplearning\n",
      "** Reported on validation data. **\n",
      "\n",
      "MSE: 471.52633810029\n",
      "RMSE: 21.714657218116294\n",
      "MAE: 16.035840384550646\n",
      "RMSLE: 0.23571036715873037\n",
      "Mean Residual Deviance: 471.52633810029\n",
      "\n",
      "Scoring History: \n",
      "     timestamp            duration          training_speed    epochs               iterations    samples    training_rmse       training_deviance    training_mae        training_r2          validation_rmse     validation_deviance    validation_mae      validation_r2\n",
      "---  -------------------  ----------------  ----------------  -------------------  ------------  ---------  ------------------  -------------------  ------------------  -------------------  ------------------  ---------------------  ------------------  -------------------\n",
      "     2020-01-17 03:24:39  0.000 sec                           0.0                  0             0.0        nan                 nan                  nan                 nan                  nan                 nan                    nan                 nan\n",
      "     2020-01-17 03:24:47  9.123 sec         11487 obs/sec     0.20810566371165043  1             99862.0    20.46448015608822   418.79494805892864   13.383147649196019  0.5230638315128684   24.323139213006133  591.6151011752765      18.062382649512173  0.550098593080306\n",
      "     2020-01-17 03:24:53  14.934 sec        13985 obs/sec     0.41558406375166196  2             199423.0   22.48365471522607   505.51472935350745   14.165205323220565  0.42430476000453987  27.47011902865592   754.607439448524       20.07189787290929   0.42614894716932494\n",
      "     2020-01-17 03:24:58  20.002 sec        15684 obs/sec     0.624100262158704    3             299482.0   20.03109077807122   401.2445977593299    12.574887493700231  0.5430506934993693   24.703012537001666  610.2388284032614      17.86162423748901   0.5359359372161909\n",
      "     2020-01-17 03:25:04  25.110 sec        16636 obs/sec     0.8329478058275087   4             399700.0   20.738623452484212  430.0905027039282    12.833087594311062  0.5102001172338578   28.457620305009286  809.8361534240769      20.844634863358927  0.38414955251120053\n",
      "---  ---                  ---               ---               ---                  ---           ---        ---                 ---                  ---                 ---                  ---                 ---                    ---                 ---\n",
      "     2020-01-17 03:27:27  2 min 48.641 sec  22119 obs/sec     7.504282481213349    36            3601020.0  18.27688608812551   334.0445650783159    12.320621419866901  0.6195800935259022   24.600111089109063  605.1654655965067      17.98574093497687   0.5397940420212215\n",
      "     2020-01-17 03:27:34  2 min 55.144 sec  22473 obs/sec     7.92157953745035     38            3801265.0  18.423380291795663  339.4209413761249    12.277168773503229  0.6134573159620686   23.299977507200616  542.8889518360546      17.093647777704177  0.5871530277929187\n",
      "     2020-01-17 03:27:40  3 min  1.811 sec  22787 obs/sec     8.338051356431642    40            4001114.0  18.77926125680039   352.66065335116417   12.23496202506607   0.5983795373725334   21.831737569768084  476.62476531522327     15.936844381090712  0.6375444912374575\n",
      "     2020-01-17 03:27:47  3 min  8.469 sec  23077 obs/sec     8.75440022339756     42            4200904.0  18.137156759918934  328.95645533387307   12.396788805929676  0.6253745845473535   22.843156528924634  521.8098002049521      16.925575973999713  0.6031829431156801\n",
      "     2020-01-17 03:27:47  3 min  8.625 sec  23077 obs/sec     8.75440022339756     42            4200904.0  19.158556089686574  367.05027144166644   11.987456152403606  0.5819922114272558   21.714657218116294  471.52633810029        16.035840384550646  0.6414216565980431\n",
      "\n",
      "Variable Importances: \n",
      "variable         relative_importance    scaled_importance    percentage\n",
      "---------------  ---------------------  -------------------  ------------\n",
      "pressure         1                      1                    0.249561\n",
      "wind_speed       0.55963                0.55963              0.139662\n",
      "temp             0.359657               0.359657             0.0897564\n",
      "wind_direction   0.32062                0.32062              0.0800142\n",
      "County_Code_num  0.306291               0.306291             0.0764383\n",
      "humidity         0.28979                0.28979              0.0723204\n",
      "State_Code_num   0.285504               0.285504             0.0712508\n",
      "year             0.239576               0.239576             0.059789\n",
      "prev_AQI         0.2233                 0.2233               0.0557271\n",
      "month            0.219711               0.219711             0.0548314\n",
      "dow              0.120318               0.120318             0.0300267\n",
      "day              0.0826347              0.0826347            0.0206224"
     ]
    }
   ],
   "source": [
    "model_dl_la"
   ]
  },
  {
   "cell_type": "markdown",
   "metadata": {},
   "source": [
    "## H2O with data1_lag3_h2o"
   ]
  },
  {
   "cell_type": "code",
   "execution_count": 112,
   "metadata": {},
   "outputs": [
    {
     "data": {
      "application/vnd.jupyter.widget-view+json": {
       "model_id": "f34011637c82470bb9685170048fcad9",
       "version_major": 2,
       "version_minor": 0
      },
      "text/plain": [
       "VBox()"
      ]
     },
     "metadata": {},
     "output_type": "display_data"
    },
    {
     "data": {
      "application/vnd.jupyter.widget-view+json": {
       "model_id": "",
       "version_major": 2,
       "version_minor": 0
      },
      "text/plain": [
       "FloatProgress(value=0.0, bar_style='info', description='Progress:', layout=Layout(height='25px', width='50%'),…"
      ]
     },
     "metadata": {},
     "output_type": "display_data"
    }
   ],
   "source": [
    "data1_lag3_train, data1_lag3_test = data1_lag3_h2o.split_frame(ratios = [.8], seed = 1)"
   ]
  },
  {
   "cell_type": "code",
   "execution_count": 113,
   "metadata": {},
   "outputs": [
    {
     "data": {
      "application/vnd.jupyter.widget-view+json": {
       "model_id": "87960404b0c34fbcacddd025e33ab6ba",
       "version_major": 2,
       "version_minor": 0
      },
      "text/plain": [
       "VBox()"
      ]
     },
     "metadata": {},
     "output_type": "display_data"
    },
    {
     "data": {
      "application/vnd.jupyter.widget-view+json": {
       "model_id": "",
       "version_major": 2,
       "version_minor": 0
      },
      "text/plain": [
       "FloatProgress(value=0.0, bar_style='info', description='Progress:', layout=Layout(height='25px', width='50%'),…"
      ]
     },
     "metadata": {},
     "output_type": "display_data"
    }
   ],
   "source": [
    "predictors = data1_lag3_train.names[:]\n",
    "response = \"label\"\n",
    "predictors.remove(response)\n"
   ]
  },
  {
   "cell_type": "code",
   "execution_count": 115,
   "metadata": {},
   "outputs": [
    {
     "data": {
      "application/vnd.jupyter.widget-view+json": {
       "model_id": "288c067f84174ea08a3849a5c83df818",
       "version_major": 2,
       "version_minor": 0
      },
      "text/plain": [
       "VBox()"
      ]
     },
     "metadata": {},
     "output_type": "display_data"
    },
    {
     "data": {
      "application/vnd.jupyter.widget-view+json": {
       "model_id": "",
       "version_major": 2,
       "version_minor": 0
      },
      "text/plain": [
       "FloatProgress(value=0.0, bar_style='info', description='Progress:', layout=Layout(height='25px', width='50%'),…"
      ]
     },
     "metadata": {},
     "output_type": "display_data"
    },
    {
     "name": "stdout",
     "output_type": "stream",
     "text": [
      "deeplearning Model Build progress: [######################################] 100%"
     ]
    }
   ],
   "source": [
    "model_dl_lag3 = H2ODeepLearningEstimator(variable_importances=True,\n",
    "                                    loss=\"Automatic\")\n",
    "\n",
    "model_dl_lag3.train(x=predictors,\n",
    "               y=response,\n",
    "               training_frame=data1_lag3_train,\n",
    "               validation_frame=data1_lag3_test)"
   ]
  },
  {
   "cell_type": "code",
   "execution_count": 116,
   "metadata": {},
   "outputs": [
    {
     "data": {
      "application/vnd.jupyter.widget-view+json": {
       "model_id": "dc3d1bd211694ac98577105be85ce399",
       "version_major": 2,
       "version_minor": 0
      },
      "text/plain": [
       "VBox()"
      ]
     },
     "metadata": {},
     "output_type": "display_data"
    },
    {
     "data": {
      "application/vnd.jupyter.widget-view+json": {
       "model_id": "",
       "version_major": 2,
       "version_minor": 0
      },
      "text/plain": [
       "FloatProgress(value=0.0, bar_style='info', description='Progress:', layout=Layout(height='25px', width='50%'),…"
      ]
     },
     "metadata": {},
     "output_type": "display_data"
    },
    {
     "name": "stdout",
     "output_type": "stream",
     "text": [
      "Model Details\n",
      "=============\n",
      "H2ODeepLearningEstimator :  Deep Learning\n",
      "Model Key:  DeepLearning_model_python_1579233806610_2\n",
      "\n",
      "\n",
      "Status of Neuron Layers: predicting label, regression, gaussian distribution, Quadratic loss, 43,401 weights/biases, 521.7 KB, 4,797,840 training samples, mini-batch size 1\n",
      "    layer    units    type       dropout    l1    l2    mean_rate              rate_rms               momentum    mean_weight           weight_rms           mean_bias            bias_rms\n",
      "--  -------  -------  ---------  ---------  ----  ----  ---------------------  ---------------------  ----------  --------------------  -------------------  -------------------  -----------------------\n",
      "    1        14       Input      0.0\n",
      "    2        200      Rectifier  0.0        0.0   0.0   0.018285798708613063   0.04999564588069916    0.0         0.027204224719124405  0.5403749942779541   0.18337972208140235  0.4484602212905884\n",
      "    3        200      Rectifier  0.0        0.0   0.0   0.04734868463571366    0.08254998922348022    0.0         -0.04445607449858065  0.13929271697998047  0.8312450555165874   0.2729148864746094\n",
      "    4        1        Linear                0.0   0.0   0.0005072045857241391  0.0005805965047329664  0.0         0.030403916025370563  0.0989580750465393   0.7551129158020106   1.0971281125650402e-154\n",
      "\n",
      "\n",
      "ModelMetricsRegression: deeplearning\n",
      "** Reported on train data. **\n",
      "\n",
      "MSE: 371.6173218468594\n",
      "RMSE: 19.277378500378607\n",
      "MAE: 11.762799677222722\n",
      "RMSLE: NaN\n",
      "Mean Residual Deviance: 371.6173218468594\n",
      "\n",
      "ModelMetricsRegression: deeplearning\n",
      "** Reported on validation data. **\n",
      "\n",
      "MSE: 1808.2454363108059\n",
      "RMSE: 42.52346924124143\n",
      "MAE: 11.966158534003554\n",
      "RMSLE: NaN\n",
      "Mean Residual Deviance: 1808.2454363108059\n",
      "\n",
      "Scoring History: \n",
      "    timestamp            duration          training_speed    epochs    iterations    samples      training_rmse    training_deviance    training_mae    training_r2    validation_rmse    validation_deviance    validation_mae    validation_r2\n",
      "--  -------------------  ----------------  ----------------  --------  ------------  -----------  ---------------  -------------------  --------------  -------------  -----------------  ---------------------  ----------------  ---------------\n",
      "    2020-01-17 05:04:59  0.000 sec                           0         0             0            nan              nan                  nan             nan            nan                nan                    nan               nan\n",
      "    2020-01-17 05:05:04  6.648 sec         19506 obs/sec     0.208551  1             100011       22.233           494.308              13.818          0.446518       44.0643            1941.66                13.9151           0.181308\n",
      "    2020-01-17 05:05:19  21.629 sec        26755 obs/sec     1.04104   5             499233       20.869           435.516              13.5065         0.512348       43.2655            1871.9                 13.6379           0.21072\n",
      "    2020-01-17 05:05:35  37.739 sec        29856 obs/sec     2.08487   10            999800       20.4312          417.436              12.7932         0.532593       43.0379            1852.26                12.9151           0.219002\n",
      "    2020-01-17 05:05:50  53.083 sec        31652 obs/sec     3.12711   15            1.49961e+06  19.6507          386.15               12.019          0.567623       42.8046            1832.23                12.1923           0.227448\n",
      "    2020-01-17 05:06:06  1 min  8.388 sec  32543 obs/sec     4.17059   20            2.00001e+06  20.7666          431.252              12.8123         0.517123       43.446             1887.56                12.9426           0.204119\n",
      "    2020-01-17 05:06:20  1 min 22.110 sec  33786 obs/sec     5.21115   25            2.49901e+06  20.5061          420.5                13.5225         0.529161       43.2884            1873.89                13.7501           0.209884\n",
      "    2020-01-17 05:06:33  1 min 35.936 sec  34724 obs/sec     6.25247   30            2.99838e+06  20.489           419.798              12.5379         0.529948       43.184             1864.86                12.7654           0.213689\n",
      "    2020-01-17 05:06:49  1 min 51.640 sec  35699 obs/sec     7.50363   36            3.59837e+06  20.581           423.576              12.7284         0.525717       43.2273            1868.6                 12.9864           0.212112\n",
      "    2020-01-17 05:07:03  2 min  4.929 sec  36319 obs/sec     8.54549   41            4.098e+06    19.4924          379.953              12.1236         0.574563       42.6696            1820.69                12.2303           0.232313\n",
      "    2020-01-17 05:07:16  2 min 18.515 sec  36755 obs/sec     9.58765   46            4.59777e+06  21.2422          451.231              12.3036         0.494751       43.5125            1893.34                12.4677           0.201681\n",
      "    2020-01-17 05:07:23  2 min 25.132 sec  36809 obs/sec     10.0049   48            4.79784e+06  19.2774          371.617              11.7628         0.583896       42.5235            1808.25                11.9662           0.237561\n",
      "\n",
      "Variable Importances: \n",
      "variable         relative_importance    scaled_importance    percentage\n",
      "---------------  ---------------------  -------------------  ------------\n",
      "pressure         1                      1                    0.243528\n",
      "wind_speed       0.498591               0.498591             0.121421\n",
      "County_Code_num  0.348341               0.348341             0.0848309\n",
      "temp             0.314878               0.314878             0.0766816\n",
      "wind_direction   0.29785                0.29785              0.072535\n",
      "State_Code_num   0.291372               0.291372             0.0709573\n",
      "humidity         0.261999               0.261999             0.0638041\n",
      "year             0.246476               0.246476             0.0600239\n",
      "month            0.241843               0.241843             0.0588956\n",
      "prev1_AQI        0.198583               0.198583             0.0483605\n",
      "prev2_AQI        0.121962               0.121962             0.0297012\n",
      "prev3_AQI        0.110054               0.110054             0.0268012\n",
      "dow              0.0912813              0.0912813            0.0222296\n",
      "day              0.0830696              0.0830696            0.0202298"
     ]
    }
   ],
   "source": [
    "model_dl_lag3"
   ]
  },
  {
   "cell_type": "code",
   "execution_count": 119,
   "metadata": {},
   "outputs": [
    {
     "data": {
      "application/vnd.jupyter.widget-view+json": {
       "model_id": "f4b946496bb94b44a6b3f00b2011650f",
       "version_major": 2,
       "version_minor": 0
      },
      "text/plain": [
       "VBox()"
      ]
     },
     "metadata": {},
     "output_type": "display_data"
    },
    {
     "data": {
      "application/vnd.jupyter.widget-view+json": {
       "model_id": "",
       "version_major": 2,
       "version_minor": 0
      },
      "text/plain": [
       "FloatProgress(value=0.0, bar_style='info', description='Progress:', layout=Layout(height='25px', width='50%'),…"
      ]
     },
     "metadata": {},
     "output_type": "display_data"
    },
    {
     "name": "stdout",
     "output_type": "stream",
     "text": [
      "  State_Code_num    County_Code_num    year    month    day    dow     temp    humidity    pressure    wind_speed    wind_direction    prev1_AQI    prev2_AQI    prev3_AQI    label\n",
      "----------------  -----------------  ------  -------  -----  -----  -------  ----------  ----------  ------------  ----------------  -----------  -----------  -----------  -------\n",
      "               6                 37    2007        1      5      6  51.5469     22.7708     483.673       6.64931           203.513           65           67           81       44\n",
      "               6                 37    2007        1      6      7  50.724      32.0764     486.444       3.23009           166.474           44           65           67       82\n",
      "               6                 37    2007        1     10      4  56.2813     52.9306     479.548       2.45011           155.993           87           70           66      102\n",
      "               6                 37    2007        1     11      5  51.6354     69.6806     477.55        3.725             151.074          102           87           70       52\n",
      "               6                 37    2007        1     13      7  40.724      20.2569     483.302       3.70288           159.571           72           52          102       49\n",
      "               6                 37    2007        1     17      4  43.3281     52.8611     482.067       2.83632           131.838           82           90           69       69\n",
      "               6                 37    2007        1     18      5  50.2708     35.8819     483.277       3.2875            162.721           69           82           90       85\n",
      "               6                 37    2007        1     20      7  49.8073     61.0417     480.656       3.01716           155.613           77           85           69       56\n",
      "               6                 37    2007        1     21      1  50.6562     52.9097     482.498       3.27369           158.272           56           77           85       68\n",
      "               6                 37    2007        1     24      4  55.5573     48.2222     484.475       2.4705            163.185          102           80           68       97\n",
      "\n",
      "[567 rows x 15 columns]"
     ]
    }
   ],
   "source": [
    "## performance on LA\n",
    "data1_lag3_test_la = data1_lag3_test[(data1_lag3_test['State_Code_num']==6)&(data1_lag3_test['County_Code_num']==37),:]\n",
    "data1_lag3_test_la"
   ]
  },
  {
   "cell_type": "code",
   "execution_count": 121,
   "metadata": {},
   "outputs": [
    {
     "data": {
      "application/vnd.jupyter.widget-view+json": {
       "model_id": "39125507f3354855860bc908d8ab665a",
       "version_major": 2,
       "version_minor": 0
      },
      "text/plain": [
       "VBox()"
      ]
     },
     "metadata": {},
     "output_type": "display_data"
    },
    {
     "data": {
      "application/vnd.jupyter.widget-view+json": {
       "model_id": "",
       "version_major": 2,
       "version_minor": 0
      },
      "text/plain": [
       "FloatProgress(value=0.0, bar_style='info', description='Progress:', layout=Layout(height='25px', width='50%'),…"
      ]
     },
     "metadata": {},
     "output_type": "display_data"
    },
    {
     "name": "stdout",
     "output_type": "stream",
     "text": [
      "deeplearning Model Build progress: [######################################] 100%"
     ]
    }
   ],
   "source": [
    "model_dl_lag3_la = H2ODeepLearningEstimator(variable_importances=True,\n",
    "                                    loss=\"Automatic\")\n",
    "\n",
    "model_dl_lag3_la.train(x=predictors,\n",
    "               y=response,\n",
    "               training_frame=data1_lag3_train,\n",
    "               validation_frame=data1_lag3_test_la)"
   ]
  },
  {
   "cell_type": "code",
   "execution_count": 122,
   "metadata": {},
   "outputs": [
    {
     "data": {
      "application/vnd.jupyter.widget-view+json": {
       "model_id": "db9eb9017a934193be07ecf8eb6b9242",
       "version_major": 2,
       "version_minor": 0
      },
      "text/plain": [
       "VBox()"
      ]
     },
     "metadata": {},
     "output_type": "display_data"
    },
    {
     "data": {
      "application/vnd.jupyter.widget-view+json": {
       "model_id": "",
       "version_major": 2,
       "version_minor": 0
      },
      "text/plain": [
       "FloatProgress(value=0.0, bar_style='info', description='Progress:', layout=Layout(height='25px', width='50%'),…"
      ]
     },
     "metadata": {},
     "output_type": "display_data"
    },
    {
     "name": "stdout",
     "output_type": "stream",
     "text": [
      "Model Details\n",
      "=============\n",
      "H2ODeepLearningEstimator :  Deep Learning\n",
      "Model Key:  DeepLearning_model_python_1579233806610_3\n",
      "\n",
      "\n",
      "Status of Neuron Layers: predicting label, regression, gaussian distribution, Quadratic loss, 43,401 weights/biases, 521.7 KB, 3,099,437 training samples, mini-batch size 1\n",
      "    layer    units    type       dropout    l1    l2    mean_rate              rate_rms               momentum    mean_weight           weight_rms          mean_bias           bias_rms\n",
      "--  -------  -------  ---------  ---------  ----  ----  ---------------------  ---------------------  ----------  --------------------  ------------------  ------------------  -----------------------\n",
      "    1        14       Input      0.0\n",
      "    2        200      Rectifier  0.0        0.0   0.0   0.01128955671892202    0.026477627456188202   0.0         0.011851654942431813  0.338104248046875   0.3200264209836081  0.2297118902206421\n",
      "    3        200      Rectifier  0.0        0.0   0.0   0.05180659398104541    0.08135521411895752    0.0         -0.03842404674835629  0.1038893461227417  0.9008756188421704  0.14232486486434937\n",
      "    4        1        Linear                0.0   0.0   0.0006352023712642563  0.0006001356523483992  0.0         0.01823515094895811   0.0770573616027832  0.6629111018787198  1.0971281125650402e-154\n",
      "\n",
      "\n",
      "ModelMetricsRegression: deeplearning\n",
      "** Reported on train data. **\n",
      "\n",
      "MSE: 363.72400675593934\n",
      "RMSE: 19.071549668444337\n",
      "MAE: 12.522778425403933\n",
      "RMSLE: NaN\n",
      "Mean Residual Deviance: 363.72400675593934\n",
      "\n",
      "ModelMetricsRegression: deeplearning\n",
      "** Reported on validation data. **\n",
      "\n",
      "MSE: 556.8270038999956\n",
      "RMSE: 23.59718211778677\n",
      "MAE: 17.11483008352095\n",
      "RMSLE: 0.24433536688113724\n",
      "Mean Residual Deviance: 556.8270038999956\n",
      "\n",
      "Scoring History: \n",
      "    timestamp            duration          training_speed    epochs    iterations    samples      training_rmse    training_deviance    training_mae    training_r2    validation_rmse    validation_deviance    validation_mae    validation_r2\n",
      "--  -------------------  ----------------  ----------------  --------  ------------  -----------  ---------------  -------------------  --------------  -------------  -----------------  ---------------------  ----------------  ---------------\n",
      "    2020-01-17 05:41:56  0.000 sec                           0         0             0            nan              nan                  nan             nan            nan                nan                    nan               nan\n",
      "    2020-01-17 05:42:01  4.780 sec         21804 obs/sec     0.208568  1             100019       21.5564          464.679              13.9391         0.467321       32.241             1039.48                22.6228           0.327995\n",
      "    2020-01-17 05:42:07  11.296 sec        27260 obs/sec     0.624338  3             299402       19.8717          394.884              12.8179         0.547329       27.2422            742.14                 18.8172           0.52022\n",
      "    2020-01-17 05:42:13  17.259 sec        29680 obs/sec     1.04127   5             499341       19.4809          379.505              12.1793         0.564959       26.797             718.078                18.5233           0.535776\n",
      "    2020-01-17 05:42:19  23.000 sec        31168 obs/sec     1.45659   7             698509       19.8522          394.109              12.313          0.548218       24.9723            623.615                17.4367           0.596844\n",
      "    2020-01-17 05:42:25  28.864 sec        31923 obs/sec     1.87325   9             898318       20.5981          424.28               13.2649         0.513632       24.9174            620.878                17.7669           0.598614\n",
      "    2020-01-17 05:42:30  34.319 sec        32798 obs/sec     2.2894    11            1.09788e+06  19.3424          374.129              13.1716         0.571122       24.0282            577.356                17.1906           0.62675\n",
      "    2020-01-17 05:42:36  39.720 sec        33474 obs/sec     2.70528   13            1.29732e+06  19.0963          364.671              12.5879         0.581964       26.7702            716.642                18.8153           0.536704\n",
      "    2020-01-17 05:42:41  45.043 sec        34071 obs/sec     3.12286   15            1.49757e+06  19.0715          363.724              12.5228         0.583049       23.5972            556.827                17.1148           0.640022\n",
      "    2020-01-17 05:42:46  50.241 sec        34633 obs/sec     3.54102   17            1.6981e+06   19.8324          393.326              12.5805         0.549116       24.3816            594.463                18.8182           0.615691\n",
      "    2020-01-17 05:42:51  55.436 sec        35095 obs/sec     3.95973   19            1.89889e+06  18.9286          358.291              12.34           0.589278       24.4861            599.571                17.4078           0.612389\n",
      "    2020-01-17 05:42:57  1 min  0.604 sec  35503 obs/sec     4.37682   21            2.09891e+06  19.5759          383.216              12.3195         0.560705       31.358             983.325                21.8034           0.364299\n",
      "    2020-01-17 05:43:02  1 min  5.870 sec  35779 obs/sec     4.79474   23            2.29932e+06  19.1214          365.627              12.554          0.580868       26.4074            697.352                18.4316           0.549175\n",
      "    2020-01-17 05:43:09  1 min 13.232 sec  36350 obs/sec     5.42007   26            2.5992e+06   19.6932          387.822              12.6134         0.555425       29.6103            876.773                20.5152           0.433183\n",
      "    2020-01-17 05:43:17  1 min 20.710 sec  36770 obs/sec     6.04631   29            2.89951e+06  18.892           356.906              11.9638         0.590865       23.7457            563.857                16.8715           0.635477\n",
      "    2020-01-17 05:43:22  1 min 26.222 sec  36819 obs/sec     6.46321   31            3.09944e+06  19.5323          381.51               12.2423         0.562661       31.8501            1014.43                21.7849           0.344192\n",
      "    2020-01-17 05:43:22  1 min 26.458 sec  36815 obs/sec     6.46321   31            3.09944e+06  19.0715          363.724              12.5228         0.583049       23.5972            556.827                17.1148           0.640022\n",
      "\n",
      "Variable Importances: \n",
      "variable         relative_importance    scaled_importance    percentage\n",
      "---------------  ---------------------  -------------------  ------------\n",
      "pressure         1                      1                    0.198163\n",
      "wind_speed       0.639225               0.639225             0.12667\n",
      "temp             0.435239               0.435239             0.086248\n",
      "wind_direction   0.420442               0.420442             0.0833159\n",
      "humidity         0.403632               0.403632             0.0799847\n",
      "County_Code_num  0.371524               0.371524             0.0736222\n",
      "State_Code_num   0.358378               0.358378             0.0710171\n",
      "month            0.296963               0.296963             0.058847\n",
      "prev1_AQI        0.283534               0.283534             0.0561859\n",
      "year             0.278079               0.278079             0.0551048\n",
      "dow              0.151587               0.151587             0.0300388\n",
      "prev3_AQI        0.149983               0.149983             0.029721\n",
      "prev2_AQI        0.145994               0.145994             0.0289305\n",
      "day              0.111782               0.111782             0.0221511"
     ]
    }
   ],
   "source": [
    "model_dl_lag3_la"
   ]
  },
  {
   "cell_type": "code",
   "execution_count": 123,
   "metadata": {},
   "outputs": [
    {
     "data": {
      "application/vnd.jupyter.widget-view+json": {
       "model_id": "9751bc51aa564e28a25456bb66051b23",
       "version_major": 2,
       "version_minor": 0
      },
      "text/plain": [
       "VBox()"
      ]
     },
     "metadata": {},
     "output_type": "display_data"
    },
    {
     "data": {
      "application/vnd.jupyter.widget-view+json": {
       "model_id": "",
       "version_major": 2,
       "version_minor": 0
      },
      "text/plain": [
       "FloatProgress(value=0.0, bar_style='info', description='Progress:', layout=Layout(height='25px', width='50%'),…"
      ]
     },
     "metadata": {},
     "output_type": "display_data"
    },
    {
     "name": "stdout",
     "output_type": "stream",
     "text": [
      "[('pressure', 1.0, 1.0, 0.24352833540789529), ('wind_speed', 0.49859076738357544, 0.49859076738357544, 0.12142097963066727), ('County_Code_num', 0.3483409583568573, 0.3483409583568573, 0.08483089374303643), ('temp', 0.31487762928009033, 0.31487762928009033, 0.07668162491576475), ('wind_direction', 0.2978503108024597, 0.2978503108024597, 0.07253499039044727), ('State_Code_num', 0.2913719117641449, 0.2913719117641449, 0.07095731665653836), ('humidity', 0.26199865341186523, 0.26199865341186523, 0.06380409594450162), ('year', 0.24647609889507294, 0.24647609889507294, 0.06002391408174889), ('month', 0.24184292554855347, 0.24184292554855347, 0.05889560508901478), ('prev1_AQI', 0.19858261942863464, 0.19858261942863464, 0.048360494750394965), ('prev2_AQI', 0.12196200340986252, 0.12196200340986252, 0.029701203673415867), ('prev3_AQI', 0.11005360633134842, 0.11005360633134842, 0.026801171555509085), ('dow', 0.09128127247095108, 0.09128127247095108, 0.022229576338765253), ('day', 0.0830695852637291, 0.0830695852637291, 0.020229797822300177)]"
     ]
    }
   ],
   "source": [
    "model_dl_lag3.varimp(use_pandas=True)"
   ]
  },
  {
   "cell_type": "markdown",
   "metadata": {},
   "source": [
    "## AUTOML:\n",
    "- too time consuming"
   ]
  },
  {
   "cell_type": "code",
   "execution_count": 43,
   "metadata": {},
   "outputs": [
    {
     "data": {
      "application/vnd.jupyter.widget-view+json": {
       "model_id": "e47251555c16413abba6ff722eae8c4a",
       "version_major": 2,
       "version_minor": 0
      },
      "text/plain": [
       "VBox()"
      ]
     },
     "metadata": {},
     "output_type": "display_data"
    },
    {
     "data": {
      "application/vnd.jupyter.widget-view+json": {
       "model_id": "",
       "version_major": 2,
       "version_minor": 0
      },
      "text/plain": [
       "FloatProgress(value=0.0, bar_style='info', description='Progress:', layout=Layout(height='25px', width='50%'),…"
      ]
     },
     "metadata": {},
     "output_type": "display_data"
    },
    {
     "name": "stdout",
     "output_type": "stream",
     "text": [
      "Parse progress: [#########################################################] 100%"
     ]
    }
   ],
   "source": [
    "data1_lag_h2o = h2o.import_file(\"s3a://dc-group2/data1_lag.csv\")\n",
    "\n",
    "data1_lag_h2o.set_names(['State_Code_num', 'County_Code_num', 'year', 'month',\n",
    "                         'day', 'dow', 'temp', 'humidity', 'pressure', 'wind_speed',\n",
    "                         'wind_direction', 'prev_AQI', 'label'])\n",
    "\n",
    "data1_lag_train, data1_lag_test = data1_lag_h2o.split_frame(ratios = [.8], seed = 1)\n",
    "\n",
    "predictors = data1_lag_train.names[:]\n",
    "response = \"label\"\n",
    "predictors.remove(response)\n"
   ]
  },
  {
   "cell_type": "code",
   "execution_count": 44,
   "metadata": {},
   "outputs": [
    {
     "data": {
      "application/vnd.jupyter.widget-view+json": {
       "model_id": "eaa103509a684d8caaf325c338aebbf5",
       "version_major": 2,
       "version_minor": 0
      },
      "text/plain": [
       "VBox()"
      ]
     },
     "metadata": {},
     "output_type": "display_data"
    },
    {
     "data": {
      "application/vnd.jupyter.widget-view+json": {
       "model_id": "",
       "version_major": 2,
       "version_minor": 0
      },
      "text/plain": [
       "FloatProgress(value=0.0, bar_style='info', description='Progress:', layout=Layout(height='25px', width='50%'),…"
      ]
     },
     "metadata": {},
     "output_type": "display_data"
    },
    {
     "name": "stdout",
     "output_type": "stream",
     "text": [
      "AutoML progress: [########################################################] 100%"
     ]
    }
   ],
   "source": [
    "from h2o.automl import H2OAutoML\n",
    "model_automl = H2OAutoML(max_runtime_secs = 900, seed = 1, nfolds = 3) # seed : Set a seed for reproducibility\n",
    "model_automl.train(x=predictors,\n",
    "                y=response,\n",
    "                training_frame=data1_lag_train)"
   ]
  },
  {
   "cell_type": "code",
   "execution_count": 45,
   "metadata": {},
   "outputs": [
    {
     "data": {
      "application/vnd.jupyter.widget-view+json": {
       "model_id": "0313d86821fe4da59ae62f43e9149d99",
       "version_major": 2,
       "version_minor": 0
      },
      "text/plain": [
       "VBox()"
      ]
     },
     "metadata": {},
     "output_type": "display_data"
    },
    {
     "data": {
      "application/vnd.jupyter.widget-view+json": {
       "model_id": "",
       "version_major": 2,
       "version_minor": 0
      },
      "text/plain": [
       "FloatProgress(value=0.0, bar_style='info', description='Progress:', layout=Layout(height='25px', width='50%'),…"
      ]
     },
     "metadata": {},
     "output_type": "display_data"
    },
    {
     "name": "stdout",
     "output_type": "stream",
     "text": [
      "model_id                            mean_residual_deviance     rmse      mse      mae    rmsle\n",
      "--------------------------------  ------------------------  -------  -------  -------  -------\n",
      "XGBoost_1_AutoML_20200117_040500                   735.284  27.1161  735.284  10.9672      nan\n",
      "\n",
      "[1 row x 6 columns]"
     ]
    }
   ],
   "source": [
    "model_automl.leaderboard"
   ]
  },
  {
   "cell_type": "code",
   "execution_count": 46,
   "metadata": {},
   "outputs": [
    {
     "data": {
      "application/vnd.jupyter.widget-view+json": {
       "model_id": "bb0f9b97ecbd4bce84e66491b0d0b2ca",
       "version_major": 2,
       "version_minor": 0
      },
      "text/plain": [
       "VBox()"
      ]
     },
     "metadata": {},
     "output_type": "display_data"
    },
    {
     "data": {
      "application/vnd.jupyter.widget-view+json": {
       "model_id": "",
       "version_major": 2,
       "version_minor": 0
      },
      "text/plain": [
       "FloatProgress(value=0.0, bar_style='info', description='Progress:', layout=Layout(height='25px', width='50%'),…"
      ]
     },
     "metadata": {},
     "output_type": "display_data"
    },
    {
     "name": "stdout",
     "output_type": "stream",
     "text": [
      "AutoML progress: [########################################################] 100%"
     ]
    }
   ],
   "source": [
    "\n",
    "model_automl2 = H2OAutoML(max_runtime_secs = 900, seed = 1) # seed : Set a seed for reproducibility\n",
    "model_automl2.train(x=predictors,\n",
    "                y=response,\n",
    "                training_frame=data1_lag_train)"
   ]
  },
  {
   "cell_type": "code",
   "execution_count": 47,
   "metadata": {},
   "outputs": [
    {
     "data": {
      "application/vnd.jupyter.widget-view+json": {
       "model_id": "3785865f6f87408b8c059490ff55b838",
       "version_major": 2,
       "version_minor": 0
      },
      "text/plain": [
       "VBox()"
      ]
     },
     "metadata": {},
     "output_type": "display_data"
    },
    {
     "data": {
      "application/vnd.jupyter.widget-view+json": {
       "model_id": "",
       "version_major": 2,
       "version_minor": 0
      },
      "text/plain": [
       "FloatProgress(value=0.0, bar_style='info', description='Progress:', layout=Layout(height='25px', width='50%'),…"
      ]
     },
     "metadata": {},
     "output_type": "display_data"
    },
    {
     "name": "stdout",
     "output_type": "stream",
     "text": [
      "model_id                            mean_residual_deviance     rmse      mse      mae    rmsle\n",
      "--------------------------------  ------------------------  -------  -------  -------  -------\n",
      "XGBoost_1_AutoML_20200117_042119                   716.675  26.7708  716.675  10.9654      nan\n",
      "\n",
      "[1 row x 6 columns]"
     ]
    }
   ],
   "source": [
    "model_automl2.leaderboard"
   ]
  },
  {
   "cell_type": "code",
   "execution_count": null,
   "metadata": {},
   "outputs": [],
   "source": []
  },
  {
   "cell_type": "code",
   "execution_count": null,
   "metadata": {},
   "outputs": [],
   "source": []
  }
 ],
 "metadata": {
  "kernelspec": {
   "display_name": "PySpark",
   "language": "",
   "name": "pysparkkernel"
  },
  "language_info": {
   "codemirror_mode": {
    "name": "python",
    "version": 2
   },
   "mimetype": "text/x-python",
   "name": "pyspark",
   "pygments_lexer": "python2"
  }
 },
 "nbformat": 4,
 "nbformat_minor": 2
}
