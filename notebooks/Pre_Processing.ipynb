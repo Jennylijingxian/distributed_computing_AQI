{
 "cells": [
  {
   "cell_type": "code",
   "execution_count": null,
   "metadata": {
    "scrolled": false
   },
   "outputs": [
    {
     "data": {
      "application/vnd.jupyter.widget-view+json": {
       "model_id": "8108fb68219640d2af28f36a037ac1ad",
       "version_major": 2,
       "version_minor": 0
      },
      "text/plain": [
       "VBox()"
      ]
     },
     "metadata": {},
     "output_type": "display_data"
    },
    {
     "name": "stdout",
     "output_type": "stream",
     "text": [
      "Starting Spark application\n"
     ]
    },
    {
     "data": {
      "text/html": [
       "<table>\n",
       "<tr><th>ID</th><th>YARN Application ID</th><th>Kind</th><th>State</th><th>Spark UI</th><th>Driver log</th><th>Current session?</th></tr><tr><td>8</td><td>application_1579220448498_0009</td><td>pyspark</td><td>idle</td><td><a target=\"_blank\" href=\"http://ip-172-31-9-68.us-west-1.compute.internal:20888/proxy/application_1579220448498_0009/\">Link</a></td><td><a target=\"_blank\" href=\"http://ip-172-31-9-33.us-west-1.compute.internal:8042/node/containerlogs/container_1579220448498_0009_01_000001/livy\">Link</a></td><td>✔</td></tr></table>"
      ],
      "text/plain": [
       "<IPython.core.display.HTML object>"
      ]
     },
     "metadata": {},
     "output_type": "display_data"
    },
    {
     "data": {
      "application/vnd.jupyter.widget-view+json": {
       "model_id": "2ca2546e0a5d48e7a299d179ba4589da",
       "version_major": 2,
       "version_minor": 0
      },
      "text/plain": [
       "FloatProgress(value=0.0, bar_style='info', description='Progress:', layout=Layout(height='25px', width='50%'),…"
      ]
     },
     "metadata": {},
     "output_type": "display_data"
    }
   ],
   "source": [
    "sc"
   ]
  },
  {
   "cell_type": "code",
   "execution_count": null,
   "metadata": {},
   "outputs": [],
   "source": [
    "import time"
   ]
  },
  {
   "cell_type": "code",
   "execution_count": null,
   "metadata": {},
   "outputs": [],
   "source": [
    "start = time.time()"
   ]
  },
  {
   "cell_type": "code",
   "execution_count": null,
   "metadata": {},
   "outputs": [],
   "source": [
    "from pyspark import SparkContext\n",
    "from pyspark.sql import SparkSession\n",
    "\n",
    "import datetime\n",
    "from pyspark.sql.functions import *\n",
    "from pyspark.sql.functions import year, month, dayofmonth,dayofweek\n",
    "from pyspark.sql.window import Window\n",
    "\n",
    "ss = SparkSession.builder.getOrCreate()"
   ]
  },
  {
   "cell_type": "code",
   "execution_count": null,
   "metadata": {},
   "outputs": [],
   "source": [
    "aqi_df = ss.read.format(\"csv\").option(\"header\", \"true\").load(\n",
    "                \"s3a://dc-group2/aqi_year_countycode/combined_aqi.csv\")"
   ]
  },
  {
   "cell_type": "code",
   "execution_count": null,
   "metadata": {},
   "outputs": [],
   "source": [
    "temp_df = ss.read.format(\"csv\").option(\"header\", \"true\").load(\n",
    "                \"s3a://dc-group2/aqi_year_countycode/combined_csv_temp.csv\")"
   ]
  },
  {
   "cell_type": "code",
   "execution_count": null,
   "metadata": {
    "scrolled": true
   },
   "outputs": [],
   "source": [
    "humidity_df = ss.read.format(\"csv\").option(\"header\", \"true\").load(\n",
    "    \"s3a://dc-group2/aqi_year_countycode/combined_csv_RH&Dewpoint.csv\")"
   ]
  },
  {
   "cell_type": "code",
   "execution_count": null,
   "metadata": {},
   "outputs": [],
   "source": [
    "wind_df = ss.read.format(\"csv\").option(\"header\", \"true\").load(\n",
    "                \"s3a://dc-group2/aqi_year_countycode/combined_csv_wind.csv\")"
   ]
  },
  {
   "cell_type": "code",
   "execution_count": null,
   "metadata": {},
   "outputs": [],
   "source": [
    "pressure_df = ss.read.format(\"csv\").option(\"header\", \"true\").load(\n",
    "                \"s3a://dc-group2/aqi_year_countycode/combined_csv_pressure.csv\")"
   ]
  },
  {
   "cell_type": "code",
   "execution_count": null,
   "metadata": {},
   "outputs": [],
   "source": [
    "aqi_df = aqi_df.withColumn(\"AQI_num\", aqi_df['AQI'].astype('float'))"
   ]
  },
  {
   "cell_type": "code",
   "execution_count": null,
   "metadata": {},
   "outputs": [],
   "source": [
    "aqi_df = aqi_df.drop(\"Defining Site\", \"Number of Si.tes Reporting\",\n",
    "                    \"Defining Parameter\", \"Category\")\\\n",
    "                .groupBy([\"State Name\", \"County Name\", \\\n",
    "                            \"State Code\", \"County Code\",\"Date Local\"])\\\n",
    "                        .avg()"
   ]
  },
  {
   "cell_type": "code",
   "execution_count": null,
   "metadata": {},
   "outputs": [],
   "source": [
    "temp_df = temp_df.withColumn(\"temp\", temp_df[\"Arithmetic Mean\"].astype(\"float\"))"
   ]
  },
  {
   "cell_type": "code",
   "execution_count": null,
   "metadata": {},
   "outputs": [],
   "source": [
    "temp_df = temp_df.groupBy([\"State Name\", \"County Name\", \\\n",
    "                            \"State Code\", \"County Code\",\"Date Local\"])\\\n",
    "                        .avg(\"temp\")"
   ]
  },
  {
   "cell_type": "code",
   "execution_count": null,
   "metadata": {},
   "outputs": [],
   "source": [
    "pressure_df = pressure_df.withColumn(\"pressure\", pressure_df[\"Arithmetic Mean\"].astype(\"float\"))"
   ]
  },
  {
   "cell_type": "code",
   "execution_count": null,
   "metadata": {},
   "outputs": [],
   "source": [
    "pressure_df = pressure_df.groupBy([\"State Name\", \"County Name\", \\\n",
    "                            \"State Code\", \"County Code\",\"Date Local\"])\\\n",
    "                        .avg(\"pressure\")"
   ]
  },
  {
   "cell_type": "code",
   "execution_count": null,
   "metadata": {},
   "outputs": [],
   "source": [
    "humidity_df = humidity_df.withColumn(\"humidity\", humidity_df[\"Arithmetic Mean\"].astype(\"float\"))"
   ]
  },
  {
   "cell_type": "code",
   "execution_count": null,
   "metadata": {},
   "outputs": [],
   "source": [
    "humidity_df = humidity_df.withColumnRenamed(\"Parameter Name\", \"Parameter_Name\")\\\n",
    "                        .where(\"Parameter_Name == 'Relative Humidity '\")"
   ]
  },
  {
   "cell_type": "code",
   "execution_count": null,
   "metadata": {},
   "outputs": [],
   "source": [
    "humidity_df = humidity_df.groupBy([\"State Name\", \"County Name\", \\\n",
    "                            \"State Code\", \"County Code\",\"Date Local\"])\\\n",
    "                        .avg(\"humidity\")"
   ]
  },
  {
   "cell_type": "code",
   "execution_count": null,
   "metadata": {},
   "outputs": [],
   "source": [
    "wind_speed_df = wind_df.withColumn(\"wind_speed\", wind_df[\"Arithmetic Mean\"].astype(\"float\"))\\\n",
    "                .withColumnRenamed(\"Parameter Name\", \"Parameter_Name\")\\\n",
    "                        .where(\"Parameter_Name == 'Wind Speed - Resultant'\")"
   ]
  },
  {
   "cell_type": "code",
   "execution_count": null,
   "metadata": {},
   "outputs": [],
   "source": [
    "wind_speed_df = wind_speed_df.groupBy([\"State Name\", \"County Name\", \\\n",
    "                            \"State Code\", \"County Code\",\"Date Local\"])\\\n",
    "                        .avg(\"wind_speed\")"
   ]
  },
  {
   "cell_type": "code",
   "execution_count": null,
   "metadata": {},
   "outputs": [],
   "source": [
    "wind_direction_df = wind_df.withColumn(\"wind_direction\", wind_df[\"Arithmetic Mean\"].astype(\"float\"))\\\n",
    "                .withColumnRenamed(\"Parameter Name\", \"Parameter_Name\")\\\n",
    "                        .where(\"Parameter_Name == 'Wind Direction - Resultant'\")"
   ]
  },
  {
   "cell_type": "code",
   "execution_count": null,
   "metadata": {},
   "outputs": [],
   "source": [
    "wind_direction_df = wind_direction_df.groupBy([\"State Name\", \"County Name\", \\\n",
    "                            \"State Code\", \"County Code\",\"Date Local\"])\\\n",
    "                        .avg(\"wind_direction\")"
   ]
  },
  {
   "cell_type": "code",
   "execution_count": null,
   "metadata": {},
   "outputs": [],
   "source": [
    "join1 = aqi_df.join(temp_df, [\"State Name\", \"County Name\", \"State Code\", \"County Code\",\"Date Local\"], \"left_outer\")"
   ]
  },
  {
   "cell_type": "code",
   "execution_count": null,
   "metadata": {},
   "outputs": [],
   "source": [
    "join2 = join1.join(humidity_df, [\"State Name\", \"County Name\", \"State Code\", \"County Code\",\"Date Local\"], \"left_outer\")"
   ]
  },
  {
   "cell_type": "code",
   "execution_count": null,
   "metadata": {},
   "outputs": [],
   "source": [
    "join3 = join2.join(pressure_df, [\"State Name\", \"County Name\", \"State Code\", \"County Code\",\"Date Local\"], \"left_outer\")"
   ]
  },
  {
   "cell_type": "code",
   "execution_count": null,
   "metadata": {},
   "outputs": [],
   "source": [
    "join4 = join3.join(wind_speed_df, [\"State Name\", \"County Name\", \"State Code\", \"County Code\",\"Date Local\"],\n",
    "                    \"left_outer\")"
   ]
  },
  {
   "cell_type": "code",
   "execution_count": null,
   "metadata": {},
   "outputs": [],
   "source": [
    "join_final = join4.join(wind_direction_df, [\"State Name\", \"County Name\", \"State Code\", \"County Code\",\"Date Local\"],\n",
    "                    \"left_outer\")"
   ]
  },
  {
   "cell_type": "code",
   "execution_count": null,
   "metadata": {},
   "outputs": [],
   "source": [
    "join_final.count()"
   ]
  },
  {
   "cell_type": "code",
   "execution_count": null,
   "metadata": {},
   "outputs": [],
   "source": [
    "original_name = ['State Name', 'County Name', 'State Code'\n",
    "                 , 'County Code', 'Date Local', 'avg(AQI_num)'\n",
    "                 , 'avg(temp)', 'avg(humidity)', 'avg(pressure)'\n",
    "                 , 'avg(wind_speed)', 'avg(wind_direction)']\n",
    "new_name = ['State_Name', 'County_Name', 'State_Code'\n",
    "            , 'County_Code', 'Date_Local', 'AQI'\n",
    "            , 'temp', 'humidity', 'pressure'\n",
    "            , 'wind_speed', 'wind_direction']\n",
    "for i in range(len(original_name)):\n",
    "    join_final = join_final.withColumnRenamed(original_name[i],new_name[i])"
   ]
  },
  {
   "cell_type": "code",
   "execution_count": null,
   "metadata": {},
   "outputs": [],
   "source": [
    "# join_final.write\\\n",
    "#     .option(\"path\", \"s3a://dc-group2/leona_left\")\\\n",
    "#     .saveAsTable(\"leona_left\")\n",
    "data_left = ss.read.parquet(\"s3a://dc-group2/leona_left\")\n",
    "data_left = data_left.withColumn(\"Date\", data_left['Date_Local'].astype('Date'))\n",
    "data_left = data_left.withColumn(\"State_Code_num\"\n",
    "                                 , data_left['State_Code'].astype('integer'))\n",
    "data_left = data_left.withColumn(\"County_Code_num\"\n",
    "                                 , data_left['County_Code'].astype('integer'))\n",
    "\n",
    "data_left = data_left.select('State_Name',\n",
    "                               'County_Name',\n",
    "                               'State_Code_num',\n",
    "                               'County_Code_num',\n",
    "                               'Date',\n",
    "                                year(\"Date\").alias('year'),\n",
    "                               month(\"Date\").alias('month'),\n",
    "                               dayofmonth(\"Date\").alias('day'),\n",
    "                               dayofweek('Date').alias('dow'),\n",
    "                               'temp',\n",
    "                               'humidity',\n",
    "                               'pressure',\n",
    "                               'wind_speed',\n",
    "                               'wind_direction',\n",
    "                               'AQI'\n",
    "                              )"
   ]
  },
  {
   "cell_type": "code",
   "execution_count": null,
   "metadata": {},
   "outputs": [],
   "source": [
    "LA_left = data_left.where(\"State_Code_num == 6 and County_Code_num == 37\" )\n",
    "\n",
    "imputer  = feature.Imputer(inputCols = ['temp', 'humidity', 'pressure'\n",
    "                                        , 'wind_speed', 'wind_direction']\n",
    "                           ,outputCols=['imputed_temp', 'imputed_humidity'\n",
    "                                        , 'imputed_pressure', 'imputed_wind_speed'\n",
    "                                        , 'imputed_wind_direction'])\n",
    "\n",
    "LA_left_imputed = imputer.setStrategy('median').fit(LA_left).transform(LA_left)\n",
    "LA_left_imputed = LA_left_imputed.drop('temp', 'humidity', 'pressure'\n",
    "                                        , 'wind_speed', 'wind_direction')\n",
    "LA_left_imputed = LA_left_imputed.orderBy('Date')\n",
    "LA_left_imputed = LA_left_imputed.withColumnRenamed('AQI','label')"
   ]
  },
  {
   "cell_type": "code",
   "execution_count": null,
   "metadata": {},
   "outputs": [],
   "source": [
    "def add_lag(df, n):\n",
    "    for i in range(1,n+1):\n",
    "        df = df.withColumn('prev'+str(i), lag(\"label\", i).over(Window.partitionBy(\n",
    "                                    'State_Code_num','County_Code_num')\\\n",
    "                                                     .orderBy('Date')))\n",
    "    return df\n",
    "LA_left_lag30 = add_lag(LA_left_imputed,30)"
   ]
  },
  {
   "cell_type": "code",
   "execution_count": null,
   "metadata": {},
   "outputs": [],
   "source": [
    "end = time.time()\n",
    "gap = start-end\n",
    "print(gap)"
   ]
  }
 ],
 "metadata": {
  "kernelspec": {
   "display_name": "PySpark",
   "language": "",
   "name": "pysparkkernel"
  },
  "language_info": {
   "codemirror_mode": {
    "name": "python",
    "version": 2
   },
   "mimetype": "text/x-python",
   "name": "pyspark",
   "pygments_lexer": "python2"
  }
 },
 "nbformat": 4,
 "nbformat_minor": 2
}
