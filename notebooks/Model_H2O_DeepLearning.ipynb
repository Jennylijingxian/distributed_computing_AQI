{
 "cells": [
  {
   "cell_type": "code",
   "execution_count": 1,
   "metadata": {
    "scrolled": false
   },
   "outputs": [
    {
     "data": {
      "application/vnd.jupyter.widget-view+json": {
       "model_id": "eaad3917265d487cb31244e82fc5f180",
       "version_major": 2,
       "version_minor": 0
      },
      "text/plain": [
       "VBox()"
      ]
     },
     "metadata": {},
     "output_type": "display_data"
    },
    {
     "name": "stdout",
     "output_type": "stream",
     "text": [
      "Starting Spark application\n"
     ]
    },
    {
     "data": {
      "text/html": [
       "<table>\n",
       "<tr><th>ID</th><th>YARN Application ID</th><th>Kind</th><th>State</th><th>Spark UI</th><th>Driver log</th><th>Current session?</th></tr><tr><td>0</td><td>application_1579226456623_0001</td><td>pyspark</td><td>idle</td><td><a target=\"_blank\" href=\"http://ip-172-31-8-157.us-west-2.compute.internal:20888/proxy/application_1579226456623_0001/\">Link</a></td><td><a target=\"_blank\" href=\"http://ip-172-31-4-172.us-west-2.compute.internal:8042/node/containerlogs/container_1579226456623_0001_01_000001/livy\">Link</a></td><td>✔</td></tr></table>"
      ],
      "text/plain": [
       "<IPython.core.display.HTML object>"
      ]
     },
     "metadata": {},
     "output_type": "display_data"
    },
    {
     "data": {
      "application/vnd.jupyter.widget-view+json": {
       "model_id": "",
       "version_major": 2,
       "version_minor": 0
      },
      "text/plain": [
       "FloatProgress(value=0.0, bar_style='info', description='Progress:', layout=Layout(height='25px', width='50%'),…"
      ]
     },
     "metadata": {},
     "output_type": "display_data"
    },
    {
     "name": "stdout",
     "output_type": "stream",
     "text": [
      "SparkSession available as 'spark'.\n"
     ]
    },
    {
     "data": {
      "application/vnd.jupyter.widget-view+json": {
       "model_id": "",
       "version_major": 2,
       "version_minor": 0
      },
      "text/plain": [
       "FloatProgress(value=0.0, bar_style='info', description='Progress:', layout=Layout(height='25px', width='50%'),…"
      ]
     },
     "metadata": {},
     "output_type": "display_data"
    },
    {
     "name": "stdout",
     "output_type": "stream",
     "text": [
      "<SparkContext master=yarn appName=livy-session-0>"
     ]
    }
   ],
   "source": [
    "sc"
   ]
  },
  {
   "cell_type": "code",
   "execution_count": null,
   "metadata": {},
   "outputs": [],
   "source": [
    "import time\n",
    "start = time.time()"
   ]
  },
  {
   "cell_type": "code",
   "execution_count": 2,
   "metadata": {},
   "outputs": [
    {
     "data": {
      "application/vnd.jupyter.widget-view+json": {
       "model_id": "6b3e02bacc4d49189e8dffed9af92442",
       "version_major": 2,
       "version_minor": 0
      },
      "text/plain": [
       "VBox()"
      ]
     },
     "metadata": {},
     "output_type": "display_data"
    },
    {
     "data": {
      "application/vnd.jupyter.widget-view+json": {
       "model_id": "",
       "version_major": 2,
       "version_minor": 0
      },
      "text/plain": [
       "FloatProgress(value=0.0, bar_style='info', description='Progress:', layout=Layout(height='25px', width='50%'),…"
      ]
     },
     "metadata": {},
     "output_type": "display_data"
    }
   ],
   "source": [
    "from pyspark import SparkContext\n",
    "from pyspark.sql import SparkSession\n",
    "\n",
    "\n",
    "\n",
    "sc = SparkContext.getOrCreate()\n",
    "ss = SparkSession.builder.getOrCreate()\n"
   ]
  },
  {
   "cell_type": "code",
   "execution_count": 3,
   "metadata": {},
   "outputs": [
    {
     "data": {
      "application/vnd.jupyter.widget-view+json": {
       "model_id": "96c8cbf039fc4d0c8a822ed6ac0b8c0f",
       "version_major": 2,
       "version_minor": 0
      },
      "text/plain": [
       "VBox()"
      ]
     },
     "metadata": {},
     "output_type": "display_data"
    },
    {
     "data": {
      "application/vnd.jupyter.widget-view+json": {
       "model_id": "",
       "version_major": 2,
       "version_minor": 0
      },
      "text/plain": [
       "FloatProgress(value=0.0, bar_style='info', description='Progress:', layout=Layout(height='25px', width='50%'),…"
      ]
     },
     "metadata": {},
     "output_type": "display_data"
    },
    {
     "name": "stdout",
     "output_type": "stream",
     "text": [
      "Collecting h2o-pysparkling-2.4\n",
      "  Downloading https://files.pythonhosted.org/packages/a0/4c/0b5c5f2e76d84a7b54875a14cf79523714c49f077d33af21ea9418b54abf/h2o_pysparkling_2.4-3.28.0.1-1.tar.gz (101.2MB)\n",
      "Collecting requests\n",
      "  Downloading https://files.pythonhosted.org/packages/51/bd/23c926cd341ea6b7dd0b2a00aba99ae0f828be89d72b2190f27c11d4b7fb/requests-2.22.0-py2.py3-none-any.whl (57kB)\n",
      "Collecting tabulate\n",
      "  Downloading https://files.pythonhosted.org/packages/c4/41/523f6a05e6dc3329a5660f6a81254c6cd87e5cfb5b7482bae3391d86ec3a/tabulate-0.8.6.tar.gz (45kB)\n",
      "Collecting future\n",
      "  Downloading https://files.pythonhosted.org/packages/45/0b/38b06fd9b92dc2b68d58b75f900e97884c45bedd2ff83203d933cf5851c9/future-0.18.2.tar.gz (829kB)\n",
      "Collecting colorama>=0.3.8\n",
      "  Downloading https://files.pythonhosted.org/packages/c9/dc/45cdef1b4d119eb96316b3117e6d5708a08029992b2fee2c143c7a0a5cc5/colorama-0.4.3-py2.py3-none-any.whl\n",
      "Requirement already satisfied: numpy>=1.9.2 in /usr/local/lib64/python3.6/site-packages (from h2o-pysparkling-2.4) (1.14.5)\n",
      "Collecting pyspark<=2.4.4,>=2.4.0\n",
      "  Downloading https://files.pythonhosted.org/packages/87/21/f05c186f4ddb01d15d0ddc36ef4b7e3cedbeb6412274a41f26b55a650ee5/pyspark-2.4.4.tar.gz (215.7MB)\n",
      "Collecting idna<2.9,>=2.5\n",
      "  Downloading https://files.pythonhosted.org/packages/14/2c/cd551d81dbe15200be1cf41cd03869a46fe7226e7450af7a6545bfc474c9/idna-2.8-py2.py3-none-any.whl (58kB)\n",
      "Collecting certifi>=2017.4.17\n",
      "  Downloading https://files.pythonhosted.org/packages/b9/63/df50cac98ea0d5b006c55a399c3bf1db9da7b5a24de7890bc9cfd5dd9e99/certifi-2019.11.28-py2.py3-none-any.whl (156kB)\n",
      "Collecting urllib3!=1.25.0,!=1.25.1,<1.26,>=1.21.1\n",
      "  Downloading https://files.pythonhosted.org/packages/b4/40/a9837291310ee1ccc242ceb6ebfd9eb21539649f193a7c8c86ba15b98539/urllib3-1.25.7-py2.py3-none-any.whl (125kB)\n",
      "Collecting chardet<3.1.0,>=3.0.2\n",
      "  Downloading https://files.pythonhosted.org/packages/bc/a9/01ffebfb562e4274b6487b4bb1ddec7ca55ec7510b22e4c51f14098443b8/chardet-3.0.4-py2.py3-none-any.whl (133kB)\n",
      "Collecting py4j==0.10.7\n",
      "  Downloading https://files.pythonhosted.org/packages/e3/53/c737818eb9a7dc32a7cd4f1396e787bd94200c3997c72c1dbe028587bd76/py4j-0.10.7-py2.py3-none-any.whl (197kB)\n",
      "Building wheels for collected packages: h2o-pysparkling-2.4, tabulate, future, pyspark\n",
      "  Building wheel for h2o-pysparkling-2.4 (setup.py): started\n",
      "  Building wheel for h2o-pysparkling-2.4 (setup.py): finished with status 'done'\n",
      "  Created wheel for h2o-pysparkling-2.4: filename=h2o_pysparkling_2.4-3.28.0.1.post1-py2.py3-none-any.whl size=101307807 sha256=0d37adfa93b6dd91b9c6b639495ab8d42514c9ade0bbbca20f3275045128eeb0\n",
      "  Stored in directory: /var/lib/livy/.cache/pip/wheels/0d/2f/d2/7e0c36c53b57ca597430858ab3d72e1a612a10780016ff6765\n",
      "  Building wheel for tabulate (setup.py): started\n",
      "  Building wheel for tabulate (setup.py): finished with status 'done'\n",
      "  Created wheel for tabulate: filename=tabulate-0.8.6-cp36-none-any.whl size=23271 sha256=5ad4f76001fce55fbc764a3c97aa09611dcc6f92a8793be05bad0f74e82f3398\n",
      "  Stored in directory: /var/lib/livy/.cache/pip/wheels/9c/9b/f4/eb243fdb89676ec00588e8c54bb54360724c06e7fafe95278e\n",
      "  Building wheel for future (setup.py): started\n",
      "  Building wheel for future (setup.py): finished with status 'done'\n",
      "  Created wheel for future: filename=future-0.18.2-cp36-none-any.whl size=491057 sha256=247f4559dbadc646e748621d656b3fac36a2abed506a869c2ec804d88c235bf6\n",
      "  Stored in directory: /var/lib/livy/.cache/pip/wheels/8b/99/a0/81daf51dcd359a9377b110a8a886b3895921802d2fc1b2397e\n",
      "  Building wheel for pyspark (setup.py): started\n",
      "  Building wheel for pyspark (setup.py): finished with status 'done'\n",
      "  Created wheel for pyspark: filename=pyspark-2.4.4-py2.py3-none-any.whl size=216130387 sha256=6ae5263c58b19ea62871f0fdd038b7923dc4637db3265798ed8da1c031b54d25\n",
      "  Stored in directory: /var/lib/livy/.cache/pip/wheels/ab/09/4d/0d184230058e654eb1b04467dbc1292f00eaa186544604b471\n",
      "Successfully built h2o-pysparkling-2.4 tabulate future pyspark\n",
      "Installing collected packages: idna, certifi, urllib3, chardet, requests, tabulate, future, colorama, py4j, pyspark, h2o-pysparkling-2.4\n",
      "Successfully installed certifi-2019.11.28 chardet-3.0.4 colorama-0.4.3 future-0.18.2 h2o-pysparkling-2.4-3.28.0.1.post1 idna-2.8 py4j-0.10.7 pyspark-2.4.4 requests-2.22.0 tabulate-0.8.6 urllib3-1.25.7\n",
      "\n",
      "Collecting h2o\n",
      "  Downloading https://files.pythonhosted.org/packages/6b/d1/aaa74df4716b2454d6034261807ef3855d014862c801f0e9b803b568006d/h2o-3.28.0.1.tar.gz (123.4MB)\n",
      "Requirement already satisfied: requests in /mnt/tmp/1579226794613-0/lib/python3.6/site-packages (from h2o) (2.22.0)\n",
      "Requirement already satisfied: tabulate in /mnt/tmp/1579226794613-0/lib/python3.6/site-packages (from h2o) (0.8.6)\n",
      "Requirement already satisfied: future in /mnt/tmp/1579226794613-0/lib/python3.6/site-packages (from h2o) (0.18.2)\n",
      "Requirement already satisfied: colorama>=0.3.8 in /mnt/tmp/1579226794613-0/lib/python3.6/site-packages (from h2o) (0.4.3)\n",
      "Requirement already satisfied: idna<2.9,>=2.5 in /mnt/tmp/1579226794613-0/lib/python3.6/site-packages (from requests->h2o) (2.8)\n",
      "Requirement already satisfied: certifi>=2017.4.17 in /mnt/tmp/1579226794613-0/lib/python3.6/site-packages (from requests->h2o) (2019.11.28)\n",
      "Requirement already satisfied: urllib3!=1.25.0,!=1.25.1,<1.26,>=1.21.1 in /mnt/tmp/1579226794613-0/lib/python3.6/site-packages (from requests->h2o) (1.25.7)\n",
      "Requirement already satisfied: chardet<3.1.0,>=3.0.2 in /mnt/tmp/1579226794613-0/lib/python3.6/site-packages (from requests->h2o) (3.0.4)\n",
      "Building wheels for collected packages: h2o\n",
      "  Building wheel for h2o (setup.py): started\n",
      "  Building wheel for h2o (setup.py): finished with status 'done'\n",
      "  Created wheel for h2o: filename=h2o-3.28.0.1-py2.py3-none-any.whl size=123410554 sha256=08f86898680483473df0ce227ba507e65d4e93d635d7905c1b7d4cc7fc54ca22\n",
      "  Stored in directory: /var/lib/livy/.cache/pip/wheels/ff/82/f4/3fe9c895b93c53b25ae44dc44aa54dad571c711f48bc485fe9\n",
      "Successfully built h2o\n",
      "Installing collected packages: h2o\n",
      "Successfully installed h2o-3.28.0.1\n",
      "\n",
      "ERROR: python36-sagemaker-pyspark 1.2.6 has requirement pyspark==2.3.2, but you'll have pyspark 2.4.4 which is incompatible."
     ]
    }
   ],
   "source": [
    "sc.install_pypi_package('h2o-pysparkling-2.4')\n",
    "sc.install_pypi_package('h2o')"
   ]
  },
  {
   "cell_type": "code",
   "execution_count": 4,
   "metadata": {
    "scrolled": true
   },
   "outputs": [
    {
     "data": {
      "application/vnd.jupyter.widget-view+json": {
       "model_id": "0127741947594aed8522840d5ab57432",
       "version_major": 2,
       "version_minor": 0
      },
      "text/plain": [
       "VBox()"
      ]
     },
     "metadata": {},
     "output_type": "display_data"
    },
    {
     "data": {
      "application/vnd.jupyter.widget-view+json": {
       "model_id": "",
       "version_major": 2,
       "version_minor": 0
      },
      "text/plain": [
       "FloatProgress(value=0.0, bar_style='info', description='Progress:', layout=Layout(height='25px', width='50%'),…"
      ]
     },
     "metadata": {},
     "output_type": "display_data"
    },
    {
     "name": "stdout",
     "output_type": "stream",
     "text": [
      "Checking whether there is an H2O instance running at http://localhost:54321 ..... not found.\n",
      "Attempting to start a local H2O server...\n",
      "  Java Version: openjdk version \"1.8.0_232\"; OpenJDK Runtime Environment (build 1.8.0_232-b09); OpenJDK 64-Bit Server VM (build 25.232-b09, mixed mode)\n",
      "  Starting server from /mnt/tmp/1579226794613-0/lib/python3.6/site-packages/h2o/backend/bin/h2o.jar\n",
      "  Ice root: /tmp/tmpnoqdor26\n",
      "  JVM stdout: /tmp/tmpnoqdor26/h2o_livy_started_from_python.out\n",
      "  JVM stderr: /tmp/tmpnoqdor26/h2o_livy_started_from_python.err\n",
      "  Server is running at http://127.0.0.1:54321\n",
      "Connecting to H2O server at http://127.0.0.1:54321 ... successful.\n",
      "--------------------------  ------------------------------------------------------------------\n",
      "H2O cluster uptime:         01 secs\n",
      "H2O cluster timezone:       Etc/UCT\n",
      "H2O data parsing timezone:  UTC\n",
      "H2O cluster version:        3.28.0.1\n",
      "H2O cluster version age:    1 month\n",
      "H2O cluster name:           H2O_from_python_livy_lys6ze\n",
      "H2O cluster total nodes:    1\n",
      "H2O cluster free memory:    6.809 Gb\n",
      "H2O cluster total cores:    8\n",
      "H2O cluster allowed cores:  8\n",
      "H2O cluster status:         accepting new members, healthy\n",
      "H2O connection url:         http://127.0.0.1:54321\n",
      "H2O connection proxy:       {'http': None, 'https': None}\n",
      "H2O internal security:      False\n",
      "H2O API Extensions:         Amazon S3, XGBoost, Algos, AutoML, Core V3, TargetEncoder, Core V4\n",
      "Python version:             3.6.8 final\n",
      "--------------------------  ------------------------------------------------------------------"
     ]
    }
   ],
   "source": [
    "from pysparkling import *\n",
    "import h2o\n",
    "h2o.init()"
   ]
  },
  {
   "cell_type": "code",
   "execution_count": 5,
   "metadata": {},
   "outputs": [
    {
     "data": {
      "application/vnd.jupyter.widget-view+json": {
       "model_id": "40b2e7b81abd41ce8e203d15fb9d37ff",
       "version_major": 2,
       "version_minor": 0
      },
      "text/plain": [
       "VBox()"
      ]
     },
     "metadata": {},
     "output_type": "display_data"
    },
    {
     "data": {
      "application/vnd.jupyter.widget-view+json": {
       "model_id": "",
       "version_major": 2,
       "version_minor": 0
      },
      "text/plain": [
       "FloatProgress(value=0.0, bar_style='info', description='Progress:', layout=Layout(height='25px', width='50%'),…"
      ]
     },
     "metadata": {},
     "output_type": "display_data"
    }
   ],
   "source": [
    "## read from S3"
   ]
  },
  {
   "cell_type": "code",
   "execution_count": 39,
   "metadata": {},
   "outputs": [
    {
     "data": {
      "application/vnd.jupyter.widget-view+json": {
       "model_id": "bee88fe8d26449cababd82d8cccab6bf",
       "version_major": 2,
       "version_minor": 0
      },
      "text/plain": [
       "VBox()"
      ]
     },
     "metadata": {},
     "output_type": "display_data"
    },
    {
     "data": {
      "application/vnd.jupyter.widget-view+json": {
       "model_id": "",
       "version_major": 2,
       "version_minor": 0
      },
      "text/plain": [
       "FloatProgress(value=0.0, bar_style='info', description='Progress:', layout=Layout(height='25px', width='50%'),…"
      ]
     },
     "metadata": {},
     "output_type": "display_data"
    },
    {
     "name": "stdout",
     "output_type": "stream",
     "text": [
      "Parse progress: [#########################################################] 100%"
     ]
    }
   ],
   "source": [
    "h2o_LA_left_lag30 = h2o.import_file(\n",
    "    \"s3a://dc-group2/h2o_LA_left_lag30.csv\")"
   ]
  },
  {
   "cell_type": "code",
   "execution_count": 40,
   "metadata": {},
   "outputs": [
    {
     "data": {
      "application/vnd.jupyter.widget-view+json": {
       "model_id": "ce8ee6784fa2454185995ed122a4c2f6",
       "version_major": 2,
       "version_minor": 0
      },
      "text/plain": [
       "VBox()"
      ]
     },
     "metadata": {},
     "output_type": "display_data"
    },
    {
     "data": {
      "application/vnd.jupyter.widget-view+json": {
       "model_id": "",
       "version_major": 2,
       "version_minor": 0
      },
      "text/plain": [
       "FloatProgress(value=0.0, bar_style='info', description='Progress:', layout=Layout(height='25px', width='50%'),…"
      ]
     },
     "metadata": {},
     "output_type": "display_data"
    },
    {
     "name": "stdout",
     "output_type": "stream",
     "text": [
      "  year    month    day    dow    label    imputed_wind_speed    imputed_temp    imputed_pressure    imputed_humidity    imputed_wind_direction    prev1    prev2    prev3    prev4    prev5    prev6    prev7    prev8    prev9    prev10    prev11    prev12    prev13    prev14    prev15    prev16    prev17    prev18    prev19    prev20    prev21    prev22    prev23    prev24    prev25    prev26    prev27    prev28    prev29    prev30\n",
      "------  -------  -----  -----  -------  --------------------  --------------  ------------------  ------------------  ------------------------  -------  -------  -------  -------  -------  -------  -------  -------  -------  --------  --------  --------  --------  --------  --------  --------  --------  --------  --------  --------  --------  --------  --------  --------  --------  --------  --------  --------  --------  --------\n",
      "  1980        1     31      5      106               3.15382         63.5406             988.592             63.2639                   184.529      100       89       89       79       79      168      193      135      116       138       123       100        57        89        89        68        47        43        43        68        68        79        89       105       125       142       159       114       120       159\n",
      "  1980        2      1      6      105               3.15382         63.5406             988.592             63.2639                   184.529      106      100       89       89       79       79      168      193      135       116       138       123       100        57        89        89        68        47        43        43        68        68        79        89       105       125       142       159       114       120\n",
      "  1980        2      2      7      123               3.15382         63.5406             988.592             63.2639                   184.529      105      106      100       89       89       79       79      168      193       135       116       138       123       100        57        89        89        68        47        43        43        68        68        79        89       105       125       142       159       114\n",
      "  1980        2      3      1      120               3.15382         63.5406             988.592             63.2639                   184.529      123      105      106      100       89       89       79       79      168       193       135       116       138       123       100        57        89        89        68        47        43        43        68        68        79        89       105       125       142       159\n",
      "  1980        2      4      2      206               3.15382         63.5406             988.592             63.2639                   184.529      120      123      105      106      100       89       89       79       79       168       193       135       116       138       123       100        57        89        89        68        47        43        43        68        68        79        89       105       125       142\n",
      "  1980        2      5      3      170               3.15382         63.5406             988.592             63.2639                   184.529      206      120      123      105      106      100       89       89       79        79       168       193       135       116       138       123       100        57        89        89        68        47        43        43        68        68        79        89       105       125\n",
      "  1980        2      6      4      142               3.15382         63.5406             988.592             63.2639                   184.529      170      206      120      123      105      106      100       89       89        79        79       168       193       135       116       138       123       100        57        89        89        68        47        43        43        68        68        79        89       105\n",
      "  1980        2      7      5      103               3.15382         63.5406             988.592             63.2639                   184.529      142      170      206      120      123      105      106      100       89        89        79        79       168       193       135       116       138       123       100        57        89        89        68        47        43        43        68        68        79        89\n",
      "  1980        2      8      6      103               3.15382         63.5406             988.592             63.2639                   184.529      103      142      170      206      120      123      105      106      100        89        89        79        79       168       193       135       116       138       123       100        57        89        89        68        47        43        43        68        68        79\n",
      "  1980        2      9      7      158               3.15382         63.5406             988.592             63.2639                   184.529      103      103      142      170      206      120      123      105      106       100        89        89        79        79       168       193       135       116       138       123       100        57        89        89        68        47        43        43        68        68\n",
      "\n",
      "[14397 rows x 40 columns]"
     ]
    }
   ],
   "source": [
    "h2o_LA_left_lag30.set_names(['year', 'month', 'day', 'dow', 'label', 'imputed_wind_speed', 'imputed_temp', 'imputed_pressure', 'imputed_humidity', 'imputed_wind_direction', 'prev1', 'prev2', 'prev3', 'prev4', 'prev5', 'prev6', 'prev7', 'prev8', 'prev9', 'prev10', 'prev11', 'prev12', 'prev13', 'prev14', 'prev15', 'prev16', 'prev17', 'prev18', 'prev19', 'prev20', 'prev21', 'prev22', 'prev23', 'prev24', 'prev25', 'prev26', 'prev27', 'prev28', 'prev29', 'prev30'])"
   ]
  },
  {
   "cell_type": "code",
   "execution_count": 42,
   "metadata": {},
   "outputs": [
    {
     "data": {
      "application/vnd.jupyter.widget-view+json": {
       "model_id": "1bb34cf6403f4fc0b9f537c555fb2c4b",
       "version_major": 2,
       "version_minor": 0
      },
      "text/plain": [
       "VBox()"
      ]
     },
     "metadata": {},
     "output_type": "display_data"
    },
    {
     "data": {
      "application/vnd.jupyter.widget-view+json": {
       "model_id": "",
       "version_major": 2,
       "version_minor": 0
      },
      "text/plain": [
       "FloatProgress(value=0.0, bar_style='info', description='Progress:', layout=Layout(height='25px', width='50%'),…"
      ]
     },
     "metadata": {},
     "output_type": "display_data"
    }
   ],
   "source": [
    "predictors = h2o_LA_left_lag30.names\n",
    "response = \"label\"\n",
    "predictors.remove(response)"
   ]
  },
  {
   "cell_type": "code",
   "execution_count": 48,
   "metadata": {},
   "outputs": [
    {
     "data": {
      "application/vnd.jupyter.widget-view+json": {
       "model_id": "",
       "version_major": 2,
       "version_minor": 0
      },
      "text/plain": [
       "VBox()"
      ]
     },
     "metadata": {},
     "output_type": "display_data"
    },
    {
     "data": {
      "application/vnd.jupyter.widget-view+json": {
       "model_id": "",
       "version_major": 2,
       "version_minor": 0
      },
      "text/plain": [
       "FloatProgress(value=0.0, bar_style='info', description='Progress:', layout=Layout(height='25px', width='50%'),…"
      ]
     },
     "metadata": {},
     "output_type": "display_data"
    },
    {
     "name": "stdout",
     "output_type": "stream",
     "text": [
      "deeplearning Model Build progress: [######################################] 100%"
     ]
    }
   ],
   "source": [
    "from h2o.estimators.deeplearning import H2ODeepLearningEstimator\n",
    "model_dl = H2ODeepLearningEstimator(variable_importances=True,\n",
    "                                    nfolds=3,\n",
    "                                    fold_assignment=\"Modulo\",\n",
    "                                    keep_cross_validation_predictions=True,\n",
    "                                    loss=\"Automatic\")\n",
    "\n",
    "model_dl.train(x=predictors,\n",
    "               y=\"label\",\n",
    "               training_frame=h2o_LA_left_lag30)"
   ]
  },
  {
   "cell_type": "code",
   "execution_count": 49,
   "metadata": {
    "scrolled": false
   },
   "outputs": [
    {
     "data": {
      "application/vnd.jupyter.widget-view+json": {
       "model_id": "d0306d9b99814fb098db3df215466edd",
       "version_major": 2,
       "version_minor": 0
      },
      "text/plain": [
       "VBox()"
      ]
     },
     "metadata": {},
     "output_type": "display_data"
    },
    {
     "data": {
      "application/vnd.jupyter.widget-view+json": {
       "model_id": "",
       "version_major": 2,
       "version_minor": 0
      },
      "text/plain": [
       "FloatProgress(value=0.0, bar_style='info', description='Progress:', layout=Layout(height='25px', width='50%'),…"
      ]
     },
     "metadata": {},
     "output_type": "display_data"
    },
    {
     "name": "stdout",
     "output_type": "stream",
     "text": [
      "Model Details\n",
      "=============\n",
      "H2ODeepLearningEstimator :  Deep Learning\n",
      "Model Key:  DeepLearning_model_python_1579226891109_1\n",
      "\n",
      "\n",
      "Status of Neuron Layers: predicting label, regression, gaussian distribution, Quadratic loss, 48,401 weights/biases, 585.6 KB, 150,833 training samples, mini-batch size 1\n",
      "    layer    units    type       dropout    l1    l2    mean_rate              rate_rms               momentum    mean_weight            weight_rms           mean_bias            bias_rms\n",
      "--  -------  -------  ---------  ---------  ----  ----  ---------------------  ---------------------  ----------  ---------------------  -------------------  -------------------  -----------------------\n",
      "    1        39       Input      0.0\n",
      "    2        200      Rectifier  0.0        0.0   0.0   0.009081469680367707   0.009372662752866745   0.0         -0.010522196201984628  0.12462973594665527  0.3603261353532649   0.08536380529403687\n",
      "    3        200      Rectifier  0.0        0.0   0.0   0.07261116620969697    0.0765705406665802     0.0         -0.02570183943061172   0.08459502458572388  0.9138970409081779   0.047542572021484375\n",
      "    4        1        Linear                0.0   0.0   0.0008588951614001417  0.0004020292544737458  0.0         0.014705706522945547   0.0648030936717987   0.05859832255123476  1.0971281125650402e-154\n",
      "\n",
      "\n",
      "ModelMetricsRegression: deeplearning\n",
      "** Reported on train data. **\n",
      "\n",
      "MSE: 874.0718898062858\n",
      "RMSE: 29.56470682767353\n",
      "MAE: 22.04761806398578\n",
      "RMSLE: 0.2611858743437166\n",
      "Mean Residual Deviance: 874.0718898062858\n",
      "\n",
      "ModelMetricsRegression: deeplearning\n",
      "** Reported on cross-validation data. **\n",
      "\n",
      "MSE: 1190.9334410731951\n",
      "RMSE: 34.50990352164426\n",
      "MAE: 25.792795627458577\n",
      "RMSLE: 0.2994475557096092\n",
      "Mean Residual Deviance: 1190.9334410731951\n",
      "\n",
      "Cross-Validation Metrics Summary: \n",
      "                        mean      sd          cv_1_valid    cv_2_valid    cv_3_valid\n",
      "----------------------  --------  ----------  ------------  ------------  ------------\n",
      "mae                     25.7928   0.948352    25.4543       26.8639       25.0601\n",
      "mean_residual_deviance  1190.93   95.29       1260.58       1229.88       1082.34\n",
      "mse                     1190.93   95.29       1260.58       1229.88       1082.34\n",
      "r2                      0.691307  0.0246734   0.673197      0.681314      0.719409\n",
      "residual_deviance       1190.93   95.29       1260.58       1229.88       1082.34\n",
      "rmse                    34.4911   1.3959      35.5046       35.0697       32.8989\n",
      "rmsle                   0.299377  0.00797853  0.293519      0.308464      0.296148\n",
      "\n",
      "Scoring History: \n",
      "    timestamp            duration    training_speed    epochs    iterations    samples    training_rmse    training_deviance    training_mae    training_r2\n",
      "--  -------------------  ----------  ----------------  --------  ------------  ---------  ---------------  -------------------  --------------  -------------\n",
      "    2020-01-17 02:52:29  0.000 sec                     0         0             0          nan              nan                  nan             nan\n",
      "    2020-01-17 02:52:30  19.122 sec  10579 obs/sec     1.04786   1             15086      33.5098          1122.91              25.4802         0.706159\n",
      "    2020-01-17 02:52:35  24.382 sec  18351 obs/sec     8.38098   8             120661     30.0494          902.964              22.4836         0.763714\n",
      "    2020-01-17 02:52:37  25.789 sec  19187 obs/sec     10.4767   10            150833     29.5647          874.072              22.0476         0.771274\n",
      "\n",
      "Variable Importances: \n",
      "variable                relative_importance    scaled_importance    percentage\n",
      "----------------------  ---------------------  -------------------  --------------------\n",
      "prev1                   1.0                    1.0                  0.06613095671003164\n",
      "month                   0.6505109667778015     0.6505109667778015   0.04301891258338362\n",
      "year                    0.5039317607879639     0.5039317607879639   0.03332548945747885\n",
      "imputed_temp            0.4688131809234619     0.4688131809234619   0.03100306417274169\n",
      "prev2                   0.42130187153816223    0.42130187153816223  0.027861095828545516\n",
      "---                     ---                    ---                  ---\n",
      "prev19                  0.330500990152359      0.330500990152359    0.021856346672388244\n",
      "imputed_wind_direction  0.3292309641838074     0.3292309641838074   0.02177235864004134\n",
      "prev26                  0.32516881823539734    0.32516881823539734  0.021503725042177207\n",
      "prev28                  0.32024115324020386    0.32024115324020386  0.02117785384169853\n",
      "prev11                  0.3107853829860687     0.3107853829860687   0.020552534708362314"
     ]
    }
   ],
   "source": [
    "model_dl"
   ]
  },
  {
   "cell_type": "code",
   "execution_count": null,
   "metadata": {},
   "outputs": [],
   "source": [
    "end = time.time()\n",
    "gap = end - start\n",
    "print(gap)"
   ]
  }
 ],
 "metadata": {
  "kernelspec": {
   "display_name": "PySpark",
   "language": "",
   "name": "pysparkkernel"
  },
  "language_info": {
   "codemirror_mode": {
    "name": "python",
    "version": 2
   },
   "mimetype": "text/x-python",
   "name": "pyspark",
   "pygments_lexer": "python2"
  }
 },
 "nbformat": 4,
 "nbformat_minor": 2
}
